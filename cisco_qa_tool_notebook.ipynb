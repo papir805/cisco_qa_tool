{
 "cells": [
  {
   "cell_type": "code",
   "execution_count": 1,
   "id": "e1629a30-1399-434c-a231-92468edee41b",
   "metadata": {},
   "outputs": [],
   "source": [
    "from requests_html import HTMLResponse\n",
    "\n",
    "from dotenv import find_dotenv, load_dotenv\n",
    "\n",
    "import os\n",
    "\n",
    "import langchain"
   ]
  },
  {
   "cell_type": "code",
   "execution_count": 2,
   "id": "fae6c604-2567-4430-b13d-66d115b7066c",
   "metadata": {},
   "outputs": [
    {
     "data": {
      "text/plain": [
       "True"
      ]
     },
     "execution_count": 2,
     "metadata": {},
     "output_type": "execute_result"
    }
   ],
   "source": [
    "load_dotenv(find_dotenv(\"../.env\"))"
   ]
  },
  {
   "cell_type": "code",
   "execution_count": 3,
   "id": "c5c6b851-a11c-4f77-a42b-6ca42164bda3",
   "metadata": {},
   "outputs": [],
   "source": [
    "db_path = os.getenv('DB_PATH')\n",
    "proxy_name = os.getenv('PROXY_NAME')\n",
    "proxy_password = os.getenv('PROXY_PASSWORD')\n",
    "proxy_url = os.getenv('PROXY_URL')\n",
    "proxy_port = os.getenv('PROXY_PORT')"
   ]
  },
  {
   "cell_type": "code",
   "execution_count": 4,
   "id": "7a462160-c7f4-4845-903c-11cfeb3fd0c7",
   "metadata": {},
   "outputs": [],
   "source": [
    "PROXIES = {\"http\":f\"http://{proxy_name}:{proxy_password}@{proxy_url}:{proxy_port}\",\n",
    "           \"https\":f\"http://{proxy_name}:{proxy_password}@{proxy_url}:{proxy_port}\"}"
   ]
  },
  {
   "cell_type": "code",
   "execution_count": 5,
   "id": "84846465-3ed1-4d49-848a-bf3853675a67",
   "metadata": {},
   "outputs": [],
   "source": [
    "website = 'www.cisco.com'\n",
    "additional_keywords = 'data sheet'"
   ]
  },
  {
   "cell_type": "markdown",
   "id": "6dd57fb6-d456-4a6b-9a16-d173e809e961",
   "metadata": {},
   "source": [
    "# get_source"
   ]
  },
  {
   "cell_type": "code",
   "execution_count": 6,
   "id": "14330baa-6379-4b6e-b48b-cbc2161a503c",
   "metadata": {},
   "outputs": [],
   "source": [
    "## Code found from https://practicaldatascience.co.uk/data-science/how-to-scrape-google-search-results-using-python, with minor adjustments by myself.\n",
    "\n",
    "def get_source(url: str, PROXIES: dict = None) -> HTMLResponse:\n",
    "    \"\"\"Return the source code for the provided URL.\n",
    "    \n",
    "    Args:\n",
    "        url (string): URL of the page to scrape.\n",
    "        PROXIES (dict): dictionary of proxy IP addresses to use for HTTP requests\n",
    "        \n",
    "    Returns:\n",
    "        response (object): HTTP response object.\n",
    "    \"\"\"  \n",
    "    \n",
    "    from fake_useragent import UserAgent\n",
    "    \n",
    "    import requests\n",
    "    from requests.adapters import HTTPAdapter\n",
    "    \n",
    "    from requests_html import HTMLSession\n",
    "    \n",
    "    from urllib3.util.retry import Retry\n",
    "    \n",
    "    # Randomly generate headers to make HTTP get requests look like a user and not a bot\n",
    "    headers = {}\n",
    "    headers[\"User-Agent\"] = UserAgent().random\n",
    "    \n",
    "    # Initiate HTML session and set rules for retrying HTTP get requests upon failure\n",
    "    session = HTMLSession()\n",
    "    retry = Retry(connect=3, backoff_factor=0.5)\n",
    "    adapter = HTTPAdapter(max_retries=retry)\n",
    "    session.mount('http://', adapter)\n",
    "    session.mount('https://', adapter)\n",
    "\n",
    "    # Initiate HTTP get request\n",
    "    response = session.get(url, headers=headers, proxies=PROXIES)\n",
    "    \n",
    "    return response"
   ]
  },
  {
   "cell_type": "code",
   "execution_count": 7,
   "id": "a1f0137f-bc9e-4a56-a1ee-76ba0bb674fd",
   "metadata": {},
   "outputs": [
    {
     "data": {
      "text/plain": [
       "<Response [200]>"
      ]
     },
     "execution_count": 7,
     "metadata": {},
     "output_type": "execute_result"
    }
   ],
   "source": [
    "get_source(\"https://papir805.github.io\")"
   ]
  },
  {
   "cell_type": "markdown",
   "id": "ad7bf5d0-fa3e-4162-b3d5-846f2275ee13",
   "metadata": {},
   "source": [
    "# scrape_google"
   ]
  },
  {
   "cell_type": "code",
   "execution_count": 89,
   "id": "169b9fb7-c89e-49f4-910d-50007c7d1184",
   "metadata": {},
   "outputs": [],
   "source": [
    "def scrape_google(website_url: str, \n",
    "                  product_name: str, \n",
    "                  additional_search_keywords: str = 'none',\n",
    "                  language_code: str = 'en',\n",
    "                  PROXIES: dict = None,\n",
    "                  verbose: bool = False) -> list:\n",
    "    \"\"\"Return a list of URLs corresponding to a Google search focusing on a particular website.  Results from certain URLs that don't contain walkthroughs are excluded based on the URL's prefixes and suffixes.\n",
    "\n",
    "    Args:\n",
    "        website_url (string): URL for Google to focus its search on.  Example: www.yoururlhere.com\n",
    "        product_name (string): Name of the product to search for information on.\n",
    "        additional_search_keywords (string): Any additional text you want to include in the search to help refine the results.\n",
    "        language_code (boolean): Specifies which language to return search results in.\n",
    "        PROXIES (dict): proxy IP addresses to use for HTTP requests\n",
    "        verbose (boolean): Used for debugging\n",
    "\n",
    "    Returns:\n",
    "        links (list): A list of URLs corresponding to most recommended walkthroughs from www.gamefaqs.com for video_game_title on video_game_system.\n",
    "    \"\"\"\n",
    "    import urllib\n",
    "    \n",
    "    # Combine user input to construct the query used for the Google search\n",
    "    search_args = [website_url, product_name, additional_search_keywords]\n",
    "    joined_search_args = \" \".join(search_args)\n",
    "    query_suffix = urllib.parse.quote_plus(joined_search_args)  \n",
    "    query = f\"https://www.google.com/search?q=site%3A{query_suffix}&lr=lang_{language_code}\"\n",
    "    \n",
    "    if verbose:\n",
    "        print(query_suffix)\n",
    "        print(query)\n",
    "    \n",
    "    # Initiate HTTP get request and scrape the URLs of the links corresponding to the search results\n",
    "    response = get_source(query, PROXIES)\n",
    "    links = list(response.html.absolute_links)\n",
    "    \n",
    "    # Establish criteria to remove search results corresponding to Google domains that contain information we don't care about\n",
    "    google_domains = ('https://www.google.', \n",
    "                      'https://google.', \n",
    "                      'https://webcache.googleusercontent.', \n",
    "                      'http://webcache.googleusercontent.', \n",
    "                      'https://policies.google.',\n",
    "                      'https://support.google.',\n",
    "                      'https://maps.google.',\n",
    "                      'https://translate.google.')\n",
    "    suffixes = ()\n",
    "    \n",
    "    if verbose==True:\n",
    "        print(f\"{len(links)} links found initially.  Removing links that aren't useful.\")\n",
    "        print(links)\n",
    "    \n",
    "    # Remove search results based on the criteria established earlier\n",
    "    for url in links[:]:\n",
    "        if url.startswith(google_domains):\n",
    "            links.remove(url)\n",
    "        if url.endswith(suffixes):\n",
    "            links.remove(url)\n",
    "    \n",
    "    # Sort remaining links\n",
    "    links.sort()\n",
    "    \n",
    "    print(f\"{len(links)} useful links found.\")\n",
    "    \n",
    "    return links"
   ]
  },
  {
   "cell_type": "code",
   "execution_count": 90,
   "id": "1a36a095-c840-476f-bb46-c86736de08bc",
   "metadata": {},
   "outputs": [
    {
     "name": "stdout",
     "output_type": "stream",
     "text": [
      "www.cisco.com+catalyst+9400+data+sheet\n",
      "https://www.google.com/search?q=site%3Awww.cisco.com+catalyst+9400+data+sheet&lr=lang_en\n",
      "30 links found initially.  Removing links that aren't useful.\n",
      "['https://www.cisco.com/c/en/us/products/collateral/switches/catalyst-9400-series-switches/nb-06-cat9400-series-line-data-sheet-cte-en.html#:~:text=FAQ-,Learn%20more', 'https://www.google.com/webhp?hl=en&sa=X&ved=0ahUKEwj49P70yriBAxXlKEQIHUTECtcQPAgJ', 'https://www.google.com/search?lr=lang_en&sca_esv=566849429&tbs=lr:lang_1en&q=site:www.cisco.com+catalyst+9400+data+sheet&tbm=isch&source=lnms&sa=X&ved=2ahUKEwj49P70yriBAxXlKEQIHUTECtcQ0pQJegQIDhAB', 'https://www.cisco.com/c/en/us/products/collateral/switches/catalyst-9400-series-switches/nb-06-cat9400-ser-sup-eng-data-sheet-cte-en.html#:~:text=FAQ-,Learn%20more', 'https://support.google.com/websearch/answer/181196?hl=en', 'https://www.google.com/search?lr=lang_en&sca_esv=566849429&tbs=lr:lang_1en&q=site:www.cisco.com+catalyst+9400+data+sheet&tbm=nws&source=lnms&sa=X&ved=2ahUKEwj49P70yriBAxXlKEQIHUTECtcQ0pQJegQICxAB', 'https://www.cisco.com/c/en/us/products/collateral/switches/catalyst-9400-series-switches/nb-06-cat9400-architecture-cte-en.html', 'https://www.google.com/search?q=site:www.cisco.com+catalyst+9400+data+sheet&lr=lang_en&sca_esv=566849429&gbv=1&sei=YZQKZbjAKuXRkPIPxIiruA0', 'https://www.cisco.com/c/en/us/products/collateral/switches/catalyst-9400-series-switches/nb-06-cat9400-series-line-data-sheet-cte-en.html', 'https://www.cisco.com/c/en/us/products/switches/catalyst-9400-series-switches/datasheet-listing.html', 'https://www.cisco.com/c/en/us/products/collateral/switches/catalyst-9400-series-switches/nb-06-cat9400-ser-data-sheet-cte-en.html', 'https://www.cisco.com/c/en_hk/products/switches/catalyst-9400-series-switches/index.html#:~:text=Catalyst%209400%207%2Dslot', 'https://www.cisco.com/c/en/us/products/collateral/switches/catalyst-9400-series-switches/nb-06-cat9400-series-line-data-sheet-cte-en.html#:~:text=Your%20organization%2C%20your%20operational%20needs,-Choose%20the%20management%20platform%20that', 'https://www.cisco.com/c/en/us/products/collateral/switches/nexus-9000-series-switches/nexus9400-series-switches-ds.html', 'https://www.cisco.com/c/en/us/products/collateral/switches/catalyst-9400-series-switches/nb-06-cat9400-ser-data-sheet-cte-en.html#:~:text=Your%20organization%2C%20your%20operational%20needs,-Choose%20the%20management%20platform%20that', 'https://www.cisco.com/c/en/us/products/collateral/switches/catalyst-9400-series-switches/nb-06-cat9400-ser-sup-eng-data-sheet-cte-en.html', 'https://www.cisco.com/c/en/us/support/switches/catalyst-9400-series-switches/series.html', 'https://www.cisco.com/c/en/us/products/collateral/switches/catalyst-9400-series-switches/nb-06-cat9400-ser-sup-eng-data-sheet-cte-en.html#:~:text=Your%20organization%2C%20your%20operational%20needs,-Choose%20the%20management%20platform%20that', 'https://www.cisco.com/c/en/us/products/collateral/switches/catalyst-9400-series-switches/nb-06-cat9400-series-line-data-sheet-cte-en.html#:~:text=Cisco%20Catalyst%209400%20Series%20Switch%20Line%20Cards%20Data%20Sheet,-Data%20Sheet', 'https://www.cisco.com/c/en/us/products/collateral/switches/catalyst-9400-series-switches/nb-06-cat9400-ser-sup-eng-data-sheet-cte-en.html#:~:text=Cisco%20Catalyst%209400%20Supervisor%20Engine%20Modules%20Data%20Sheet,-Data%20Sheet', 'https://www.cisco.com/c/en_hk/products/switches/catalyst-9400-series-switches/index.html#:~:text=Features%20and%20benefits', 'https://www.google.com/search?q=site:www.cisco.com+catalyst+9400+data+sheet&lr=lang_en&sca_esv=566849429&tbs=lr:lang_1en&ei=YZQKZbjAKuXRkPIPxIiruA0&start=10&sa=N', 'https://www.cisco.com/site/us/en/products/networking/switches/catalyst-9400-series-switches/index.html', 'https://www.cisco.com/c/en_hk/products/switches/catalyst-9400-series-switches/index.html', 'https://www.cisco.com/c/en_hk/products/switches/catalyst-9400-series-switches/index.html#:~:text=Access-,Cisco%20Catalyst%209400%20Series%20Switches', 'https://www.google.com/search?lr=lang_en&sca_esv=566849429&tbs=lr:lang_1en&q=site:www.cisco.com+catalyst+9400+data+sheet&tbm=shop&source=lnms&sa=X&ved=2ahUKEwj49P70yriBAxXlKEQIHUTECtcQ0pQJegQIDBAB', 'https://www.google.com/search?lr=lang_en&sca_esv=566849429&tbs=lr:lang_1en&q=site:www.cisco.com+catalyst+9400+data+sheet&tbm=vid&source=lnms&sa=X&ved=2ahUKEwj49P70yriBAxXlKEQIHUTECtcQ0pQJegQIDRAB', 'https://www.cisco.com/c/en/us/products/switches/catalyst-9400-series-switches/datasheet-listing.tab2.html', 'https://www.cisco.com/c/en/us/products/collateral/switches/catalyst-9400-series-switches/nb-06-cat9400-ser-data-sheet-cte-en.html#:~:text=FAQ-,Learn%20more', 'https://www.cisco.com/c/en/us/products/collateral/switches/catalyst-9400-series-switches/nb-06-cat9400-ser-data-sheet-cte-en.html#:~:text=Cisco%20Catalyst%209400%20Series%20Switch%20Data%20Sheet,-Data%20Sheet']\n",
      "22 useful links found.\n"
     ]
    },
    {
     "data": {
      "text/plain": [
       "['https://www.cisco.com/c/en/us/products/collateral/switches/catalyst-9400-series-switches/nb-06-cat9400-architecture-cte-en.html',\n",
       " 'https://www.cisco.com/c/en/us/products/collateral/switches/catalyst-9400-series-switches/nb-06-cat9400-ser-data-sheet-cte-en.html',\n",
       " 'https://www.cisco.com/c/en/us/products/collateral/switches/catalyst-9400-series-switches/nb-06-cat9400-ser-data-sheet-cte-en.html#:~:text=Cisco%20Catalyst%209400%20Series%20Switch%20Data%20Sheet,-Data%20Sheet',\n",
       " 'https://www.cisco.com/c/en/us/products/collateral/switches/catalyst-9400-series-switches/nb-06-cat9400-ser-data-sheet-cte-en.html#:~:text=FAQ-,Learn%20more',\n",
       " 'https://www.cisco.com/c/en/us/products/collateral/switches/catalyst-9400-series-switches/nb-06-cat9400-ser-data-sheet-cte-en.html#:~:text=Your%20organization%2C%20your%20operational%20needs,-Choose%20the%20management%20platform%20that',\n",
       " 'https://www.cisco.com/c/en/us/products/collateral/switches/catalyst-9400-series-switches/nb-06-cat9400-ser-sup-eng-data-sheet-cte-en.html',\n",
       " 'https://www.cisco.com/c/en/us/products/collateral/switches/catalyst-9400-series-switches/nb-06-cat9400-ser-sup-eng-data-sheet-cte-en.html#:~:text=Cisco%20Catalyst%209400%20Supervisor%20Engine%20Modules%20Data%20Sheet,-Data%20Sheet',\n",
       " 'https://www.cisco.com/c/en/us/products/collateral/switches/catalyst-9400-series-switches/nb-06-cat9400-ser-sup-eng-data-sheet-cte-en.html#:~:text=FAQ-,Learn%20more',\n",
       " 'https://www.cisco.com/c/en/us/products/collateral/switches/catalyst-9400-series-switches/nb-06-cat9400-ser-sup-eng-data-sheet-cte-en.html#:~:text=Your%20organization%2C%20your%20operational%20needs,-Choose%20the%20management%20platform%20that',\n",
       " 'https://www.cisco.com/c/en/us/products/collateral/switches/catalyst-9400-series-switches/nb-06-cat9400-series-line-data-sheet-cte-en.html',\n",
       " 'https://www.cisco.com/c/en/us/products/collateral/switches/catalyst-9400-series-switches/nb-06-cat9400-series-line-data-sheet-cte-en.html#:~:text=Cisco%20Catalyst%209400%20Series%20Switch%20Line%20Cards%20Data%20Sheet,-Data%20Sheet',\n",
       " 'https://www.cisco.com/c/en/us/products/collateral/switches/catalyst-9400-series-switches/nb-06-cat9400-series-line-data-sheet-cte-en.html#:~:text=FAQ-,Learn%20more',\n",
       " 'https://www.cisco.com/c/en/us/products/collateral/switches/catalyst-9400-series-switches/nb-06-cat9400-series-line-data-sheet-cte-en.html#:~:text=Your%20organization%2C%20your%20operational%20needs,-Choose%20the%20management%20platform%20that',\n",
       " 'https://www.cisco.com/c/en/us/products/collateral/switches/nexus-9000-series-switches/nexus9400-series-switches-ds.html',\n",
       " 'https://www.cisco.com/c/en/us/products/switches/catalyst-9400-series-switches/datasheet-listing.html',\n",
       " 'https://www.cisco.com/c/en/us/products/switches/catalyst-9400-series-switches/datasheet-listing.tab2.html',\n",
       " 'https://www.cisco.com/c/en/us/support/switches/catalyst-9400-series-switches/series.html',\n",
       " 'https://www.cisco.com/c/en_hk/products/switches/catalyst-9400-series-switches/index.html',\n",
       " 'https://www.cisco.com/c/en_hk/products/switches/catalyst-9400-series-switches/index.html#:~:text=Access-,Cisco%20Catalyst%209400%20Series%20Switches',\n",
       " 'https://www.cisco.com/c/en_hk/products/switches/catalyst-9400-series-switches/index.html#:~:text=Catalyst%209400%207%2Dslot',\n",
       " 'https://www.cisco.com/c/en_hk/products/switches/catalyst-9400-series-switches/index.html#:~:text=Features%20and%20benefits',\n",
       " 'https://www.cisco.com/site/us/en/products/networking/switches/catalyst-9400-series-switches/index.html']"
      ]
     },
     "execution_count": 90,
     "metadata": {},
     "output_type": "execute_result"
    }
   ],
   "source": [
    "product_name = 'catalyst 9400'\n",
    "\n",
    "links1 = scrape_google(website_url=website, \n",
    "                       product_name=product_name,\n",
    "                       additional_search_keywords=additional_keywords,\n",
    "                       verbose=True)\n",
    "links1"
   ]
  },
  {
   "cell_type": "code",
   "execution_count": 10,
   "id": "208a3390-a021-45e2-9e4a-7079296d66a2",
   "metadata": {},
   "outputs": [
    {
     "name": "stdout",
     "output_type": "stream",
     "text": [
      "10 useful links found.\n"
     ]
    },
    {
     "data": {
      "text/plain": [
       "['https://www.cisco.com/c/en/us/products/collateral/wireless/2500-series-wireless-controllers/data_sheet_c78-645111.html',\n",
       " 'https://www.cisco.com/c/en/us/products/collateral/wireless/catalyst-9100ax-access-points/nb-06-cat-9130-ser-ap-ds-cte-en.html',\n",
       " 'https://www.cisco.com/c/en/us/products/collateral/wireless/catalyst-9800-series-wireless-controllers/datasheet-c78-742434.html',\n",
       " 'https://www.cisco.com/c/en/us/products/wireless/2500-series-wireless-controllers/datasheet-listing.html',\n",
       " 'https://www.cisco.com/c/en/us/products/wireless/2500-series-wireless-controllers/eos-eol-notice-listing.html',\n",
       " 'https://www.cisco.com/c/en/us/products/wireless/embedded-wireless-controller-on-catalyst-access-points/index.html',\n",
       " 'https://www.cisco.com/c/en/us/support/docs/wireless/2500-series-wireless-controllers/113034-2500-deploy-guide-00.html',\n",
       " 'https://www.cisco.com/c/en/us/support/wireless/2500-series-wireless-controllers/products-device-support-tables-list.html',\n",
       " 'https://www.cisco.com/c/en/us/support/wireless/2504-wireless-controller/model.html',\n",
       " 'https://www.cisco.com/c/en_in/products/wireless/2500-series-wireless-controllers/index.html']"
      ]
     },
     "execution_count": 10,
     "metadata": {},
     "output_type": "execute_result"
    }
   ],
   "source": [
    "product_name = 'catalyst 2500 wireless controller'\n",
    "\n",
    "links2 = scrape_google(website_url=website, \n",
    "                       product_name=product_name,\n",
    "                       additional_search_keywords=additional_keywords)\n",
    "links2"
   ]
  },
  {
   "cell_type": "code",
   "execution_count": 11,
   "id": "39006e16-b2c4-4c07-9bf1-754720d2f58f",
   "metadata": {},
   "outputs": [
    {
     "name": "stdout",
     "output_type": "stream",
     "text": [
      "10 useful links found.\n"
     ]
    },
    {
     "data": {
      "text/plain": [
       "['https://www.cisco.com/c/en/us/products/collateral/wireless/2500-series-wireless-controllers/data_sheet_c78-645111.html',\n",
       " 'https://www.cisco.com/c/en/us/products/collateral/wireless/catalyst-9100ax-access-points/nb-06-cat-9130-ser-ap-ds-cte-en.html',\n",
       " 'https://www.cisco.com/c/en/us/products/collateral/wireless/catalyst-9800-series-wireless-controllers/datasheet-c78-742434.html',\n",
       " 'https://www.cisco.com/c/en/us/products/wireless/2500-series-wireless-controllers/datasheet-listing.html',\n",
       " 'https://www.cisco.com/c/en/us/products/wireless/2500-series-wireless-controllers/eos-eol-notice-listing.html',\n",
       " 'https://www.cisco.com/c/en/us/products/wireless/embedded-wireless-controller-on-catalyst-access-points/index.html',\n",
       " 'https://www.cisco.com/c/en/us/support/docs/wireless/2500-series-wireless-controllers/113034-2500-deploy-guide-00.html',\n",
       " 'https://www.cisco.com/c/en/us/support/wireless/2500-series-wireless-controllers/products-device-support-tables-list.html',\n",
       " 'https://www.cisco.com/c/en/us/support/wireless/2504-wireless-controller/model.html',\n",
       " 'https://www.cisco.com/c/en_in/products/wireless/2500-series-wireless-controllers/index.html']"
      ]
     },
     "execution_count": 11,
     "metadata": {},
     "output_type": "execute_result"
    }
   ],
   "source": [
    "product_name = 'catalyst 2500 wireless controller'\n",
    "\n",
    "links2_1 = scrape_google(website_url=website, \n",
    "                       product_name=product_name,\n",
    "                       additional_search_keywords=additional_keywords)\n",
    "links2_1"
   ]
  },
  {
   "cell_type": "code",
   "execution_count": 12,
   "id": "dd1cee0e-4141-426e-bdc2-83ecc40b809f",
   "metadata": {},
   "outputs": [
    {
     "name": "stdout",
     "output_type": "stream",
     "text": [
      "10 useful links found.\n"
     ]
    },
    {
     "data": {
      "text/plain": [
       "['https://www.cisco.com/c/en/us/products/collateral/interfaces-modules/catalyst-4500-series-line-cards/product_data_sheet0900aecd802109ea.html',\n",
       " 'https://www.cisco.com/c/en/us/products/collateral/switches/catalyst-4500-series-switches/data_sheet_c78-612364.html',\n",
       " 'https://www.cisco.com/c/en/us/products/collateral/switches/catalyst-4500-series-switches/data_sheet_c78-686325.html',\n",
       " 'https://www.cisco.com/c/en/us/products/collateral/switches/catalyst-4500-series-switches/data_sheet_c78-728191.html',\n",
       " 'https://www.cisco.com/c/en/us/products/collateral/switches/catalyst-4500-series-switches/datasheet-c78-736551.html',\n",
       " 'https://www.cisco.com/c/en/us/products/collateral/switches/catalyst-4500-series-switches/nb-09-cat-4500e-sup-engine-ds-cte-en.html',\n",
       " 'https://www.cisco.com/c/en/us/products/collateral/switches/catalyst-4500-series-switches/product_data_sheet0900aecd801792b1.html',\n",
       " 'https://www.cisco.com/c/en/us/products/switches/catalyst-4500-series-switches/datasheet-listing.html',\n",
       " 'https://www.cisco.com/c/en/us/support/switches/catalyst-4500-series-switches/series.html',\n",
       " 'https://www.cisco.com/c/en/us/support/switches/catalyst-4510r-plus-e-switch/model.html']"
      ]
     },
     "execution_count": 12,
     "metadata": {},
     "output_type": "execute_result"
    }
   ],
   "source": [
    "product_name = 'catalyst 4500e'\n",
    "\n",
    "links3 = scrape_google(website_url=website, \n",
    "                       product_name=product_name,\n",
    "                       additional_search_keywords=additional_keywords)\n",
    "links3"
   ]
  },
  {
   "cell_type": "code",
   "execution_count": 13,
   "id": "9ee32b74-edd3-4f0d-a2ee-ec4fe5b7dc77",
   "metadata": {},
   "outputs": [
    {
     "name": "stdout",
     "output_type": "stream",
     "text": [
      "9 useful links found.\n"
     ]
    },
    {
     "data": {
      "text/plain": [
       "['https://www.cisco.com/c/en/us/products/collateral/cloud-systems-management/iot-operations-dashboard/datasheet-c78-2363146.html',\n",
       " 'https://www.cisco.com/c/en/us/products/collateral/routers/829-industrial-router/datasheet-c78-734981.html',\n",
       " 'https://www.cisco.com/c/en/us/products/collateral/se/internet-of-things/datasheet-c78-737307.html',\n",
       " 'https://www.cisco.com/c/en/us/products/routers/800-series-routers/datasheet-listing.html',\n",
       " 'https://www.cisco.com/c/en/us/products/routers/800-series-routers/datasheet-listing.tab2.html',\n",
       " 'https://www.cisco.com/c/en/us/products/routers/829-industrial-router/index.html',\n",
       " 'https://www.cisco.com/c/en/us/support/routers/800-series-industrial-routers/series.html',\n",
       " 'https://www.cisco.com/c/en/us/td/docs/routers/access/800/829/hardware/install/guide/b_IR829-HIG.pdf',\n",
       " 'https://www.cisco.com/c/en/us/td/docs/routers/access/800/829/hardware/install/guide/b_IR829-HIG/b_IR829-HIG_chapter_01.html']"
      ]
     },
     "execution_count": 13,
     "metadata": {},
     "output_type": "execute_result"
    }
   ],
   "source": [
    "product_name = 'ir829'\n",
    "\n",
    "links4 = scrape_google(website_url=website, \n",
    "                       product_name=product_name,\n",
    "                       additional_search_keywords=additional_keywords)\n",
    "links4"
   ]
  },
  {
   "cell_type": "markdown",
   "id": "456cdc1a-0d80-4110-a1a8-803d86a95c9a",
   "metadata": {},
   "source": [
    "# load_pdf_as_doc"
   ]
  },
  {
   "cell_type": "code",
   "execution_count": 14,
   "id": "60481e9c-8604-4c78-9d0d-fc46d6cd46b8",
   "metadata": {},
   "outputs": [],
   "source": [
    "def load_pdf_as_doc(html_path: str, local_path, filename: str) -> list[langchain.schema.document.Document]:\n",
    "    \"\"\"Loads PDF file from local_path and returns a list where each element is one page of the PDF file as a Langchain Document object.\n",
    "\n",
    "    Args:\n",
    "        html_path (string): URL where the PDF file was originally downloaded from\n",
    "        local_path (string): File path used to read the PDF file from local disk\n",
    "\n",
    "    Returns:\n",
    "        pdf_doc (list[langchain.schema.document.Document]): A list where each element is one page of the PDF file as a Langchain Document object\n",
    "    \"\"\"\n",
    "    from langchain.document_loaders import PyPDFLoader\n",
    "    \n",
    "    # Load local PDF file into memory \n",
    "    loader = PyPDFLoader(file_path=str(local_path))\n",
    "    \n",
    "    # Create a Langchain Document object for each page in the PDF file\n",
    "    pdf_doc = loader.load()\n",
    "    \n",
    "    # Add the URL where the PDF was downloaded from as metadata\n",
    "    for page in pdf_doc:\n",
    "        page.metadata['source'] = html_path\n",
    "        page.metadata['filename'] = filename\n",
    "        page.metadata['page'] = int(page.metadata['page']) + 1\n",
    "    \n",
    "    return pdf_doc"
   ]
  },
  {
   "cell_type": "markdown",
   "id": "8c74551d-9945-4122-94ea-3fc99bf804c7",
   "metadata": {},
   "source": [
    "# download_pdf_and_return_doc"
   ]
  },
  {
   "cell_type": "code",
   "execution_count": 15,
   "id": "547e02b4-1a10-4243-8d27-d5ea113c088e",
   "metadata": {},
   "outputs": [],
   "source": [
    "def download_pdf_and_return_doc(html_path: str, \n",
    "                                 pdf_filename: str, \n",
    "                                 proxies=None, \n",
    "                                 verbose=False):\n",
    "    \"\"\"\n",
    "    Initiates HTTP get request for the URL of a pdf file.  Writes the contents of the PDF file to local disk.\n",
    "\n",
    "    Args:\n",
    "        html_path (string): HTML URL of the PDF file\n",
    "        local_path (string): File path for saving the PDF file to local disk\n",
    "        proxies (dict): proxy IP addresses to use for HTTP requests\n",
    "        verbose (boolean): Used for debugging\n",
    "\n",
    "    Returns:\n",
    "        new_pages (list): A list of pdf pages after Cisco metadata has been added\n",
    "    \"\"\"\n",
    "    \n",
    "    import tempfile\n",
    "    import pathlib\n",
    "       \n",
    "    temp_dir = tempfile.TemporaryDirectory()\n",
    "    temp_file_path = pathlib.Path(temp_dir.name) / pdf_filename\n",
    "    \n",
    "    # Get HTTP response of a URL\n",
    "    response = get_source(html_path, proxies)\n",
    "    \n",
    "    # Check to see if the HTTP response is actually for a PDF file\n",
    "    if response.headers['Content-Type'] == 'application/pdf':\n",
    "        # If the file is a PDF, write the contents to local_path            \n",
    "        with open(temp_file_path, 'wb') as pdf:\n",
    "            pdf.write(response.content)\n",
    "            pdf_doc = load_pdf_as_doc(html_path, temp_file_path, pdf_filename)\n",
    "            \n",
    "            \n",
    "    \n",
    "        if verbose:\n",
    "            print(f\"{temp_file_path} written to disk\")\n",
    "            \n",
    "        return pdf_doc"
   ]
  },
  {
   "cell_type": "code",
   "execution_count": 91,
   "id": "a4e39e2f-a5d5-4174-a8e8-595a33f35537",
   "metadata": {},
   "outputs": [],
   "source": [
    "weird_response = get_source(\"https://www.cisco.com/en/US/prod/collateral/routers/ps12558/ps12559/datasheet-c78-730862.pdf\")"
   ]
  },
  {
   "cell_type": "code",
   "execution_count": 93,
   "id": "ea6482db-b9e3-4b54-a371-85569b23f875",
   "metadata": {},
   "outputs": [
    {
     "data": {
      "text/plain": [
       "'application/pdf'"
      ]
     },
     "execution_count": 93,
     "metadata": {},
     "output_type": "execute_result"
    }
   ],
   "source": [
    "weird_response.headers['Content-Type']"
   ]
  },
  {
   "cell_type": "code",
   "execution_count": 99,
   "id": "2bd5b5c2-85c7-416c-b4a3-129f7c3ffccd",
   "metadata": {},
   "outputs": [
    {
     "name": "stdout",
     "output_type": "stream",
     "text": [
      "/var/folders/lp/jgdr2r255gz098q__v2pjv0r0000gn/T/tmpn480phhj/datasheet-c78-730862.pdf written to disk\n"
     ]
    }
   ],
   "source": [
    "pdf_doc = download_pdf_and_return_doc(\"https://www.cisco.com/en/US/prod/collateral/routers/ps12558/ps12559/datasheet-c78-730862.pdf\", f\"datasheet-c78-730862.pdf\", verbose=True)"
   ]
  },
  {
   "cell_type": "code",
   "execution_count": 102,
   "id": "115740fe-9a5d-4158-b522-b8e6f6938e80",
   "metadata": {},
   "outputs": [
    {
     "data": {
      "text/plain": [
       "[Document(page_content=' \\n \\n© 2014 Cisco and/or its affiliates. All rights reserved. T his document is Cisco Public Information. Page 1 of 8  Data Sheet  \\nCisco Cloud Services Router 1000V \\nCisco IOS XE Software Release 3.11 \\n \\nThe Cisco ® Cloud Services Router 1000V (CSR 1000V) is a single-te nant router in \\nvirtual form-factor that delivers comprehensive WAN gat eway functions to multitenant \\nprovider-hosted clouds. Using familiar, industry-leading  Cisco IOS ® Software \\nnetworking capabilities, the CSR 1000V enables enterpri ses to extend their WANs \\ntransparently into external provider-hosted clouds and cloud providers to offer their \\ntenants enterprise-class networking services. \\nBusinesses, small and large, are increasingly virtu alizing their data center infrastructures and appli cations, to save \\ncosts and become more agile. Many enterprises have started deploying IT applications in virtualized da ta centers \\nthat are built and managed by third-party service p roviders. These external data centers, known as pro vider-\\nhosted clouds, allow enterprises to gain infrastruc ture and resources on demand and become even more \\noperationally efficient. \\nHowever, the shared-infrastructure, shared-resource  cloud environment poses networking and security pr oblems \\nto enterprises. First, an enterprise does not have ownership of its cloud connectivity, so cannot exte nd its network \\nconfiguration into the cloud. Next, it does not enj oy the same levels of privacy and security for its cloud \\ndeployment as it does on its premises. Third, it ca nnot directly connect its distributed sites to its cloud applications \\n- instead having to backhaul all network traffic th rough its data center - because it lacks a network- aware endpoint \\nin the cloud. The cloud also presents networking ch allenges to cloud providers. The primary concern is  the scale \\nlimitations of the current network switching archit ecture. The cloud provider also lacks all the compo nents of an \\nend-to-end managed connectivity service offering to  its customers, including quality of service (QoS),  application \\nvisibility, and service-level agreements (SLAs). \\nThe Cisco CSR 1000V addresses these cloud-based net working and security constraints. Built on the same  \\nproven Cisco IOS Software platform that is inside t he Cisco Integrated Services Router (ISR) and Aggre gation \\nServices Router (ASR) product families, it offers a  rich set of features, including routing, VPN, fire wall, Network \\nAddress Translation (NAT), QoS, application visibil ity, failover, and WAN optimization. These function s empower \\nenterprises and cloud providers to build highly sec ure, optimized, scalable, and consistent hybrid net works. ', metadata={'source': 'https://www.cisco.com/en/US/prod/collateral/routers/ps12558/ps12559/datasheet-c78-730862.pdf', 'page': 1, 'filename': 'datasheet-c78-730862.pdf', 'product_category': 'routers', 'product_name': 'ps12558'}),\n",
       " Document(page_content=' \\n \\n© 2014 Cisco and/or its affiliates. All rights reserved. T his document is Cisco Public Information. Page 2 of 8  Product Overview and Benefits \\nThe Cisco CSR 1000V is a software router that an en terprise or a cloud provider can deploy as a virtua l machine \\n(VM) in a provider-hosted cloud. It can run on Cisc o Unified Computing System ™ (Cisco UCS ®) servers; on \\nservers from leading vendors that support VMware ES Xi, Citrix XenServer, or Red Hat KVM virtualization ; or on \\nthe Amazon EC2 cloud. It contains Cisco IOS Softwar e networking and security features. \\nA typical cloud provides IT infrastructure and reso urces to multiple customers or tenants. The Cisco C SR 1000V \\nserves primarily as a router per tenant (Figure 1).  That is, each tenant gets its own routing instance , hence its own \\nVPN connections, firewall policies, QoS rules, acce ss control, and so on. \\nFigure 1.   Cisco CSR 1000V - Positioned as a Single-Tenant WAN  Gateway in a Multitenant Cloud Internet \\n \\nFollowing is how you could use the Cisco CSR 1000V in a cloud: \\n● Secure VPN gateway:  The CSR 1000V offers route-based IP Security (IPse c) VPNs (Dynamic Multipoint \\nVPN [DMVPN], EasyVPN, and FlexVPN), and in the futu re, Secure Sockets Layer (SSL) VPN, along with \\nthe Cisco IOS Zone-Based Firewall and access contro l, enabling an enterprise to connect distributed si tes \\ndirectly to its cloud deployment (Table 1). ', metadata={'source': 'https://www.cisco.com/en/US/prod/collateral/routers/ps12558/ps12559/datasheet-c78-730862.pdf', 'page': 2, 'filename': 'datasheet-c78-730862.pdf', 'product_category': 'routers', 'product_name': 'ps12558'}),\n",
       " Document(page_content=' \\n \\n© 2014 Cisco and/or its affiliates. All rights reserved. T his document is Cisco Public Information. Page 3 of 8  Table 1. Cisco CSR 1000V as a Secure VPN Gateway \\nCustomer Problem Features Benefits of CSR 1000V \\n● An enterprise needs to connect its \\npremises securely with its off-premises \\ncloud: A typical large enterprise has a \\ncentral headquarters, a few regional \\nhubs, two or more data centers, and \\nhundreds to thousands of branch-\\noffice sites. The network is either hub-\\nand-spoke or fully meshed. By \\nextending the data center to the cloud, \\nthe enterprise wants the cloud to act \\nas another node in its network. ● IPsec \\n● DMVPN \\n● EasyVPN \\n● FlexVPN \\n● Border Gateway Protocol (BGP) \\n● Open Shortest Path First (OSPF) \\n● Enhanced IGRP (EIGRP) \\n● Cisco IOS Zone-Based Firewall \\n● Access control list (ACL) \\n● Authentication, authorization, and \\naccounting (AAA) \\n● NAT \\n● Dynamic Host Configuration Protocol \\n(DHCP) ● Ownership: An enterprise can deploy a CSR 1000V in \\nthe cloud, access its command-line interface (CLI), and \\nmanage it using the Cisco Prime ™ Infrastructure. \\n● Transparent connectivity and enterprise-class \\nscalability: With its range of VPN and routing feature s, \\nthe CSR 1000V can fit into any enterprise network \\ntopology. An enterprise can directly and dynamically \\nconnect its distributed sites to its cloud deployment - \\navoiding the latency caused by the typical backhaul \\nthrough the data center while overcoming the \\nmanagement complexity of point-to-point IPsec VPNs. \\n● Consistent WAN architecture: The Cisco IOS Software-\\nbased CSR 1000V complements the widely deployed \\nCisco ISRs and ASRs. Enterprises can now deploy a \\nCisco endpoint at every node in their network, allowin g \\nfor consistent network configuration and security \\npolicies across their distributed hybrid networks. \\n● MPLS WAN endpoint:  The CSR 1000V can serve as an MPLS router that ena bles a service provider to \\noffer end-to-end managed connectivity (customer sit e-to-customer cloud deployment) with performance \\nguarantees. Also, by extending the Multiprotocol La bel Switching (MPLS) WAN deeper into the cloud \\nnetwork, the service provider can increase network scale - more tenants and more networks per tenant \\n(Table 2). \\nTable 2. Cisco CSR 1000V as an MPLS WAN Endpoint \\nCustomer Problem Features Benefits of CSR 1000V \\n● A service provider needs to extend \\nMPLS connectivity to its customers’ \\ncloud segments: Service providers \\nthat offer managed connectivity \\nservice to businesses want to help \\ntheir customers connect with off-\\npremises clouds. In order to provide \\nend-to-end connectivity, the service \\nproviders want to extend their private \\nMPLS WANs into the clouds right up \\nto the edge of the customers’ \\nsegments within the clouds. ● MPLS VPN \\n● Virtual Route Forwarding (VRF) \\n● BGP \\n● Generic routing encapsulation (GRE) \\n● QoS \\n● IP SLA ● MPLS extension within a cloud: A service provider can \\nmanage the cloud connectivity of its customers and \\noffer performance and reliability guarantees with the  \\nhelp of a dedicated CSR 1000V (serving as a customer \\nedge [CE] router) per customer. \\n● Intracloud scale: A typical cloud network is highly \\nswitched - a router hands off incoming traffic to a grou p \\nof switches, which assign the traffic to customer \\nVLANs. In this network architecture, the cloud provider \\ncannot scale beyond 4096 VLANs per router, limiting \\nthe number of customers it can support. The CSR \\n1000V, serving as a customer edge or provider edge \\n(PE) extension, can help overcome these scale \\nlimitations by creating routing overlays within the clo ud, \\nminimizing the providers’ dependence on VLANs. \\n● Layer 2 (virtual-machine migration) or Layer 3 Exte nsion (IP Mobility) from premises to cloud:  The \\nCSR 1000V offers features such as NAT and Cisco Loc ator/ID Separation Protocol (LISP) that can enable \\nan enterprise to maintain addressing consistency ac ross premises and cloud as it moves applications ba ck \\nand forth or bursts compute capacity into the cloud . The Cisco CSR 1000V Overlay Transport Virtualizat ion \\n(OTV) and Virtual Private LAN Service (VPLS) featur es enable an enterprise to extend VLAN segments \\nfrom its data center into the cloud for server back up, disaster recovery, and compute scale (Table 3).  ', metadata={'source': 'https://www.cisco.com/en/US/prod/collateral/routers/ps12558/ps12559/datasheet-c78-730862.pdf', 'page': 3, 'filename': 'datasheet-c78-730862.pdf', 'product_category': 'routers', 'product_name': 'ps12558'}),\n",
       " Document(page_content=' \\n \\n© 2014 Cisco and/or its affiliates. All rights reserved. T his document is Cisco Public Information. Page 4 of 8  Table 3. Cisco CSR 1000V as a Layer 2 or Layer 3 Extension \\nCustomer Problem Features Benefits of CSR 1000V \\n● An enterprise needs to maintain IP \\naddressing consistency when moving \\nan application from its data center into \\nan off-premises cloud: An enterprise \\ndoes not want to reconfigure its \\napplication when it moves the \\napplication back and forth between its \\ndata center and external cloud. \\nChange in the address of the \\napplication affects connectivity with \\nthe user accesing the application.  ● NAT \\n● LISP ● IP Mobility: The cloud-based CSR 1000V can serve as \\na LISP router, building a tunnel with a LISP-enable d \\nrouter in the enterprise’s data center that enables an \\napplication to be transported across the tunnel with a \\nfixed identifier. \\n● An enterprise needs to replicate its \\nvirtual machines (for e.g. application \\nservers, web servers, etc.) in an off-\\npremises cloud: An enterprise wants \\nto extend VLAN segments from its \\ndata center into an external cloud in \\norder to migrate or back up virtual \\nmachines.  ● OTV ● Virtual-machine migration: The cloud-based CSR \\n1000V can serve as an OTV router, building a bridge \\nwith an OTV-enabled router in the enterprise’s data \\ncenter that enables a VLAN to be extended to the cloud . \\n● Control point for networking services:  The CSR 1000V can redirect traffic to Cisco Virtua l Wide Area \\nApplication Services (vWAAS) appliances deployed in  the cloud. The Application Visibility and Control \\n(AVC) feature of the CSR 1000V offers end-to-end ap plication visibility, performance monitoring, and \\ncontrol, allowing service providers to pinpoint app lication performance problems and offer performance  \\nSLAs that are easily tracked (Table 4). \\nTable 4. CSR 1000V as a Traffic Control Point \\nCustomer Problem Features Benefits of CSR 1000V \\n● A cloud provider needs to offer \\nenterprise-class networking services: \\nThe cloud provider wants to offer its \\ncustomers networking services that \\nensure secure access and optimized, \\nuninterrupted delivery of applications. ● AppNav (redirection) \\n● Zone-Based Firewall \\n● NAT \\n● DHCP \\n● Hot Standby Router Protocol (HSRP) \\n● AVC  ● Rich set of networking services: The cloud provider can \\ntake full advantage of the Cisco IOS Software security, \\napplication visibility and performance monitoring, and \\nhigh-availability features to provide each tenant with  a \\ncomprehensive networking experience. \\nThe Cisco IOS XE Software Advantage \\nThe Cisco CSR 1000V contains the same operating sys tem, Cisco IOS XE Software, which runs inside the C isco \\nASR 1000 product line. Providing control- and data- plane separation, multicore forwarding, and a modul ar \\narchitecture that allows for smooth insertion of ne tworking features, Cisco IOS XE Software is well-su ited for \\ndynamic cloud environments. The software is based o n the stable, robust, and feature-rich Cisco IOS So ftware \\nthat has powered Cisco ISRs and other hardware rout ers in demanding enterprise, service provider, and \\ngovernment networks for more than two decades. \\nThe key benefits of Cisco IOS XE Software follow: \\n● Proven functions:  Industry-leading Cisco IOS Software networking and  security features \\n● Operational efficiency:  Rapid integration into any Cisco IOS Software envi ronment (branch office, WAN, \\ndata center, and cloud) \\n● Consistent user experience:  Same Cisco IOS CLI and management tools across all  Cisco IOS Software \\nplatforms - Cisco ISR, Cisco ASR, and Cisco CSR 100 0V ', metadata={'source': 'https://www.cisco.com/en/US/prod/collateral/routers/ps12558/ps12559/datasheet-c78-730862.pdf', 'page': 4, 'filename': 'datasheet-c78-730862.pdf', 'product_category': 'routers', 'product_name': 'ps12558'}),\n",
       " Document(page_content=' \\n \\n© 2014 Cisco and/or its affiliates. All rights reserved. T his document is Cisco Public Information. Page 5 of 8  Product Specifications \\nTable 5 lists the features the Cisco CSR 1000V offe rs in Cisco IOS XE Software Release 3.11. \\nTable 5. Cisco CSR 1000V Features \\nFeatures Description \\nCisco IOS XE Software \\nversion ● Cisco IOS XE Software Release 3.11 (CSR Edition with se lected Cisco IOS XE Software features) \\n● The software is available in ISO, BIN, and OVA formats.  \\nHypervisors supported ● VMware ESXi 5.1 \\n● Citrix XenServer 6.1 \\n● Red Hat KVM (Red Hat Enterprise Virtualization 3.1 a nd Red Hat Enterprise Linux 6.3) \\n● Amazon Machine Instance \\nVirtual-machine \\nspecifications The CSR 1000V can run on Cisco UCS servers, servers from lea ding vendors that support VMware ESXi, Citrix \\nXenServer or Red Hat KVM, or the Amazon EC2 cloud. \\nThe server must support at least  the following: \\n● Intel Nehalem or AMD Barcelona CPU with clock frequency  2.0 GHz \\n● Gigabit Ethernet interfaces \\nThe CSR 1000V requires the following from the virtual ized server hardware: \\n● CPU: 1 to 4 virtual CPUs (depending on the throughput  and feature set) \\n● Memory: 2.5 to 4 GB (depending on the throughput an d feature set) \\n● Disk space: 8 GB \\n● Network interfaces: Two or more virtual network interf ace cards (vNICs), up to maximum allowed by hypervisor \\nCisco IOS XE Software \\nnetworking ● Routing: BGP, OSPF, EIGRP, Policy-Based Routing, IPv6,  VRF-Lite, IP Multicast, LISP, and GRE \\n● MPLS: MPLS VPN, VRF, and Bidirectional Forwarding De tection (BFD) \\n● Addressing: DHCP, Domain Name System (DNS), NAT, 802.1 Q VLAN, Ethernet Virtual Connections (EVC), and \\nVirtual Extensible LAN (VXLAN) \\n● High availability: HSRP, Virtual Router Redundancy Pr otocol (VRRP), and Gateway Load Balancing Protocol \\n(GLBP) \\n● Traffic redirection: AppNav (to Cisco WAAS) and Web Cach e Control Protocol (WCCP) \\n● Application visibility, performance monitoring, and cont rol: QoS and AVC \\n● Hybrid cloud connectivity: OTV, VPLS, and Ethernet over MPLS (EoMPLS) \\nCisco IOS XE Software \\nsecurity ● VPN: IPsec VPN, DMVPN, EasyVPN, and FlexVPN \\n● Firewall: Zone-Based Firewall \\n● Access control: ACL, AAA, RADIUS, and TACACS+ \\nManagement ● Virtual-machine creation and deployment: VMware vCent er and VMware vCloud Director \\n● Provisioning and management: Cisco IOS XE CLI, Secure Sh ell (SSH) Protocol, Telnet, Cisco Prime \\nInfrastructure, Cisco Prime Network Services Controller, a nd OpenStack Configdrive \\n● Monitoring and troubleshooting: Simple Network Manag ement Protocol (SNMP), syslog, NetFlow, IP SLA, and \\nEmbedded Event Manager (EEM) \\n● RESTful application programming interfaces (APIs): Lice nse Install, Interfaces, Routing, IPsec VPN, Firewall, \\nACL, NAT, Configuration Import/Export, Reports (CPU Utilization, Interface Stats, Routing Table, VPN and \\nFirewall Sessions, etc.) \\nOrdering and Support \\nThe Cisco CSR 1000V is licensed based on throughput  and feature set and can be purchased for a term of  1 or 3 \\nyears, or perpetual. \\nThe Cisco IOS XE Software Release 3.11 of the CSR 1 000V offers six throughput options: 10 Mbps, 50 Mbp s, 100 \\nMbps, 250 Mbps, 500 Mbps, and 1 Gbps. Upon activati on of a particular option, the CSR 1000V limits its  \\naggregate bidirectional throughput to that option. \\nYou can purchase both term and perpetual licenses ( see Table 8) and use them with the Cisco CSR 1000V when \\ndeployed as a bring-your-own-license (BYOL) instanc e on the Amazon EC2 cloud. Hourly billing on the Am azon \\nEC2 cloud will be available in future releases. ', metadata={'source': 'https://www.cisco.com/en/US/prod/collateral/routers/ps12558/ps12559/datasheet-c78-730862.pdf', 'page': 5, 'filename': 'datasheet-c78-730862.pdf', 'product_category': 'routers', 'product_name': 'ps12558'}),\n",
       " Document(page_content=' \\n \\n© 2014 Cisco and/or its affiliates. All rights reserved. T his document is Cisco Public Information. Page 6 of 8  The Cisco CSR 1000V comes in three technology packa ges or feature sets (Table 6). \\nTable 6. Cisco CSR 1000V Packaging \\nFeatures Description \\nStandard ● Routing: Routing Information Protocol (RIP), BGP, EI GRP, OSPF, Intermediate System-to-Intermediate System  \\n(IS-IS), GRE, IPv6, and VRF-Lite \\n● Addressing: DHCP, DNS, NAT, 802.1Q VLAN, and EVC \\n● Basic security: ACL, AAA, RADIUS, and TACACS+ \\n● High availability: HSRP, VRRP, and GLBP \\n● Management: SSH, Telnet, SNMP, syslog, NetFlow, and E EM \\nAdvanced ● Standard features \\n● Advanced security: IPsec, route-based VPNs (DMVPN, EasyVPN, and FlexVPN), and Zone-Based Firewall \\nPremium ● Advanced features \\n● MPLS: MPLS VPN, VRF, and BFD \\n● Application experience: AppNav, WCCP, AVC, and IP SLA \\n● IP Mobility: LISP, OTV, VPLS, EoMPLS, and VXLAN \\nTable 7 specifies the server resource requirements per Cisco CSR 1000V license. \\nTable 7. Server Resource Requirements per CSR 1000V License \\nThroughput Technology Package \\n Standard Advanced Premium \\n10 Mbps 1 vCPU, 2.5-GB RAM 1 vCPU, 2.5-GB RAM 1 vCPU, 2.5-GB RAM \\n50 Mbps 1 vCPU, 2.5-GB RAM 1 vCPU, 2.5-GB RAM 1 vCPU, 2.5-GB RAM \\n100 Mbps 1 vCPU, 2.5-GB RAM 1 vCPU, 2.5-GB RAM 1 vCPU, 2.5-GB RAM \\n250 Mbps 1 vCPU, 2.5-GB RAM 1 vCPU, 2.5-GB RAM 1 vCPU, 2.5-GB RAM \\n500 Mbps 4 vCPU *, 4-GB RAM* 4 vCPU *, 4-GB RAM * 4 vCPU *, 4- and 8-GB RAM * **  \\n1 Gbps 4 vCPU *, 4-GB RAM *   \\n* Subject to change in future releases \\n** 8-GB licenses require 8 GB of RAM \\nTable 8 specifies the Cisco CSR 1000V licenses comp atible with the Amazon EC2 cloud, for Cisco IOS XE \\nSoftware Release 3.11. \\nTable 8. Supported CSR 1000V Amazon EC2 Licenses \\nThroughput Technology Package \\n Standard Advanced Premium \\n10 Mbps Supported Supported Supported \\n50 Mbps Supported Supported Supported \\nAdditional throughput levels available in future re leases ', metadata={'source': 'https://www.cisco.com/en/US/prod/collateral/routers/ps12558/ps12559/datasheet-c78-730862.pdf', 'page': 6, 'filename': 'datasheet-c78-730862.pdf', 'product_category': 'routers', 'product_name': 'ps12558'}),\n",
       " Document(page_content=' \\n \\n© 2014 Cisco and/or its affiliates. All rights reserved. T his document is Cisco Public Information. Page 7 of 8  Table 9 contains the ordering information for the C isco IOS XE Software Release 3.11 for the Cisco CSR  1000V. \\nTable 9. CSR 1000V Ordering Information \\nProduct ID Description \\nL-CSR-10M-STD-1Y= CSR 1000V e-PAK 1-year subscription 10Mbps Standard Pack age \\nL-CSR-10M-STD-3Y= CSR 1000V e-PAK 3-year subscription 10Mbps Standard Pack age \\nL-CSR-10M-STD= CSR 1000V e-PAK 10 Mbps Standard Package \\nL-CSR-10M-ADV-1Y= CSR 1000V e-PAK 1-year subscription 10Mbps Advanced Packag e \\nL-CSR-10M-ADV-3Y= CSR 1000V e-PAK 3-year subscription 10Mbps Advanced Packag e \\nL-CSR-10M-ADV= CSR 1000V e-PAK 10Mbps Advanced Package \\nL-CSR-10M-PRM-1Y= CSR 1000V e-PAK 1-year subscription 10Mbps Premium Packa ge \\nL-CSR-10M-PRM-3Y= CSR 1000V e-PAK 3-year subscription 10Mbps Premium Packa ge \\nL-CSR-10M-PRM= CSR 1000V e-PAK 10Mbps Premium Package \\nL-CSR-50M-STD-1Y= CSR 1000V e-PAK 1-year subscription 50Mbps Standard Pack age \\nL-CSR-50M-STD-3Y= CSR 1000V e-PAK 3-year subscription 50Mbps Standard Pack age \\nL-CSR-50M-STD= CSR 1000V e-PAK 50Mbps Standard Package \\nL-CSR-50M-ADV-1Y= CSR 1000V e-PAK 1-year subscription 50Mbps Advanced Packag e \\nL-CSR-50M-ADV-3Y= CSR 1000V e-PAK 3-year subscription 50Mbps Advanced Packag e \\nL-CSR-50M-ADV= CSR 1000V e-PAK 50Mbps Advanced Package \\nL-CSR-50M-PRM-1Y= CSR 1000V e-PAK 1-year subscription 50Mbps Premium Packa ge \\nL-CSR-50M-PRM-3Y= CSR 1000V e-PAK 3-year subscription 50Mbps Premium Packa ge \\nL-CSR-50M-PRM= CSR 1000V e-PAK 50Mbps Premium Package \\nL-CSR-100M-STD-1Y= CSR 1000V e-PAK 1-year subscription 100Mbps Standard Pa ckage \\nL-CSR-100M-STD-3Y= CSR 1000V e-PAK 3-year subscription 100Mbps Standard Pa ckage \\nL-CSR-100M-STD= CSR 1000V e-PAK 100Mbps Standard Package \\nL-CSR-100M-ADV-1Y= CSR 1000V e-PAK 1-year subscription 100Mbps Advanced Packa ge \\nL-CSR-100M-ADV-3Y= CSR 1000V e-PAK 3-year subscription 100Mbps Advanced Packa ge \\nL-CSR-100M-ADV= CSR 1000V e-PAK 100Mbps Advanced Package \\nL-CSR-100M-PRM-1Y= CSR 1000V e-PAK 1-year subscription 100Mbps Premium Pack age \\nL-CSR-100M-PRM-3Y= CSR 1000V e-PAK 3-year subscription 100Mbps Premium Pack age \\nL-CSR-100M-PRM= CSR 1000V e-PAK 100Mbps Premium Package \\nL-CSR-250M-STD-1Y= CSR 1000V e-PAK 1-year subscription 250Mbps Standard Pa ckage \\nL-CSR-250M-STD-3Y= CSR 1000V e-PAK 3-year subscription 250Mbps Standard Pa ckage \\nL-CSR-250M-STD= CSR 1000V e-PAK 250Mbps Standard Package \\nL-CSR-250M-ADV-1Y= CSR 1000V e-PAK 1-year subscription 250Mbps Advanced Packa ge \\nL-CSR-250M-ADV-3Y= CSR 1000V e-PAK 3-year subscription 250Mbps Advanced Packa ge \\nL-CSR-250M-STD= CSR 1000V e-PAK 250Mbps Advanced Package \\nL-CSR-250M-PRM-1Y= CSR 1000V e-PAK 1-year subscription 250Mbps Premium Pack age \\nL-CSR-250M-PRM-3Y= CSR 1000V e-PAK 3-year subscription 250Mbps Premium Pack age \\nL-CSR-250M-PRM= CSR 1000V e-PAK 250Mbps Premium Package \\nL-CSR-500M-STD-1Y= CSR 1000V e-PAK 1-year subscription 500Mbps Standard Pa ckage \\nL-CSR-500M-STD-3Y= CSR 1000V e-PAK 3-year subscription 500Mbps Standard Pa ckage \\nL-CSR-500M-STD= CSR 1000V e-PAK 500Mbps Standard Package \\nL-CSR-500M-ADV-1Y= CSR 1000V e-PAK 1-year subscription 500Mbps Advanced Packa ge ', metadata={'source': 'https://www.cisco.com/en/US/prod/collateral/routers/ps12558/ps12559/datasheet-c78-730862.pdf', 'page': 7, 'filename': 'datasheet-c78-730862.pdf', 'product_category': 'routers', 'product_name': 'ps12558'}),\n",
       " Document(page_content=' \\n \\n© 2014 Cisco and/or its affiliates. All rights reserved. T his document is Cisco Public Information. Page 8 of 8  Product ID Description \\nL-CSR-500M-ADV-3Y= CSR 1000V e-PAK 3-year subscription 500Mbps Advanced Packa ge \\nL-CSR-500M-ADV= CSR 1000V e-PAK 500Mbps Advanced Package \\nL-CSR-500M-PRM-1Y= CSR 1000V e-PAK 1-year subscription 500Mbps Premium Pack age \\nL-CSR-500M-PRM-3Y= CSR 1000V e-PAK 3-year subscription 500Mbps Premium Pack age \\nL-CSR-500M-PRM= CSR 1000V e-PAK 500Mbps Premium Package \\nL-CSR-500M-PRM-8G= CSR 1000V e-PAK 500Mbps Premium Package w/ 8GB Memory  for Route Reflection \\nL-CSR-1G-STD-1Y= CSR 1000V e-PAK 1-year subscription 1Gbps Standard Packa ge \\nL-CSR-1G-STD-3Y= CSR 1000V e-PAK 3-year subscription 1Gbps Standard Packa ge \\nL-CSR-1G-STD= CSR 1000V e-PAK 1Gbps Standard Package \\nYou can purchase software updates, 24-hour support from the Cisco Technical Assistance Center (TAC), a nd \\naccess to the Cisco.com support website that includ es technical documentation separately. \\n● The 1- and 3-year term licenses require purchase of  corresponding 1- and 3-year Cisco Software \\nApplication Support plus Upgrades (SASU). \\n● The perpetual licenses require purchase of 1-year S ASU only. SASU renewal is optional and can be done \\non an annual basis. \\nPlease contact your local Cisco sales representativ e for more information. \\nFor More Information \\nFor more information about the Cisco Cloud Services  Router 1000V, please visit \\nhttp://www.cisco.com/go/cloudrouter . \\n \\n \\n \\n \\nPrinted in USA C78-730862-00 02/14  ', metadata={'source': 'https://www.cisco.com/en/US/prod/collateral/routers/ps12558/ps12559/datasheet-c78-730862.pdf', 'page': 8, 'filename': 'datasheet-c78-730862.pdf', 'product_category': 'routers', 'product_name': 'ps12558'})]"
      ]
     },
     "execution_count": 102,
     "metadata": {},
     "output_type": "execute_result"
    }
   ],
   "source": [
    "generate_cisco_metadata(pdf_doc)"
   ]
  },
  {
   "cell_type": "code",
   "execution_count": 103,
   "id": "b64119a7-d5f2-4a09-9895-26f2eee7ea4a",
   "metadata": {},
   "outputs": [
    {
     "data": {
      "text/plain": [
       "Document(page_content=' \\n \\n© 2014 Cisco and/or its affiliates. All rights reserved. T his document is Cisco Public Information. Page 1 of 8  Data Sheet  \\nCisco Cloud Services Router 1000V \\nCisco IOS XE Software Release 3.11 \\n \\nThe Cisco ® Cloud Services Router 1000V (CSR 1000V) is a single-te nant router in \\nvirtual form-factor that delivers comprehensive WAN gat eway functions to multitenant \\nprovider-hosted clouds. Using familiar, industry-leading  Cisco IOS ® Software \\nnetworking capabilities, the CSR 1000V enables enterpri ses to extend their WANs \\ntransparently into external provider-hosted clouds and cloud providers to offer their \\ntenants enterprise-class networking services. \\nBusinesses, small and large, are increasingly virtu alizing their data center infrastructures and appli cations, to save \\ncosts and become more agile. Many enterprises have started deploying IT applications in virtualized da ta centers \\nthat are built and managed by third-party service p roviders. These external data centers, known as pro vider-\\nhosted clouds, allow enterprises to gain infrastruc ture and resources on demand and become even more \\noperationally efficient. \\nHowever, the shared-infrastructure, shared-resource  cloud environment poses networking and security pr oblems \\nto enterprises. First, an enterprise does not have ownership of its cloud connectivity, so cannot exte nd its network \\nconfiguration into the cloud. Next, it does not enj oy the same levels of privacy and security for its cloud \\ndeployment as it does on its premises. Third, it ca nnot directly connect its distributed sites to its cloud applications \\n- instead having to backhaul all network traffic th rough its data center - because it lacks a network- aware endpoint \\nin the cloud. The cloud also presents networking ch allenges to cloud providers. The primary concern is  the scale \\nlimitations of the current network switching archit ecture. The cloud provider also lacks all the compo nents of an \\nend-to-end managed connectivity service offering to  its customers, including quality of service (QoS),  application \\nvisibility, and service-level agreements (SLAs). \\nThe Cisco CSR 1000V addresses these cloud-based net working and security constraints. Built on the same  \\nproven Cisco IOS Software platform that is inside t he Cisco Integrated Services Router (ISR) and Aggre gation \\nServices Router (ASR) product families, it offers a  rich set of features, including routing, VPN, fire wall, Network \\nAddress Translation (NAT), QoS, application visibil ity, failover, and WAN optimization. These function s empower \\nenterprises and cloud providers to build highly sec ure, optimized, scalable, and consistent hybrid net works. ', metadata={'source': 'https://www.cisco.com/en/US/prod/collateral/routers/ps12558/ps12559/datasheet-c78-730862.pdf', 'page': 1, 'filename': 'datasheet-c78-730862.pdf', 'product_category': 'routers', 'product_name': 'ps12558'})"
      ]
     },
     "execution_count": 103,
     "metadata": {},
     "output_type": "execute_result"
    }
   ],
   "source": [
    "pdf_doc[0]"
   ]
  },
  {
   "cell_type": "markdown",
   "id": "4f08c443-792a-4674-8f84-daa2de9ebe1f",
   "metadata": {},
   "source": [
    "# generate_cisco_metadata"
   ]
  },
  {
   "cell_type": "code",
   "execution_count": 24,
   "id": "c68a7c26-6c09-4fac-ae56-5d6164c0f8f4",
   "metadata": {},
   "outputs": [],
   "source": [
    "def generate_cisco_metadata(pdf_doc: list, verbose: bool = False) -> list:\n",
    "    \"\"\"Extracts information from the URL of a data sheet pulled from www.cisco.com to be used as metadata in the document.\n",
    "\n",
    "    Args:\n",
    "        pdf_doc (list): A list where each element is a single page of a pdf file\n",
    "        verbose (boolean): Used for debugging\n",
    "\n",
    "    Returns:\n",
    "        new_pages (list): A list of pdf pages after Cisco metadata has been added\n",
    "    \"\"\"\n",
    "    \n",
    "    new_pages = []\n",
    "    failed_docs = []\n",
    "    failed = False\n",
    "    \n",
    "    for page in pdf_doc:  \n",
    "    # Many source URLs for Cisco datasheets follow this structure:\n",
    "    # https://www.cisco.com/.../collateral/product_category/product_name/filename.pdf\n",
    "\n",
    "    # Separates the URL into a list of the form:\n",
    "    # ['...', 'www.cisco.com', '...', 'collateral', 'product_category', 'product_name', 'filename']\n",
    "        pdf_html_path = page.metadata['source']\n",
    "        split_url = pdf_html_path.split('/')\n",
    "\n",
    "        try:\n",
    "            # Find the index of \"collateral\" in the split_url and set metadata based on that index\n",
    "            idx = split_url.index('collateral')\n",
    "\n",
    "            product_category = split_url[idx+1]\n",
    "            product_name = split_url[idx+2]\n",
    "\n",
    "            page.metadata[\"product_category\"] = product_category\n",
    "            page.metadata[\"product_name\"] = product_name\n",
    "\n",
    "        except ValueError as e:\n",
    "            # If \"collateral\" isn't present in the split_url, don't generate any new metadata\n",
    "            failed = True\n",
    "            print(e)\n",
    "            pass\n",
    "        \n",
    "        new_pages.append(page)\n",
    "            \n",
    "        if verbose:\n",
    "            if failed:\n",
    "                print(f\"Failed to get metadata for {pdf_html_path}\")\n",
    "            else:\n",
    "                print(f\"\"\"Product category: {pdf_doc[0].metadata[\"product_category\"]}, \\nProduct_name: {pdf_doc[0].metadata[\"product_name\"]}, \\nMetadata added for {pdf_doc[0].metadata[\"filename\"]}.\"\"\")\n",
    "    \n",
    "    return new_pages"
   ]
  },
  {
   "cell_type": "code",
   "execution_count": 76,
   "id": "bf6800dd-81ba-4835-bb92-53dd254c724e",
   "metadata": {},
   "outputs": [
    {
     "ename": "ValueError",
     "evalue": "'z' is not in list",
     "output_type": "error",
     "traceback": [
      "\u001b[0;31m---------------------------------------------------------------------------\u001b[0m",
      "\u001b[0;31mValueError\u001b[0m                                Traceback (most recent call last)",
      "Cell \u001b[0;32mIn[76], line 2\u001b[0m\n\u001b[1;32m      1\u001b[0m test_list \u001b[38;5;241m=\u001b[39m [\u001b[38;5;124m'\u001b[39m\u001b[38;5;124ma\u001b[39m\u001b[38;5;124m'\u001b[39m, \u001b[38;5;124m'\u001b[39m\u001b[38;5;124mcollateral\u001b[39m\u001b[38;5;124m'\u001b[39m, \u001b[38;5;124m'\u001b[39m\u001b[38;5;124mb\u001b[39m\u001b[38;5;124m'\u001b[39m]\n\u001b[0;32m----> 2\u001b[0m test_list\u001b[38;5;241m.\u001b[39mindex(\u001b[38;5;124m'\u001b[39m\u001b[38;5;124mz\u001b[39m\u001b[38;5;124m'\u001b[39m)\n",
      "\u001b[0;31mValueError\u001b[0m: 'z' is not in list"
     ]
    }
   ],
   "source": [
    "test_list = ['a', 'collateral', 'b']\n",
    "test_list.index('z')"
   ]
  },
  {
   "cell_type": "code",
   "execution_count": 25,
   "id": "e4ea3205-51f9-4df4-8b42-85afa8962a66",
   "metadata": {},
   "outputs": [
    {
     "name": "stdout",
     "output_type": "stream",
     "text": [
      "Product category: routers, \n",
      "Product_name: 829-industrial-router, \n",
      "Metadata added for datasheet-c78-734981.pdf.\n"
     ]
    }
   ],
   "source": [
    "new_doc = generate_cisco_metadata(pdf_doc, verbose=True)"
   ]
  },
  {
   "cell_type": "code",
   "execution_count": 26,
   "id": "c7700dd5-5c7b-4a66-b056-f8563db68cb8",
   "metadata": {},
   "outputs": [
    {
     "data": {
      "text/plain": [
       "Document(page_content=' \\n© 2020 Cisco and/or its affiliates . All rights reserved.  Page 1 of 41 \\n \\nCisco IR829 Industrial \\nIntegrated Services Routers  \\nData sheet  \\nCisco public  \\n \\n  ', metadata={'source': 'https://www.cisco.com/c/en/us/products/collateral/routers/829-industrial-router/datasheet-c78-734981.pdf', 'page': 1, 'filename': 'datasheet-c78-734981.pdf', 'product_category': 'routers', 'product_name': '829-industrial-router'})"
      ]
     },
     "execution_count": 26,
     "metadata": {},
     "output_type": "execute_result"
    }
   ],
   "source": [
    "new_doc[0]"
   ]
  },
  {
   "cell_type": "markdown",
   "id": "ce568df1-823d-4b9a-8f86-a02b96b029e9",
   "metadata": {},
   "source": [
    "# return_pdf_docs"
   ]
  },
  {
   "cell_type": "code",
   "execution_count": 27,
   "id": "3fc75022-5496-4561-9384-1fe34782009c",
   "metadata": {},
   "outputs": [],
   "source": [
    "def return_pdf_docs(links: list, \n",
    "                    verbose: bool = False, \n",
    "                    proxies: dict = None,\n",
    "                    is_cisco_datasheet: bool = False) -> list:\n",
    "    \"\"\"\n",
    "    Download PDFs from URLs, load from local disk as Langchain Documents and add metadata.  Filters URLs so that duplicate PDF files are ignored.\n",
    "\n",
    "    Args:\n",
    "        links (list): A list of URLs\n",
    "        verbose (boolean): Used for debugging\n",
    "        proxies (dict): proxy IP addresses to use for HTTP requests\n",
    "        is_cisco_datasheet (boolean): Extracts information to be used as metadata based on criteria specifically designed for Cisco data sheets\n",
    "\n",
    "    Returns:\n",
    "        unique_pdf_docs (list): A list of Langchain PDF documents\n",
    "    \"\"\"\n",
    "\n",
    "    unique_pdf_docs = []\n",
    "    unique_pdf_names = []\n",
    "\n",
    "    for link in links:\n",
    "        # Cisco datasheets are available as both a HTML file and a PDF file.  Any datasheet that has a URL ending with .html can be accessed from the same URL if the .html is replaced with .pdf.  \n",
    "        if link.endswith(\".pdf\"):\n",
    "            pdf_html_path = link\n",
    "        else:\n",
    "            pdf_html_path = link.split(\".html\", 1)[0] + \".pdf\"\n",
    "        \n",
    "        pdf_name = pdf_html_path.split(\"/\")[-1]\n",
    "        #pdf_local_path = f\"./data/{pdf_name}\"\n",
    "        \n",
    "        if pdf_name not in unique_pdf_names:\n",
    "            # Download PDFs only if they haven't already been downloaded\n",
    "            unique_pdf_names.append(pdf_name)\n",
    "\n",
    "            try:\n",
    "                # Attempt to load the PDF file from a local path and return the PDF as a Langchain Document object\n",
    "                pdf_doc = download_pdf_and_return_doc(html_path=pdf_html_path,\n",
    "                                                     pdf_filename=pdf_name,\n",
    "                                                     proxies=proxies)\n",
    "\n",
    "                if is_cisco_datasheet==True:\n",
    "                    # Add metadata if PDF is a Cisco datasheet\n",
    "                    pdf_doc = generate_cisco_metadata(pdf_doc)\n",
    "                    unique_pdf_docs.append(pdf_doc)\n",
    "                else:\n",
    "                    unique_pdf_docs.append(pdf_doc)\n",
    "\n",
    "                print(f\"File {pdf_name} downloaded and successfully loaded.\")\n",
    "\n",
    "            except Exception as e:\n",
    "                print(f\"Error occurred: {link} not available as PDF file.\")\n",
    "                if verbose:\n",
    "                    print(e)\n",
    "                    print(f\"Error occurred: {link} not available as PDF file.\")\n",
    "            #     # Cleanup step removing PDF file after being loaded as it isn't needed anymore\n",
    "            # if os.path.exists(pdf_local_path):\n",
    "            #     os.remove(pdf_local_path)\n",
    "\n",
    "    return unique_pdf_docs"
   ]
  },
  {
   "cell_type": "code",
   "execution_count": 28,
   "id": "8236d378-806e-43df-ad29-adba4f9bd109",
   "metadata": {},
   "outputs": [
    {
     "name": "stdout",
     "output_type": "stream",
     "text": [
      "File nb-06-cat9400-architecture-cte-en.pdf downloaded and successfully loaded.\n",
      "File nb-06-cat9400-ser-data-sheet-cte-en.pdf downloaded and successfully loaded.\n",
      "File nb-06-cat9400-ser-sup-eng-data-sheet-cte-en.pdf downloaded and successfully loaded.\n",
      "File nb-06-cat9400-series-line-data-sheet-cte-en.pdf downloaded and successfully loaded.\n",
      "File nexus9400-series-switches-ds.pdf downloaded and successfully loaded.\n"
     ]
    }
   ],
   "source": [
    "pdf_docs1 = return_pdf_docs(links1, is_cisco_datasheet=True)"
   ]
  },
  {
   "cell_type": "code",
   "execution_count": 29,
   "id": "bf5e44a0-9961-41ec-baee-2917a4fd9e0d",
   "metadata": {},
   "outputs": [
    {
     "name": "stdout",
     "output_type": "stream",
     "text": [
      "{'source': 'https://www.cisco.com/c/en/us/products/collateral/switches/catalyst-9400-series-switches/nb-06-cat9400-architecture-cte-en.pdf', 'page': 1, 'filename': 'nb-06-cat9400-architecture-cte-en.pdf', 'product_category': 'switches', 'product_name': 'catalyst-9400-series-switches'}\n",
      "{'source': 'https://www.cisco.com/c/en/us/products/collateral/switches/catalyst-9400-series-switches/nb-06-cat9400-ser-data-sheet-cte-en.pdf', 'page': 1, 'filename': 'nb-06-cat9400-ser-data-sheet-cte-en.pdf', 'product_category': 'switches', 'product_name': 'catalyst-9400-series-switches'}\n",
      "{'source': 'https://www.cisco.com/c/en/us/products/collateral/switches/catalyst-9400-series-switches/nb-06-cat9400-ser-sup-eng-data-sheet-cte-en.pdf', 'page': 1, 'filename': 'nb-06-cat9400-ser-sup-eng-data-sheet-cte-en.pdf', 'product_category': 'switches', 'product_name': 'catalyst-9400-series-switches'}\n",
      "{'source': 'https://www.cisco.com/c/en/us/products/collateral/switches/catalyst-9400-series-switches/nb-06-cat9400-series-line-data-sheet-cte-en.pdf', 'page': 1, 'filename': 'nb-06-cat9400-series-line-data-sheet-cte-en.pdf', 'product_category': 'switches', 'product_name': 'catalyst-9400-series-switches'}\n",
      "{'source': 'https://www.cisco.com/c/en/us/products/collateral/switches/nexus-9000-series-switches/nexus9400-series-switches-ds.pdf', 'page': 1, 'filename': 'nexus9400-series-switches-ds.pdf', 'product_category': 'switches', 'product_name': 'nexus-9000-series-switches'}\n"
     ]
    }
   ],
   "source": [
    "for doc in pdf_docs1:\n",
    "    print(doc[0].metadata)"
   ]
  },
  {
   "cell_type": "code",
   "execution_count": 30,
   "id": "7a215e33-5451-451e-a9d6-7b29a83f784d",
   "metadata": {},
   "outputs": [
    {
     "name": "stdout",
     "output_type": "stream",
     "text": [
      "File data_sheet_c78-645111.pdf downloaded and successfully loaded.\n",
      "File nb-06-cat-9130-ser-ap-ds-cte-en.pdf downloaded and successfully loaded.\n",
      "File datasheet-c78-742434.pdf downloaded and successfully loaded.\n",
      "File 113034-2500-deploy-guide-00.pdf downloaded and successfully loaded.\n"
     ]
    }
   ],
   "source": [
    "pdf_docs2 = return_pdf_docs(links2, is_cisco_datasheet=True)"
   ]
  },
  {
   "cell_type": "code",
   "execution_count": 31,
   "id": "1d992bfb-441d-4c80-9b2b-b883fb6af607",
   "metadata": {},
   "outputs": [
    {
     "name": "stdout",
     "output_type": "stream",
     "text": [
      "{'source': 'https://www.cisco.com/c/en/us/products/collateral/wireless/2500-series-wireless-controllers/data_sheet_c78-645111.pdf', 'page': 1, 'filename': 'data_sheet_c78-645111.pdf', 'product_category': 'wireless', 'product_name': '2500-series-wireless-controllers'}\n",
      "{'source': 'https://www.cisco.com/c/en/us/products/collateral/wireless/catalyst-9100ax-access-points/nb-06-cat-9130-ser-ap-ds-cte-en.pdf', 'page': 1, 'filename': 'nb-06-cat-9130-ser-ap-ds-cte-en.pdf', 'product_category': 'wireless', 'product_name': 'catalyst-9100ax-access-points'}\n",
      "{'source': 'https://www.cisco.com/c/en/us/products/collateral/wireless/catalyst-9800-series-wireless-controllers/datasheet-c78-742434.pdf', 'page': 1, 'filename': 'datasheet-c78-742434.pdf', 'product_category': 'wireless', 'product_name': 'catalyst-9800-series-wireless-controllers'}\n",
      "{'source': 'https://www.cisco.com/c/en/us/support/docs/wireless/2500-series-wireless-controllers/113034-2500-deploy-guide-00.pdf', 'page': 1, 'filename': '113034-2500-deploy-guide-00.pdf'}\n"
     ]
    }
   ],
   "source": [
    "for doc in pdf_docs2:\n",
    "    print(doc[0].metadata)"
   ]
  },
  {
   "cell_type": "code",
   "execution_count": 32,
   "id": "de88f158-8484-42d7-8c13-814c58563a74",
   "metadata": {},
   "outputs": [
    {
     "name": "stdout",
     "output_type": "stream",
     "text": [
      "File product_data_sheet0900aecd802109ea.pdf downloaded and successfully loaded.\n",
      "File data_sheet_c78-612364.pdf downloaded and successfully loaded.\n",
      "File data_sheet_c78-686325.pdf downloaded and successfully loaded.\n",
      "File data_sheet_c78-728191.pdf downloaded and successfully loaded.\n",
      "File datasheet-c78-736551.pdf downloaded and successfully loaded.\n",
      "File nb-09-cat-4500e-sup-engine-ds-cte-en.pdf downloaded and successfully loaded.\n",
      "File product_data_sheet0900aecd801792b1.pdf downloaded and successfully loaded.\n",
      "Error occurred: https://www.cisco.com/c/en/us/products/switches/catalyst-4500-series-switches/datasheet-listing.html not available as PDF file.\n",
      "Error occurred: https://www.cisco.com/c/en/us/support/switches/catalyst-4500-series-switches/series.html not available as PDF file.\n",
      "Error occurred: https://www.cisco.com/c/en/us/support/switches/catalyst-4510r-plus-e-switch/model.html not available as PDF file.\n"
     ]
    }
   ],
   "source": [
    "pdf_docs3 = return_pdf_docs(links3, is_cisco_datasheet=True, verbose=True)"
   ]
  },
  {
   "cell_type": "code",
   "execution_count": 33,
   "id": "01f78278-80df-4cc8-9cc5-56b6b6fc5765",
   "metadata": {},
   "outputs": [
    {
     "name": "stdout",
     "output_type": "stream",
     "text": [
      "{'source': 'https://www.cisco.com/c/en/us/products/collateral/interfaces-modules/catalyst-4500-series-line-cards/product_data_sheet0900aecd802109ea.pdf', 'page': 1, 'filename': 'product_data_sheet0900aecd802109ea.pdf', 'product_category': 'interfaces-modules', 'product_name': 'catalyst-4500-series-line-cards'}\n",
      "{'source': 'https://www.cisco.com/c/en/us/products/collateral/switches/catalyst-4500-series-switches/data_sheet_c78-612364.pdf', 'page': 1, 'filename': 'data_sheet_c78-612364.pdf', 'product_category': 'switches', 'product_name': 'catalyst-4500-series-switches'}\n",
      "{'source': 'https://www.cisco.com/c/en/us/products/collateral/switches/catalyst-4500-series-switches/data_sheet_c78-686325.pdf', 'page': 1, 'filename': 'data_sheet_c78-686325.pdf', 'product_category': 'switches', 'product_name': 'catalyst-4500-series-switches'}\n",
      "{'source': 'https://www.cisco.com/c/en/us/products/collateral/switches/catalyst-4500-series-switches/data_sheet_c78-728191.pdf', 'page': 1, 'filename': 'data_sheet_c78-728191.pdf', 'product_category': 'switches', 'product_name': 'catalyst-4500-series-switches'}\n",
      "{'source': 'https://www.cisco.com/c/en/us/products/collateral/switches/catalyst-4500-series-switches/datasheet-c78-736551.pdf', 'page': 1, 'filename': 'datasheet-c78-736551.pdf', 'product_category': 'switches', 'product_name': 'catalyst-4500-series-switches'}\n",
      "{'source': 'https://www.cisco.com/c/en/us/products/collateral/switches/catalyst-4500-series-switches/nb-09-cat-4500e-sup-engine-ds-cte-en.pdf', 'page': 1, 'filename': 'nb-09-cat-4500e-sup-engine-ds-cte-en.pdf', 'product_category': 'switches', 'product_name': 'catalyst-4500-series-switches'}\n",
      "{'source': 'https://www.cisco.com/c/en/us/products/collateral/switches/catalyst-4500-series-switches/product_data_sheet0900aecd801792b1.pdf', 'page': 1, 'filename': 'product_data_sheet0900aecd801792b1.pdf', 'product_category': 'switches', 'product_name': 'catalyst-4500-series-switches'}\n"
     ]
    }
   ],
   "source": [
    "for doc in pdf_docs3:\n",
    "    print(doc[0].metadata)"
   ]
  },
  {
   "cell_type": "code",
   "execution_count": 34,
   "id": "c02273d9-242e-40a6-afb0-24a90ce17e5b",
   "metadata": {},
   "outputs": [
    {
     "name": "stdout",
     "output_type": "stream",
     "text": [
      "File datasheet-c78-2363146.pdf downloaded and successfully loaded.\n",
      "File datasheet-c78-734981.pdf downloaded and successfully loaded.\n",
      "File datasheet-c78-737307.pdf downloaded and successfully loaded.\n",
      "File b_IR829-HIG.pdf.pdf downloaded and successfully loaded.\n",
      "File b_IR829-HIG_chapter_01.pdf downloaded and successfully loaded.\n"
     ]
    }
   ],
   "source": [
    "pdf_docs4 = return_pdf_docs(links4, is_cisco_datasheet=True)"
   ]
  },
  {
   "cell_type": "code",
   "execution_count": 35,
   "id": "01af886b-1018-4d3c-a594-698f2750ea03",
   "metadata": {},
   "outputs": [
    {
     "name": "stdout",
     "output_type": "stream",
     "text": [
      "{'source': 'https://www.cisco.com/c/en/us/products/collateral/cloud-systems-management/iot-operations-dashboard/datasheet-c78-2363146.pdf', 'page': 1, 'filename': 'datasheet-c78-2363146.pdf', 'product_category': 'cloud-systems-management', 'product_name': 'iot-operations-dashboard'}\n",
      "{'source': 'https://www.cisco.com/c/en/us/products/collateral/routers/829-industrial-router/datasheet-c78-734981.pdf', 'page': 1, 'filename': 'datasheet-c78-734981.pdf', 'product_category': 'routers', 'product_name': '829-industrial-router'}\n",
      "{'source': 'https://www.cisco.com/c/en/us/products/collateral/se/internet-of-things/datasheet-c78-737307.pdf', 'page': 1, 'filename': 'datasheet-c78-737307.pdf', 'product_category': 'se', 'product_name': 'internet-of-things'}\n",
      "{'source': 'https://www.cisco.com/c/en/us/td/docs/routers/access/800/829/hardware/install/guide/b_IR829-HIG.pdf.pdf', 'page': 1, 'filename': 'b_IR829-HIG.pdf.pdf'}\n",
      "{'source': 'https://www.cisco.com/c/en/us/td/docs/routers/access/800/829/hardware/install/guide/b_IR829-HIG/b_IR829-HIG_chapter_01.pdf', 'page': 1, 'filename': 'b_IR829-HIG_chapter_01.pdf'}\n"
     ]
    }
   ],
   "source": [
    "for doc in pdf_docs4:\n",
    "    print(doc[0].metadata)"
   ]
  },
  {
   "cell_type": "markdown",
   "id": "a0d970b8-0a05-4695-a54a-2e199496cf69",
   "metadata": {},
   "source": [
    "# return_pinecone_vectorstore"
   ]
  },
  {
   "cell_type": "code",
   "execution_count": 36,
   "id": "4b9a2baf-c462-4a55-ac08-47bddccc6459",
   "metadata": {},
   "outputs": [],
   "source": [
    "def return_pinecone_vectorstore(index_name: str, \n",
    "                                model_name: str = 'text-embedding-ada-002'\n",
    "                               ) -> langchain.vectorstores.pinecone.Pinecone:\n",
    "    \"\"\"\n",
    "    \n",
    "    \"\"\"\n",
    "        \n",
    "    import pinecone\n",
    "    import os\n",
    "    from langchain.vectorstores import Pinecone\n",
    "    from langchain.embeddings import OpenAIEmbeddings\n",
    "    \n",
    "    # intialize pinecone\n",
    "    pinecone.init(\n",
    "        api_key=os.getenv(\"PINECONE_API_KEY\"), # find at app.pinecone.io\n",
    "        environment=os.getenv(\"PINECONE_ENV\"), # next to api key in console\n",
    "    )\n",
    "\n",
    "    # First, check if our index already exists.  If it doesn't we create it\n",
    "    if index_name not in pinecone.list_indexes():\n",
    "        # we create a new index\n",
    "        pinecone.create_index(\n",
    "            name=index_name,\n",
    "            metric='cosine',\n",
    "            dimension=1536\n",
    "        )\n",
    "        \n",
    "    # Specify which vector embeddings to use\n",
    "    embedding = OpenAIEmbeddings(model=model_name)\n",
    "    \n",
    "    # Create the Langchain vector database object\n",
    "    index = pinecone.Index(index_name)\n",
    "    vectordb = Pinecone(index, embedding, 'text')\n",
    "    \n",
    "    return vectordb"
   ]
  },
  {
   "cell_type": "code",
   "execution_count": 37,
   "id": "d98b953c-355d-4896-85bc-3d9edfa8c7b2",
   "metadata": {},
   "outputs": [
    {
     "name": "stderr",
     "output_type": "stream",
     "text": [
      "/Users/rancher/miniconda3/envs/ox/lib/python3.11/site-packages/pinecone/index.py:4: TqdmExperimentalWarning: Using `tqdm.autonotebook.tqdm` in notebook mode. Use `tqdm.tqdm` instead to force console mode (e.g. in jupyter console)\n",
      "  from tqdm.autonotebook import tqdm\n"
     ]
    }
   ],
   "source": [
    "index_name = \"cisco-knowledgebase\"\n",
    "vectordb_pinecone = return_pinecone_vectorstore(index_name)"
   ]
  },
  {
   "cell_type": "markdown",
   "id": "7ec79276-c553-42cf-b9fa-d0f7cdc28a95",
   "metadata": {},
   "source": [
    "# return_chroma_vectorstore"
   ]
  },
  {
   "cell_type": "code",
   "execution_count": 38,
   "id": "cc1719c1-9974-425e-871b-8521f53e7151",
   "metadata": {},
   "outputs": [],
   "source": [
    "def return_chroma_vectorstore(persist_directory: str) -> langchain.vectorstores.chroma.Chroma:\n",
    "    \"\"\"\n",
    "    If a persist_directory is provided, attemps to return the vector store located there.  If a persist_directory is not provided, one is created called 'db' by default.\n",
    "    \n",
    "    Returns:\n",
    "        vectordb (langchain.vectorstores.chroma.Chroma): A langchain object that is used to access the vectorstore called 'db' that was created.\n",
    "    \"\"\"\n",
    "    \n",
    "    from langchain.vectorstores import Chroma\n",
    "    from langchain.embeddings import OpenAIEmbeddings\n",
    "    \n",
    "    # Specify which vector embeddings to use\n",
    "    embedding = OpenAIEmbeddings()\n",
    "    \n",
    "    if persist_directory:\n",
    "        # Get vectorstore from persist_directory on local disk\n",
    "        print(f'getting vectorstore named {persist_directory}')\n",
    "        vectordb = Chroma(persist_directory=persist_directory,\n",
    "                      embedding_function=embedding)\n",
    "        print('got vectorstore')\n",
    "    else:\n",
    "        # Create vectorstore at ./db on local disk\n",
    "        print(f\"persist directory not given \\ncreating vectorstore called db\")\n",
    "        vectordb = Chroma(persist_directory='db',\n",
    "                      embedding_function=embedding)\n",
    "        print('vectorstore created')       \n",
    "        vectordb.persist()\n",
    "    \n",
    "    return vectordb"
   ]
  },
  {
   "cell_type": "code",
   "execution_count": 39,
   "id": "fb8dfc02-2cc3-465a-ba5e-8b6a1630a1a8",
   "metadata": {},
   "outputs": [
    {
     "name": "stdout",
     "output_type": "stream",
     "text": [
      "getting vectorstore named /Users/rancher/Documents/cisco_db/\n"
     ]
    },
    {
     "name": "stderr",
     "output_type": "stream",
     "text": [
      "Unable to connect optimized C data functions [No module named 'clickhouse_connect.driverc.buffer'], falling back to pure Python\n",
      "Unable to connect ClickHouse Connect C to Numpy API [No module named 'clickhouse_connect.driverc.npconv'], falling back to pure Python\n"
     ]
    },
    {
     "name": "stdout",
     "output_type": "stream",
     "text": [
      "got vectorstore\n"
     ]
    }
   ],
   "source": [
    "vectordb_chroma = return_chroma_vectorstore(f\"{db_path}/cisco_db/\")"
   ]
  },
  {
   "cell_type": "markdown",
   "id": "4135482c-371c-4809-adb2-fa1be3fa2278",
   "metadata": {},
   "source": [
    "# return_new_links"
   ]
  },
  {
   "cell_type": "code",
   "execution_count": 84,
   "id": "225ae889-3734-4aa3-8bd1-0a526d317c84",
   "metadata": {},
   "outputs": [
    {
     "data": {
      "text/plain": [
       "'https://www.cisco.com/c/dam/global/en_sg/training-events/datacentertechbyte/assets/pdfs/n1000_datasheet.pdf.pdf'"
      ]
     },
     "execution_count": 84,
     "metadata": {},
     "output_type": "execute_result"
    }
   ],
   "source": [
    "web_url = \"https://www.cisco.com/c/dam/global/en_sg/training-events/datacentertechbyte/assets/pdfs/n1000_datasheet.pdf\"\n",
    "\n",
    "web_url.split(\".html\", 1)[0] + \".pdf\""
   ]
  },
  {
   "cell_type": "code",
   "execution_count": 87,
   "id": "e104f55a-08a8-4685-a692-fb3eefd2b782",
   "metadata": {},
   "outputs": [],
   "source": [
    "def return_new_links(links: list, vectordb, verbose: bool = False) -> list:\n",
    "    \"\"\"Checks an existing vectordb whether it contains any documents having URLs matching those in links.  Any URLs found to match are removed as they imply the document already exists in the vectordb and doesn't need to be added again.\n",
    "\n",
    "    Args:\n",
    "        links (list): a list of URLs\n",
    "        vectordb (): a vectordatabase \n",
    "        debug (bool): prints when a URL doesn't match any that already exist in the vectordb.\n",
    "    \n",
    "    Returns:\n",
    "        new_links (list): a list of URLs not already present in vectordb.\n",
    "    \"\"\"\n",
    "    \n",
    "    new_links = []\n",
    "\n",
    "    for url in links:\n",
    "        if url.endswith('.pdf'):\n",
    "            pdf_html_path = url\n",
    "        # Find which urls in links match with PDF files already in the vectordb\n",
    "        else:\n",
    "            pdf_html_path = url.split(\".html\", 1)[0] + \".pdf\"\n",
    "        \n",
    "        matches = vectordb.similarity_search(query=' ', \n",
    "                                             k=1, \n",
    "                                             filter={'source':pdf_html_path})\n",
    "        # If any matches are found, it implies the PDF file exists in the vectordb and we can ignore the url\n",
    "        if len(matches)>0:\n",
    "            continue\n",
    "        \n",
    "         # If no matches are found, keep the URL so the PDF file can be added to vectordb later\n",
    "        else:\n",
    "            if verbose==True:\n",
    "                print(f'{url} not found in database')\n",
    "            new_links.append(url)\n",
    "    \n",
    "    return new_links"
   ]
  },
  {
   "cell_type": "code",
   "execution_count": 88,
   "id": "b7e4a186-8f40-487c-9728-eb0a0b53ac4f",
   "metadata": {},
   "outputs": [
    {
     "name": "stdout",
     "output_type": "stream",
     "text": [
      "https://www.cisco.com/c/en/us/products/collateral/switches/catalyst-9400-series-switches/nb-06-cat9400-architecture-cte-en.html not found in database\n",
      "https://www.cisco.com/c/en/us/products/collateral/switches/catalyst-9400-series-switches/nb-06-cat9400-ser-data-sheet-cte-en.html not found in database\n",
      "https://www.cisco.com/c/en/us/products/collateral/switches/catalyst-9400-series-switches/nb-06-cat9400-ser-data-sheet-cte-en.html#:~:text=Cisco%20Catalyst%209400%20Series%20Switch%20Data%20Sheet,-Data%20Sheet not found in database\n",
      "https://www.cisco.com/c/en/us/products/collateral/switches/catalyst-9400-series-switches/nb-06-cat9400-ser-data-sheet-cte-en.html#:~:text=FAQ-,Learn%20more not found in database\n",
      "https://www.cisco.com/c/en/us/products/collateral/switches/catalyst-9400-series-switches/nb-06-cat9400-ser-data-sheet-cte-en.html#:~:text=Your%20organization%2C%20your%20operational%20needs,-Choose%20the%20management%20platform%20that not found in database\n",
      "https://www.cisco.com/c/en/us/products/collateral/switches/catalyst-9400-series-switches/nb-06-cat9400-ser-sup-eng-data-sheet-cte-en.html not found in database\n",
      "https://www.cisco.com/c/en/us/products/collateral/switches/catalyst-9400-series-switches/nb-06-cat9400-ser-sup-eng-data-sheet-cte-en.html#:~:text=Cisco%20Catalyst%209400%20Supervisor%20Engine%20Modules%20Data%20Sheet,-Data%20Sheet not found in database\n",
      "https://www.cisco.com/c/en/us/products/collateral/switches/catalyst-9400-series-switches/nb-06-cat9400-ser-sup-eng-data-sheet-cte-en.html#:~:text=FAQ-,Learn%20more not found in database\n",
      "https://www.cisco.com/c/en/us/products/collateral/switches/catalyst-9400-series-switches/nb-06-cat9400-ser-sup-eng-data-sheet-cte-en.html#:~:text=Your%20organization%2C%20your%20operational%20needs,-Choose%20the%20management%20platform%20that not found in database\n",
      "https://www.cisco.com/c/en/us/products/collateral/switches/catalyst-9400-series-switches/nb-06-cat9400-series-line-data-sheet-cte-en.html not found in database\n",
      "https://www.cisco.com/c/en/us/products/collateral/switches/catalyst-9400-series-switches/nb-06-cat9400-series-line-data-sheet-cte-en.html#:~:text=Cisco%20Catalyst%209400%20Series%20Switch%20Line%20Cards%20Data%20Sheet,-Data%20Sheet not found in database\n",
      "https://www.cisco.com/c/en/us/products/collateral/switches/catalyst-9400-series-switches/nb-06-cat9400-series-line-data-sheet-cte-en.html#:~:text=FAQ-,Learn%20more not found in database\n",
      "https://www.cisco.com/c/en/us/products/collateral/switches/catalyst-9400-series-switches/nb-06-cat9400-series-line-data-sheet-cte-en.html#:~:text=Your%20organization%2C%20your%20operational%20needs,-Choose%20the%20management%20platform%20that not found in database\n",
      "https://www.cisco.com/c/en/us/products/collateral/switches/nexus-9000-series-switches/nexus9400-series-switches-ds.html not found in database\n",
      "https://www.cisco.com/c/en/us/products/switches/catalyst-9400-series-switches/datasheet-listing.html not found in database\n",
      "https://www.cisco.com/c/en/us/products/switches/catalyst-9400-series-switches/datasheet-listing.tab2.html not found in database\n",
      "https://www.cisco.com/c/en/us/support/switches/catalyst-9400-series-switches/series.html not found in database\n",
      "https://www.cisco.com/c/en_hk/products/switches/catalyst-9400-series-switches/index.html not found in database\n",
      "https://www.cisco.com/c/en_hk/products/switches/catalyst-9400-series-switches/index.html#:~:text=Access-,Cisco%20Catalyst%209400%20Series%20Switches not found in database\n",
      "https://www.cisco.com/c/en_hk/products/switches/catalyst-9400-series-switches/index.html#:~:text=Catalyst%209400%207%2Dslot not found in database\n",
      "https://www.cisco.com/c/en_hk/products/switches/catalyst-9400-series-switches/index.html#:~:text=Features%20and%20benefits not found in database\n",
      "https://www.cisco.com/site/us/en/products/networking/switches/catalyst-9400-series-switches/index.html not found in database\n"
     ]
    }
   ],
   "source": [
    "new_links = return_new_links(links1, vectordb_pinecone, verbose=True)"
   ]
  },
  {
   "cell_type": "markdown",
   "id": "5bad7aba-0929-4cb3-8ae1-198304156992",
   "metadata": {},
   "source": [
    "# return_new_docs"
   ]
  },
  {
   "cell_type": "code",
   "execution_count": 42,
   "id": "7d132551-603b-43d6-a400-2826cece339c",
   "metadata": {},
   "outputs": [],
   "source": [
    "def return_new_docs(pdf_docs: list, \n",
    "                    vectordb, \n",
    "                    verbose: bool = False) -> list:\n",
    "    \"\"\"Checks an existing vectordb whether it contains any documents having a filename matching one already in the vectordb.  Any documents found to match are ignored as they imply the document already exists in the vectordb and doesn't need to be added again.\n",
    "\n",
    "    Args:\n",
    "        docs (list): a list of LangChain Document objects\n",
    "        vectordb (): a vectordatabase\n",
    "        debug (bool): prints when a document for a particular video_game_title and walkthrough_id doesn't match any already present in the vectordb\n",
    "    \n",
    "    Returns:\n",
    "        new_docs (list): a list of LangChain Document objects not already present in vectordb.\n",
    "    \"\"\"\n",
    "    \n",
    "    new_docs = []\n",
    "    \n",
    "    # Check if any pdf_docs have a filename that already exist in vectordb.\n",
    "    for doc in pdf_docs:\n",
    "        filename = doc[0].metadata['filename']\n",
    "        matches =  vectordb.similarity_search(query=' ',k=1,filter=\n",
    "                                        {\n",
    "                                            \"filename\": {\"$eq\": filename}\n",
    "                                        }\n",
    "                                             )\n",
    "        # If any matches are present, the doc already exists in the vectordb and can be ignored \n",
    "        if len(matches) > 0:\n",
    "            pass\n",
    "        \n",
    "        # If no matches are found, keep the doc so it can be added to vectordb later\n",
    "        else:\n",
    "            if verbose:\n",
    "                print(f'{filename} not found in database')\n",
    "            new_docs.append(doc)\n",
    "    print(f\"{len(new_docs)} new document(s) not found in database.\")\n",
    "    \n",
    "    return new_docs"
   ]
  },
  {
   "cell_type": "code",
   "execution_count": 43,
   "id": "c205bdcc-7e6a-4e56-bab2-655c9e1570bd",
   "metadata": {},
   "outputs": [
    {
     "name": "stdout",
     "output_type": "stream",
     "text": [
      "0 new document(s) not found in database.\n"
     ]
    }
   ],
   "source": [
    "new_docs1 = return_new_docs(pdf_docs1, vectordb_pinecone, verbose=True)"
   ]
  },
  {
   "cell_type": "code",
   "execution_count": 44,
   "id": "3e8d7613-0350-4484-85fa-7f807d7f224b",
   "metadata": {},
   "outputs": [
    {
     "name": "stdout",
     "output_type": "stream",
     "text": [
      "0 new document(s) not found in database.\n"
     ]
    }
   ],
   "source": [
    "new_docs2 = return_new_docs(pdf_docs2, vectordb_pinecone, verbose=True)"
   ]
  },
  {
   "cell_type": "code",
   "execution_count": 45,
   "id": "74004de9-553c-4a9d-8570-d7ee25aa98dd",
   "metadata": {},
   "outputs": [
    {
     "name": "stdout",
     "output_type": "stream",
     "text": [
      "0 new document(s) not found in database.\n"
     ]
    }
   ],
   "source": [
    "new_docs3 = return_new_docs(pdf_docs3, vectordb_pinecone, verbose=True)"
   ]
  },
  {
   "cell_type": "code",
   "execution_count": 46,
   "id": "cb39314c-544b-45a9-8239-1a5fb731b884",
   "metadata": {},
   "outputs": [
    {
     "name": "stdout",
     "output_type": "stream",
     "text": [
      "5 new document(s) not found in database.\n"
     ]
    }
   ],
   "source": [
    "new_docs4 = return_new_docs(pdf_docs4, vectordb_pinecone)"
   ]
  },
  {
   "cell_type": "code",
   "execution_count": 48,
   "id": "6c0176e6-8995-4e75-b2ce-257b77387578",
   "metadata": {},
   "outputs": [
    {
     "data": {
      "text/plain": [
       "{'source': 'https://www.cisco.com/c/en/us/products/collateral/cloud-systems-management/iot-operations-dashboard/datasheet-c78-2363146.pdf',\n",
       " 'page': 1,\n",
       " 'filename': 'datasheet-c78-2363146.pdf',\n",
       " 'product_category': 'cloud-systems-management',\n",
       " 'product_name': 'iot-operations-dashboard'}"
      ]
     },
     "execution_count": 48,
     "metadata": {},
     "output_type": "execute_result"
    }
   ],
   "source": [
    "new_docs4[0][0].metadata"
   ]
  },
  {
   "cell_type": "markdown",
   "id": "6635eeec-ba58-4960-b024-48a3f9f0c6bc",
   "metadata": {},
   "source": [
    "# token_counter"
   ]
  },
  {
   "cell_type": "code",
   "execution_count": 54,
   "id": "cb5f1e4b-a767-434b-b61d-0defb25291e9",
   "metadata": {},
   "outputs": [],
   "source": [
    "def token_counter(text):\n",
    "    import tiktoken\n",
    "    \n",
    "    tokenizer = tiktoken.get_encoding('cl100k_base')\n",
    "    \n",
    "    tokens = tokenizer.encode(text,\n",
    "                              disallowed_special=()\n",
    "                             )\n",
    "    return len(tokens)"
   ]
  },
  {
   "cell_type": "markdown",
   "id": "d5830d79-78b9-4033-ac73-ecd98653f440",
   "metadata": {},
   "source": [
    "# batch_and_add_texts"
   ]
  },
  {
   "cell_type": "code",
   "execution_count": 55,
   "id": "3401296b-8d73-498d-ad66-1424cbcc1ff1",
   "metadata": {},
   "outputs": [],
   "source": [
    "def batch_and_add_texts(texts: list, vectordb) -> None:\n",
    "    \"\"\"\n",
    "    OpenAI enforces a token/min limit for embedding tokens. This function avoids hitting that limit by splitings texts into batches less than or equal to the token_limit.  After each batch embedded and added to the vectorstore, the program waits 60 seconds to avoid hitting the limit.\n",
    "\n",
    "    Args:\n",
    "        texts (list): a list of chunked LangChain Document objects\n",
    "        vectordb (): a vectordatabase\n",
    "    \n",
    "    Returns:\n",
    "        None\n",
    "    \"\"\"\n",
    "    \n",
    "    import time\n",
    "    \n",
    "    # Set max_tokens to be 10_000 less than the limit OpenAI enforces\n",
    "    max_tokens = 1_000_000 - 10_000\n",
    "    \n",
    "    # Flatten a list of lists into a single list containing each page of all PDF docs in texts\n",
    "    flattened_pages = [page for pdf_doc in texts for page in pdf_doc]\n",
    "    \n",
    "    # Total number of pages across all PDF docs\n",
    "    num_pages = len(flattened_pages)\n",
    "    print(f'num_pages: {num_pages}')\n",
    "    \n",
    "    total_tokens = 0\n",
    "    batched_pages = []\n",
    "        \n",
    "    for _ in range(num_pages):\n",
    "        # Remove page from list, count how many tokens it has and add the count to total_tokens\n",
    "        current_page = flattened_pages.pop(0)\n",
    "        batched_pages.append(current_page)\n",
    "        num_tokens = token_counter(current_page.page_content)\n",
    "        total_tokens += num_tokens\n",
    "        \n",
    "        # If total_tokens is less than the limit, continue the loop and add more pages of the PDF file to the batch\n",
    "        if total_tokens <= max_tokens:\n",
    "            continue\n",
    "        \n",
    "        # If the max_tokens limit is exceeded, insert the batched pages into the vectordb.\n",
    "        else:\n",
    "            pages_inserted=len(batched_pages)\n",
    "            remaining_pages=len(flattened_pages)\n",
    "            print(f\"Inserted {pages_inserted} pages into database.  {remaining_pages} pages remaining.\")\n",
    "            vectordb.add_documents(batched_pages)\n",
    "            # Reset the total_tokens count and which pages are in the batch so they're ready for the rest of the loop.  \n",
    "            total_tokens = 0\n",
    "            batched_pages = []\n",
    "            \n",
    "            # Sleep for 60 seconds to make sure the limit isn't hit on the next batch\n",
    "            print('sleeping for 60 seconds')\n",
    "            time.sleep(60)\n",
    "    \n",
    "    # If the last iteration of the for loop occurs and the if condition is true, then the batched_texts won't get uploaded.  This checks to see if any batched texts are present after the loop is complete and adds them. \n",
    "    if len(batched_pages)>0:\n",
    "        pages_inserted=len(batched_pages)\n",
    "        print(f\"Inserted {pages_inserted} pages into database.  Process completed.\")\n",
    "        vectordb.add_documents(batched_pages)\n",
    "        \n",
    "    #vectordb.persist()"
   ]
  },
  {
   "cell_type": "code",
   "execution_count": 56,
   "id": "6d676cc1-fcf2-48ac-9990-12c568bbb2a1",
   "metadata": {},
   "outputs": [
    {
     "name": "stdout",
     "output_type": "stream",
     "text": [
      "num_pages: 126\n",
      "Inserted 126 pages into database.  Process completed.\n"
     ]
    }
   ],
   "source": [
    "batch_and_add_texts(pdf_docs1, vectordb_pinecone)"
   ]
  },
  {
   "cell_type": "markdown",
   "id": "db8b2ae7-7218-4d9c-b045-813c532d9860",
   "metadata": {},
   "source": [
    "# get_llm_response"
   ]
  },
  {
   "cell_type": "code",
   "execution_count": 57,
   "id": "a86bd586-bacf-4ca1-8de2-c2115de9b8bd",
   "metadata": {},
   "outputs": [],
   "source": [
    "def get_llm_response(vectordb, \n",
    "                     product_question: str,\n",
    "                     top_n_chunks: int, \n",
    "                     model: str) -> dict:\n",
    "    \"\"\"Returns a dictionary containing information about a query to a LLM.  The dictionary contains the product_question itself, the LLM's response to the product_question, and the chunks that were pulled from vectordb to answer the question.\n",
    "\n",
    "    Args:\n",
    "        vectordb (): a vectordatabase containing source documents used to answer product_question\n",
    "        top_n_chunks (int): How many chunks are retrieved from the vector store to be used in answering the product_question\n",
    "        model (str): Name of the LLM model to use\n",
    "        product_question (str): A question you want answered about a video game\n",
    "        video_game_titles (list): A list of titles corresponding to the video game being asked about.  Many video games on GameFAQs have different names corresponding to the same game.  This list will enable the RetrievalQA chain to focus attention on only documents that correspond to the game being asked about.\n",
    "    \n",
    "    Returns:\n",
    "        llm_response (dict): \n",
    "    \"\"\"\n",
    "    from langchain.chains import RetrievalQA\n",
    "    from langchain.prompts import PromptTemplate\n",
    "    from langchain.chat_models import ChatOpenAI\n",
    "    \n",
    "    search_kwargs = {'k': top_n_chunks}\n",
    "    \n",
    "    retriever = vectordb.as_retriever(search_kwargs=search_kwargs)\n",
    "    \n",
    "\n",
    "    \n",
    "    prompt_template = \"\"\"Use the following pieces of context to answer the question.  If you don't know the answer, just say that you don't know, don't try to make up an answer.\n",
    "    \n",
    "{context}\n",
    "\n",
    "Question: {question}\n",
    "Answer:\n",
    "\"\"\"\n",
    "    \n",
    "    PROMPT = PromptTemplate(template=prompt_template, \n",
    "                            input_variables=[\"context\", \"question\"])\n",
    "    \n",
    "    chain_type_kwargs = {\"prompt\": PROMPT}\n",
    "    llm = ChatOpenAI(model_name=model)\n",
    "\n",
    "    qa_chain = RetrievalQA.from_chain_type(\n",
    "                                    llm=llm, \n",
    "                                    chain_type=\"stuff\", \n",
    "                                    retriever=retriever, \n",
    "                                    return_source_documents=True,\n",
    "                                    chain_type_kwargs=chain_type_kwargs\n",
    "                                    )\n",
    "    \n",
    "    llm_response = qa_chain(product_question)\n",
    "    \n",
    "    return llm_response"
   ]
  },
  {
   "cell_type": "code",
   "execution_count": null,
   "id": "9337c0f1-ceeb-4203-8f66-c9900669116a",
   "metadata": {},
   "outputs": [],
   "source": [
    "# llm_response = get_llm_response(vectordb_pinecone, query1, 10, model='gpt-3.5-turbo-16k')"
   ]
  },
  {
   "cell_type": "markdown",
   "id": "c8c27e92-92a9-4c21-a9f8-4583242023bc",
   "metadata": {},
   "source": [
    "# process_llm_response"
   ]
  },
  {
   "cell_type": "code",
   "execution_count": 58,
   "id": "911f5dc8-9a8e-4ef0-b051-f6bd1f57caf1",
   "metadata": {},
   "outputs": [],
   "source": [
    "def process_llm_response(llm_response: dict, \n",
    "                         print_sources: bool = False, \n",
    "                         print_chunks: bool = False) -> None:\n",
    "    \"\"\"Access and print the answer to a llm query.  Additionally print the URL of any source document used to answer the question, as well as which chunks from that source document were used.\n",
    "\n",
    "    Args:\n",
    "        llm_response (dict): A dictionary containing the response to a llm query and which source documents and chunks were used.\n",
    "        print_sources (bool): Specifies whether to print the source documents used.\n",
    "        print_chunks (bool): Specifies whether to print the chunks that were used.\n",
    "\n",
    "    Returns:\n",
    "        None\n",
    "    \"\"\"\n",
    "    print(llm_response['result'])\n",
    "    if print_sources:\n",
    "        print('\\n\\nSources:')\n",
    "        \n",
    "        unique_sources = []\n",
    "\n",
    "        for source in llm_response['source_documents']:\n",
    "            source_url = source.metadata['source']\n",
    "            source_page = source.metadata['page']\n",
    "            sources = (source_url, source_page)\n",
    "            if sources not in unique_sources:\n",
    "                unique_sources.append(sources)\n",
    "        \n",
    "        for i, source in enumerate(unique_sources, 1):\n",
    "            source_url = source[0]\n",
    "            source_page_num = int(source[1])\n",
    "            print(f\"{i}. {source_url}#page={source_page_num} - Page {source_page_num}\")\n",
    "    print()\n",
    "    if print_chunks:\n",
    "        print('\\n\\nChunks:')\n",
    "        for i, chunk in enumerate(llm_response[\"source_documents\"], 1):\n",
    "            print(f'----------Chunk {i}----------')\n",
    "            print(chunk.page_content)\n",
    "            print()"
   ]
  },
  {
   "cell_type": "markdown",
   "id": "0a7e3b60-81d6-4673-9294-64518ff1aab5",
   "metadata": {},
   "source": [
    "# cisco_qa_search_tool"
   ]
  },
  {
   "cell_type": "code",
   "execution_count": 59,
   "id": "a801f391-7066-4e50-8cb4-0b4309abc2c2",
   "metadata": {},
   "outputs": [],
   "source": [
    "def cisco_qa_search_tool(product_question: str, \n",
    "                         product_name: str,\n",
    "                         index_name: str = \"cisco-knowledgebase\", \n",
    "                         top_n_chunks: int = 5, \n",
    "                         print_sources: bool = False, \n",
    "                         print_chunks: bool = False, \n",
    "                         model:str = 'gpt-3.5-turbo',\n",
    "                         proxies: dict = None,\n",
    "                         verbose: bool = False):\n",
    "    \"\"\"\n",
    "    \n",
    "    \"\"\"\n",
    "    \n",
    "    links = scrape_google(website_url=\"www.cisco.com\",\n",
    "                          product_name=product_name, \n",
    "                          additional_search_keywords=\"data sheets\",\n",
    "                          PROXIES=proxies,\n",
    "                          verbose=verbose)\n",
    "    \n",
    "    vectordb = return_pinecone_vectorstore(index_name)\n",
    "    \n",
    "    new_links = return_new_links(links, \n",
    "                                 vectordb, \n",
    "                                 verbose=verbose)\n",
    "\n",
    "    num_new_links = len(new_links)\n",
    "    \n",
    "    if num_new_links > 0:\n",
    "        print(f'{num_new_links} new URLs detected')\n",
    "        \n",
    "        if verbose:\n",
    "            print(new_links)\n",
    "        \n",
    "        docs = return_pdf_docs(new_links, \n",
    "                               verbose=verbose, \n",
    "                               proxies=proxies,\n",
    "                               is_cisco_datasheet=True)\n",
    "        \n",
    "        new_docs = return_new_docs(docs, \n",
    "                                   vectordb, \n",
    "                                   verbose=verbose)\n",
    "        \n",
    "        if len(new_docs) > 0:\n",
    "            batch_and_add_texts(new_docs, vectordb)\n",
    "            \n",
    "        else:\n",
    "            print(\"No new docs to add\")\n",
    "    else:\n",
    "        print(\"No new links to add\")\n",
    "    \n",
    "    question_with_product_name = product_question + ' ' + product_name\n",
    "    \n",
    "    llm_response = get_llm_response(vectordb, \n",
    "                                    question_with_product_name,\n",
    "                                    top_n_chunks, \n",
    "                                    model)\n",
    "    \n",
    "    processed_response = process_llm_response(llm_response, \n",
    "                                              print_sources,\n",
    "                                              print_chunks)\n",
    "    \n",
    "    return processed_response"
   ]
  },
  {
   "cell_type": "markdown",
   "id": "99092f28-235c-4c2e-845d-bb777c6cf86b",
   "metadata": {},
   "source": [
    "# catalyst 2500 wireless controller"
   ]
  },
  {
   "cell_type": "code",
   "execution_count": 60,
   "id": "cd2d7065-1cec-4254-b22f-301634142edb",
   "metadata": {},
   "outputs": [],
   "source": [
    "product_name = 'catalyst 2500 wireless controller'"
   ]
  },
  {
   "cell_type": "markdown",
   "id": "36c45b40-d305-4f32-95ff-18225ef21aee",
   "metadata": {},
   "source": [
    "## query 1"
   ]
  },
  {
   "cell_type": "code",
   "execution_count": 61,
   "id": "d4014363-bd44-4bbe-af80-9da1d69b62bd",
   "metadata": {},
   "outputs": [],
   "source": [
    "query1 = 'how many access points do the cisco 2500 series wireless controllers have?'"
   ]
  },
  {
   "cell_type": "code",
   "execution_count": 62,
   "id": "dd7d1fc0-0ed3-4864-9c94-5fbc373049f1",
   "metadata": {
    "tags": []
   },
   "outputs": [
    {
     "name": "stdout",
     "output_type": "stream",
     "text": [
      "10 useful links found.\n",
      "7 new URLs detected\n",
      "0 new document(s) not found in database.\n",
      "No new docs to add\n",
      "The Cisco 2500 Series Wireless Controller supports a maximum of 50 lightweight APs.\n",
      "\n",
      "\n",
      "Sources:\n",
      "1. https://www.cisco.com/c/en/us/support/docs/wireless/2500-series-wireless-controllers/113034-2500-deploy-guide-00.pdf#page=2 - Page 2\n",
      "\n",
      "\n",
      "\n",
      "Chunks:\n",
      "----------Chunk 1----------\n",
      "The Cisco 2500 Series Wireless Controller blends into the Cisco Unified Wireless Network\n",
      "(CUWN) and works with both Cisco lightweight access points (LAPs) and the Cisco Wireless\n",
      "Control System (WCS) or Cisco Network Control System (NCS) or Prime Infrastructure (PI) to\n",
      "provide system-wide wireless LAN functions. The Cisco 2500 Series Wireless Controller provides\n",
      "real-time communication between wireless APs and other devices to deliver centralized security\n",
      "policies, guest access, wireless intrusion prevention system (wIPS), context-aware (location),\n",
      "Radio Frequency (RF) management, and quality of services (QoS) for mobility services, such as\n",
      "voice and video, and Office Extend Access Point (OEAP) support for the teleworker solution.\n",
      "The Cisco 2500 Series Wireless Controller supports a maximum of 50 lightweight APs in\n",
      "increments of 5 AP licenses with a minimum of a 5 AP license, which makes it a cost-effective\n",
      "solution for retail and small and medium-sized businesses. The Cisco 2500 Series Wireless\n",
      "Controller offers robust coverage with 802.11 a/b/g or delivers unprecedented reliability with the\n",
      "use of 802.11n, 802.11ac, and Cisco Next-Generation Wireless Solutions and Cisco Enterprise\n",
      "Wireless Mesh.\n",
      "Prerequisites\n",
      "Requirements\n",
      "There are no specific requirements for this document.\n",
      "Components Used\n",
      "The information in this document is based on the Cisco 2500 Series Wireless Controller.\n",
      "The information in this document was created from the devices in a specific lab environment. All of\n",
      "the devices used in this document started with a cleared (default) configuration. If your network is\n",
      "live, ensure that you understand the potential impact of any command.\n",
      "Hardware Specifications\n",
      "Data Ports - 4 x 1 Gigabit Ethernet Ports●\n",
      "Console Port - 1 x RJ-45●\n",
      "External 48 VDC Power Supply●\n",
      "Additional Features\n",
      "Support for Control and Provisioning of Wireless Access Points (CAPWAP) protocol.●\n",
      "Encryption on CAPWAP Data Tunnel (DTLS) (optional).●\n",
      "License-based AP count. AP Counts - 50 (in steps of 5, 25, 50). This was increased to 75 as\n",
      "of Release 7.4 software code.●\n",
      "Supported Client Count - 500 (In all STATE). This was increased to 1000 as of Release 7.4\n",
      "software code.●\n",
      "Supported Tag Count - 500.●\n",
      "Triple-Play Ready - Supports Data, Voice, and Video.●\n",
      "500 Mbps of overall traffic throughput (no matter how many ports are connected). This was\n",
      "increased to 1 Gbps as of Release 7.4 software code.●\n",
      "Link Aggregation Group (LAG) is available only as of Release 7.4 software code and later.●\n",
      "\n",
      "----------Chunk 2----------\n",
      "The Cisco 2500 Series Wireless Controller blends into the Cisco Unified Wireless Network\n",
      "(CUWN) and works with both Cisco lightweight access points (LAPs) and the Cisco Wireless\n",
      "Control System (WCS) or Cisco Network Control System (NCS) or Prime Infrastructure (PI) to\n",
      "provide system-wide wireless LAN functions. The Cisco 2500 Series Wireless Controller provides\n",
      "real-time communication between wireless APs and other devices to deliver centralized security\n",
      "policies, guest access, wireless intrusion prevention system (wIPS), context-aware (location),\n",
      "Radio Frequency (RF) management, and quality of services (QoS) for mobility services, such as\n",
      "voice and video, and Office Extend Access Point (OEAP) support for the teleworker solution.\n",
      "The Cisco 2500 Series Wireless Controller supports a maximum of 50 lightweight APs in\n",
      "increments of 5 AP licenses with a minimum of a 5 AP license, which makes it a cost-effective\n",
      "solution for retail and small and medium-sized businesses. The Cisco 2500 Series Wireless\n",
      "Controller offers robust coverage with 802.11 a/b/g or delivers unprecedented reliability with the\n",
      "use of 802.11n, 802.11ac, and Cisco Next-Generation Wireless Solutions and Cisco Enterprise\n",
      "Wireless Mesh.\n",
      "Prerequisites\n",
      "Requirements\n",
      "There are no specific requirements for this document.\n",
      "Components Used\n",
      "The information in this document is based on the Cisco 2500 Series Wireless Controller.\n",
      "The information in this document was created from the devices in a specific lab environment. All of\n",
      "the devices used in this document started with a cleared (default) configuration. If your network is\n",
      "live, ensure that you understand the potential impact of any command.\n",
      "Hardware Specifications\n",
      "Data Ports - 4 x 1 Gigabit Ethernet Ports●\n",
      "Console Port - 1 x RJ-45●\n",
      "External 48 VDC Power Supply●\n",
      "Additional Features\n",
      "Support for Control and Provisioning of Wireless Access Points (CAPWAP) protocol.●\n",
      "Encryption on CAPWAP Data Tunnel (DTLS) (optional).●\n",
      "License-based AP count. AP Counts - 50 (in steps of 5, 25, 50). This was increased to 75 as\n",
      "of Release 7.4 software code.●\n",
      "Supported Client Count - 500 (In all STATE). This was increased to 1000 as of Release 7.4\n",
      "software code.●\n",
      "Supported Tag Count - 500.●\n",
      "Triple-Play Ready - Supports Data, Voice, and Video.●\n",
      "500 Mbps of overall traffic throughput (no matter how many ports are connected). This was\n",
      "increased to 1 Gbps as of Release 7.4 software code.●\n",
      "Link Aggregation Group (LAG) is available only as of Release 7.4 software code and later.●\n",
      "\n",
      "----------Chunk 3----------\n",
      "The Cisco 2500 Series Wireless Controller blends into the Cisco Unified Wireless Network\n",
      "(CUWN) and works with both Cisco lightweight access points (LAPs) and the Cisco Wireless\n",
      "Control System (WCS) or Cisco Network Control System (NCS) or Prime Infrastructure (PI) to\n",
      "provide system-wide wireless LAN functions. The Cisco 2500 Series Wireless Controller provides\n",
      "real-time communication between wireless APs and other devices to deliver centralized security\n",
      "policies, guest access, wireless intrusion prevention system (wIPS), context-aware (location),\n",
      "Radio Frequency (RF) management, and quality of services (QoS) for mobility services, such as\n",
      "voice and video, and Office Extend Access Point (OEAP) support for the teleworker solution.\n",
      "The Cisco 2500 Series Wireless Controller supports a maximum of 50 lightweight APs in\n",
      "increments of 5 AP licenses with a minimum of a 5 AP license, which makes it a cost-effective\n",
      "solution for retail and small and medium-sized businesses. The Cisco 2500 Series Wireless\n",
      "Controller offers robust coverage with 802.11 a/b/g or delivers unprecedented reliability with the\n",
      "use of 802.11n, 802.11ac, and Cisco Next-Generation Wireless Solutions and Cisco Enterprise\n",
      "Wireless Mesh.\n",
      "Prerequisites\n",
      "Requirements\n",
      "There are no specific requirements for this document.\n",
      "Components Used\n",
      "The information in this document is based on the Cisco 2500 Series Wireless Controller.\n",
      "The information in this document was created from the devices in a specific lab environment. All of\n",
      "the devices used in this document started with a cleared (default) configuration. If your network is\n",
      "live, ensure that you understand the potential impact of any command.\n",
      "Hardware Specifications\n",
      "Data Ports - 4 x 1 Gigabit Ethernet Ports●\n",
      "Console Port - 1 x RJ-45●\n",
      "External 48 VDC Power Supply●\n",
      "Additional Features\n",
      "Support for Control and Provisioning of Wireless Access Points (CAPWAP) protocol.●\n",
      "Encryption on CAPWAP Data Tunnel (DTLS) (optional).●\n",
      "License-based AP count. AP Counts - 50 (in steps of 5, 25, 50). This was increased to 75 as\n",
      "of Release 7.4 software code.●\n",
      "Supported Client Count - 500 (In all STATE). This was increased to 1000 as of Release 7.4\n",
      "software code.●\n",
      "Supported Tag Count - 500.●\n",
      "Triple-Play Ready - Supports Data, Voice, and Video.●\n",
      "500 Mbps of overall traffic throughput (no matter how many ports are connected). This was\n",
      "increased to 1 Gbps as of Release 7.4 software code.●\n",
      "Link Aggregation Group (LAG) is available only as of Release 7.4 software code and later.●\n",
      "\n",
      "----------Chunk 4----------\n",
      "The Cisco 2500 Series Wireless Controller blends into the Cisco Unified Wireless Network\n",
      "(CUWN) and works with both Cisco lightweight access points (LAPs) and the Cisco Wireless\n",
      "Control System (WCS) or Cisco Network Control System (NCS) or Prime Infrastructure (PI) to\n",
      "provide system-wide wireless LAN functions. The Cisco 2500 Series Wireless Controller provides\n",
      "real-time communication between wireless APs and other devices to deliver centralized security\n",
      "policies, guest access, wireless intrusion prevention system (wIPS), context-aware (location),\n",
      "Radio Frequency (RF) management, and quality of services (QoS) for mobility services, such as\n",
      "voice and video, and Office Extend Access Point (OEAP) support for the teleworker solution.\n",
      "The Cisco 2500 Series Wireless Controller supports a maximum of 50 lightweight APs in\n",
      "increments of 5 AP licenses with a minimum of a 5 AP license, which makes it a cost-effective\n",
      "solution for retail and small and medium-sized businesses. The Cisco 2500 Series Wireless\n",
      "Controller offers robust coverage with 802.11 a/b/g or delivers unprecedented reliability with the\n",
      "use of 802.11n, 802.11ac, and Cisco Next-Generation Wireless Solutions and Cisco Enterprise\n",
      "Wireless Mesh.\n",
      "Prerequisites\n",
      "Requirements\n",
      "There are no specific requirements for this document.\n",
      "Components Used\n",
      "The information in this document is based on the Cisco 2500 Series Wireless Controller.\n",
      "The information in this document was created from the devices in a specific lab environment. All of\n",
      "the devices used in this document started with a cleared (default) configuration. If your network is\n",
      "live, ensure that you understand the potential impact of any command.\n",
      "Hardware Specifications\n",
      "Data Ports - 4 x 1 Gigabit Ethernet Ports●\n",
      "Console Port - 1 x RJ-45●\n",
      "External 48 VDC Power Supply●\n",
      "Additional Features\n",
      "Support for Control and Provisioning of Wireless Access Points (CAPWAP) protocol.●\n",
      "Encryption on CAPWAP Data Tunnel (DTLS) (optional).●\n",
      "License-based AP count. AP Counts - 50 (in steps of 5, 25, 50). This was increased to 75 as\n",
      "of Release 7.4 software code.●\n",
      "Supported Client Count - 500 (In all STATE). This was increased to 1000 as of Release 7.4\n",
      "software code.●\n",
      "Supported Tag Count - 500.●\n",
      "Triple-Play Ready - Supports Data, Voice, and Video.●\n",
      "500 Mbps of overall traffic throughput (no matter how many ports are connected). This was\n",
      "increased to 1 Gbps as of Release 7.4 software code.●\n",
      "Link Aggregation Group (LAG) is available only as of Release 7.4 software code and later.●\n",
      "\n",
      "----------Chunk 5----------\n",
      "The Cisco 2500 Series Wireless Controller blends into the Cisco Unified Wireless Network\n",
      "(CUWN) and works with both Cisco lightweight access points (LAPs) and the Cisco Wireless\n",
      "Control System (WCS) or Cisco Network Control System (NCS) or Prime Infrastructure (PI) to\n",
      "provide system-wide wireless LAN functions. The Cisco 2500 Series Wireless Controller provides\n",
      "real-time communication between wireless APs and other devices to deliver centralized security\n",
      "policies, guest access, wireless intrusion prevention system (wIPS), context-aware (location),\n",
      "Radio Frequency (RF) management, and quality of services (QoS) for mobility services, such as\n",
      "voice and video, and Office Extend Access Point (OEAP) support for the teleworker solution.\n",
      "The Cisco 2500 Series Wireless Controller supports a maximum of 50 lightweight APs in\n",
      "increments of 5 AP licenses with a minimum of a 5 AP license, which makes it a cost-effective\n",
      "solution for retail and small and medium-sized businesses. The Cisco 2500 Series Wireless\n",
      "Controller offers robust coverage with 802.11 a/b/g or delivers unprecedented reliability with the\n",
      "use of 802.11n, 802.11ac, and Cisco Next-Generation Wireless Solutions and Cisco Enterprise\n",
      "Wireless Mesh.\n",
      "Prerequisites\n",
      "Requirements\n",
      "There are no specific requirements for this document.\n",
      "Components Used\n",
      "The information in this document is based on the Cisco 2500 Series Wireless Controller.\n",
      "The information in this document was created from the devices in a specific lab environment. All of\n",
      "the devices used in this document started with a cleared (default) configuration. If your network is\n",
      "live, ensure that you understand the potential impact of any command.\n",
      "Hardware Specifications\n",
      "Data Ports - 4 x 1 Gigabit Ethernet Ports●\n",
      "Console Port - 1 x RJ-45●\n",
      "External 48 VDC Power Supply●\n",
      "Additional Features\n",
      "Support for Control and Provisioning of Wireless Access Points (CAPWAP) protocol.●\n",
      "Encryption on CAPWAP Data Tunnel (DTLS) (optional).●\n",
      "License-based AP count. AP Counts - 50 (in steps of 5, 25, 50). This was increased to 75 as\n",
      "of Release 7.4 software code.●\n",
      "Supported Client Count - 500 (In all STATE). This was increased to 1000 as of Release 7.4\n",
      "software code.●\n",
      "Supported Tag Count - 500.●\n",
      "Triple-Play Ready - Supports Data, Voice, and Video.●\n",
      "500 Mbps of overall traffic throughput (no matter how many ports are connected). This was\n",
      "increased to 1 Gbps as of Release 7.4 software code.●\n",
      "Link Aggregation Group (LAG) is available only as of Release 7.4 software code and later.●\n",
      "\n"
     ]
    }
   ],
   "source": [
    "cisco_qa_search_tool(product_question=query1,\n",
    "                     product_name=product_name,\n",
    "                     top_n_chunks = 5, \n",
    "                     print_sources=True,\n",
    "                     print_chunks=True, \n",
    "                     model='gpt-3.5-turbo')"
   ]
  },
  {
   "cell_type": "markdown",
   "id": "911e2cbe-7ca1-4963-a116-715acb0d7e21",
   "metadata": {},
   "source": [
    "# catalyst 9400"
   ]
  },
  {
   "cell_type": "code",
   "execution_count": 63,
   "id": "21a9175c-f1cd-4d5c-b89d-8cb6baf346ad",
   "metadata": {},
   "outputs": [],
   "source": [
    "product_name = 'catalyst 9400'"
   ]
  },
  {
   "cell_type": "markdown",
   "id": "b1fd8442-ec1b-4949-a145-df861ce5fe39",
   "metadata": {},
   "source": [
    "## query1"
   ]
  },
  {
   "cell_type": "code",
   "execution_count": 64,
   "id": "490f778b-e42c-4075-b2e1-cd40f41c5d9a",
   "metadata": {},
   "outputs": [],
   "source": [
    "query1 = \"What ranges of temperatures can it endure?\""
   ]
  },
  {
   "cell_type": "code",
   "execution_count": 65,
   "id": "e4142e25-ebc2-4b74-bbeb-a695d1a72a25",
   "metadata": {
    "tags": []
   },
   "outputs": [
    {
     "name": "stdout",
     "output_type": "stream",
     "text": [
      "10 useful links found.\n",
      "5 new URLs detected\n",
      "0 new document(s) not found in database.\n",
      "No new docs to add\n",
      "The Cisco Catalyst 9400 Series can endure temperatures ranging from 23°F to 113°F (-5°C to +45°C) in normal operating conditions. In short-term exceptional conditions, it can endure temperatures ranging from 23°F to 131°F (-5°C to +55°C).\n",
      "\n",
      "\n",
      "Sources:\n",
      "1. https://www.cisco.com/c/en/us/products/collateral/switches/catalyst-9400-series-switches/nb-06-cat9400-ser-data-sheet-cte-en.pdf#page=14 - Page 14\n",
      "\n",
      "\n",
      "\n",
      "Chunks:\n",
      "----------Chunk 1----------\n",
      " \n",
      "© 2023  Cisco and/or its affiliates . All rights reserved.  Page 14 of 22 Fan trays  \n",
      "Each Cisco Catalyst 9400 Series uses dual serviceable fan trays for cooling. Cisco Catalyst 9400 switches \n",
      "can optionally be accessed from the rear for flex ible cable management. The chassis is enterprise closet -\n",
      "optimized with side -to-side airflow. All fan trays are composed of multiple independently controlled fans with \n",
      "N+1 redundancy. If any single fan fails, the system will continue to operate without a de gradation in cooling. \n",
      "Speeds of fans change dynamically to compensate for fan failure. Catalyst 9400 Series fans have a \n",
      "barometric sensor, which allows slower fan speed curves at lower altitudes. Catalyst 9400 Series fans also \n",
      "have individual fan Pulse -Wide Modulation (PWM) fine -tuning to reduce variability in fan Revolutions Per \n",
      "Minute (RPM) under throttled conditions. This allows for optimal acoustic performance at 60dB when the \n",
      "system is operating at 50% load.  \n",
      " \n",
      "  Figure 2. \n",
      "Dual serviceable fan tray  \n",
      "Environmental conditions  \n",
      "The Cisco Catalyst 9400 Series require the following conditions:  \n",
      "● Operating temperature  \n",
      "● Normal operating* temperature and altitudes:  \n",
      "◦ 23° to 113°F ( -5 to +45°C), up to 6,000 feet (1800 m)  \n",
      "◦ 23° to 104°F ( -5 to +40°C), up to 10,000 feet (3000 m)  \n",
      "◦ *Minimum ambient temperature for cold startup is 0°C  \n",
      "● Short -term** exceptional conditions:  \n",
      "◦ 23° to 131°F ( -5 to +55°C), up to 6,000 feet (1800 m)  \n",
      "◦ 23° to 122°F ( -5 to +50°C), up to 10,000 feet (3000 m)  \n",
      "◦ **Not more than following in one -year period: 96 consecutive hours, or 360 hours total, or 15 \n",
      "occurrences  \n",
      "● Storage temperature: -40° to 158°F ( -40° to 70°C)  \n",
      "● Relative humidity: 10 to 95 percent, noncondensing  \n",
      "● Operating altitude: -60 to 3000m  \n",
      "\n",
      "\n",
      "----------Chunk 2----------\n",
      " \n",
      "© 2023  Cisco and/or its affiliates . All rights reserved.  Page 14 of 22 Fan trays  \n",
      "Each Cisco Catalyst 9400 Series uses dual serviceable fan trays for cooling. Cisco Catalyst 9400 switches \n",
      "can optionally be accessed from the rear for flex ible cable management. The chassis is enterprise closet -\n",
      "optimized with side -to-side airflow. All fan trays are composed of multiple independently controlled fans with \n",
      "N+1 redundancy. If any single fan fails, the system will continue to operate without a de gradation in cooling. \n",
      "Speeds of fans change dynamically to compensate for fan failure. Catalyst 9400 Series fans have a \n",
      "barometric sensor, which allows slower fan speed curves at lower altitudes. Catalyst 9400 Series fans also \n",
      "have individual fan Pulse -Wide Modulation (PWM) fine -tuning to reduce variability in fan Revolutions Per \n",
      "Minute (RPM) under throttled conditions. This allows for optimal acoustic performance at 60dB when the \n",
      "system is operating at 50% load.  \n",
      " \n",
      "  Figure 2. \n",
      "Dual serviceable fan tray  \n",
      "Environmental conditions  \n",
      "The Cisco Catalyst 9400 Series require the following conditions:  \n",
      "● Operating temperature  \n",
      "● Normal operating* temperature and altitudes:  \n",
      "◦ 23° to 113°F ( -5 to +45°C), up to 6,000 feet (1800 m)  \n",
      "◦ 23° to 104°F ( -5 to +40°C), up to 10,000 feet (3000 m)  \n",
      "◦ *Minimum ambient temperature for cold startup is 0°C  \n",
      "● Short -term** exceptional conditions:  \n",
      "◦ 23° to 131°F ( -5 to +55°C), up to 6,000 feet (1800 m)  \n",
      "◦ 23° to 122°F ( -5 to +50°C), up to 10,000 feet (3000 m)  \n",
      "◦ **Not more than following in one -year period: 96 consecutive hours, or 360 hours total, or 15 \n",
      "occurrences  \n",
      "● Storage temperature: -40° to 158°F ( -40° to 70°C)  \n",
      "● Relative humidity: 10 to 95 percent, noncondensing  \n",
      "● Operating altitude: -60 to 3000m  \n",
      "\n",
      "\n",
      "----------Chunk 3----------\n",
      " \n",
      "© 2023  Cisco and/or its affiliates . All rights reserved.  Page 14 of 22 Fan trays  \n",
      "Each Cisco Catalyst 9400 Series uses dual serviceable fan trays for cooling. Cisco Catalyst 9400 switches \n",
      "can optionally be accessed from the rear for flex ible cable management. The chassis is enterprise closet -\n",
      "optimized with side -to-side airflow. All fan trays are composed of multiple independently controlled fans with \n",
      "N+1 redundancy. If any single fan fails, the system will continue to operate without a de gradation in cooling. \n",
      "Speeds of fans change dynamically to compensate for fan failure. Catalyst 9400 Series fans have a \n",
      "barometric sensor, which allows slower fan speed curves at lower altitudes. Catalyst 9400 Series fans also \n",
      "have individual fan Pulse -Wide Modulation (PWM) fine -tuning to reduce variability in fan Revolutions Per \n",
      "Minute (RPM) under throttled conditions. This allows for optimal acoustic performance at 60dB when the \n",
      "system is operating at 50% load.  \n",
      " \n",
      "  Figure 2. \n",
      "Dual serviceable fan tray  \n",
      "Environmental conditions  \n",
      "The Cisco Catalyst 9400 Series require the following conditions:  \n",
      "● Operating temperature  \n",
      "● Normal operating* temperature and altitudes:  \n",
      "◦ 23° to 113°F ( -5 to +45°C), up to 6,000 feet (1800 m)  \n",
      "◦ 23° to 104°F ( -5 to +40°C), up to 10,000 feet (3000 m)  \n",
      "◦ *Minimum ambient temperature for cold startup is 0°C  \n",
      "● Short -term** exceptional conditions:  \n",
      "◦ 23° to 131°F ( -5 to +55°C), up to 6,000 feet (1800 m)  \n",
      "◦ 23° to 122°F ( -5 to +50°C), up to 10,000 feet (3000 m)  \n",
      "◦ **Not more than following in one -year period: 96 consecutive hours, or 360 hours total, or 15 \n",
      "occurrences  \n",
      "● Storage temperature: -40° to 158°F ( -40° to 70°C)  \n",
      "● Relative humidity: 10 to 95 percent, noncondensing  \n",
      "● Operating altitude: -60 to 3000m  \n",
      "\n",
      "\n",
      "----------Chunk 4----------\n",
      " \n",
      "© 2023  Cisco and/or its affiliates . All rights reserved.  Page 14 of 22 Fan trays  \n",
      "Each Cisco Catalyst 9400 Series uses dual serviceable fan trays for cooling. Cisco Catalyst 9400 switches \n",
      "can optionally be accessed from the rear for flex ible cable management. The chassis is enterprise closet -\n",
      "optimized with side -to-side airflow. All fan trays are composed of multiple independently controlled fans with \n",
      "N+1 redundancy. If any single fan fails, the system will continue to operate without a de gradation in cooling. \n",
      "Speeds of fans change dynamically to compensate for fan failure. Catalyst 9400 Series fans have a \n",
      "barometric sensor, which allows slower fan speed curves at lower altitudes. Catalyst 9400 Series fans also \n",
      "have individual fan Pulse -Wide Modulation (PWM) fine -tuning to reduce variability in fan Revolutions Per \n",
      "Minute (RPM) under throttled conditions. This allows for optimal acoustic performance at 60dB when the \n",
      "system is operating at 50% load.  \n",
      " \n",
      "  Figure 2. \n",
      "Dual serviceable fan tray  \n",
      "Environmental conditions  \n",
      "The Cisco Catalyst 9400 Series require the following conditions:  \n",
      "● Operating temperature  \n",
      "● Normal operating* temperature and altitudes:  \n",
      "◦ 23° to 113°F ( -5 to +45°C), up to 6,000 feet (1800 m)  \n",
      "◦ 23° to 104°F ( -5 to +40°C), up to 10,000 feet (3000 m)  \n",
      "◦ *Minimum ambient temperature for cold startup is 0°C  \n",
      "● Short -term** exceptional conditions:  \n",
      "◦ 23° to 131°F ( -5 to +55°C), up to 6,000 feet (1800 m)  \n",
      "◦ 23° to 122°F ( -5 to +50°C), up to 10,000 feet (3000 m)  \n",
      "◦ **Not more than following in one -year period: 96 consecutive hours, or 360 hours total, or 15 \n",
      "occurrences  \n",
      "● Storage temperature: -40° to 158°F ( -40° to 70°C)  \n",
      "● Relative humidity: 10 to 95 percent, noncondensing  \n",
      "● Operating altitude: -60 to 3000m  \n",
      "\n",
      "\n",
      "----------Chunk 5----------\n",
      " \n",
      "© 2023  Cisco and/or its affiliates . All rights reserved.  Page 14 of 22 Fan trays  \n",
      "Each Cisco Catalyst 9400 Series uses dual serviceable fan trays for cooling. Cisco Catalyst 9400 switches \n",
      "can optionally be accessed from the rear for flex ible cable management. The chassis is enterprise closet -\n",
      "optimized with side -to-side airflow. All fan trays are composed of multiple independently controlled fans with \n",
      "N+1 redundancy. If any single fan fails, the system will continue to operate without a de gradation in cooling. \n",
      "Speeds of fans change dynamically to compensate for fan failure. Catalyst 9400 Series fans have a \n",
      "barometric sensor, which allows slower fan speed curves at lower altitudes. Catalyst 9400 Series fans also \n",
      "have individual fan Pulse -Wide Modulation (PWM) fine -tuning to reduce variability in fan Revolutions Per \n",
      "Minute (RPM) under throttled conditions. This allows for optimal acoustic performance at 60dB when the \n",
      "system is operating at 50% load.  \n",
      " \n",
      "  Figure 2. \n",
      "Dual serviceable fan tray  \n",
      "Environmental conditions  \n",
      "The Cisco Catalyst 9400 Series require the following conditions:  \n",
      "● Operating temperature  \n",
      "● Normal operating* temperature and altitudes:  \n",
      "◦ 23° to 113°F ( -5 to +45°C), up to 6,000 feet (1800 m)  \n",
      "◦ 23° to 104°F ( -5 to +40°C), up to 10,000 feet (3000 m)  \n",
      "◦ *Minimum ambient temperature for cold startup is 0°C  \n",
      "● Short -term** exceptional conditions:  \n",
      "◦ 23° to 131°F ( -5 to +55°C), up to 6,000 feet (1800 m)  \n",
      "◦ 23° to 122°F ( -5 to +50°C), up to 10,000 feet (3000 m)  \n",
      "◦ **Not more than following in one -year period: 96 consecutive hours, or 360 hours total, or 15 \n",
      "occurrences  \n",
      "● Storage temperature: -40° to 158°F ( -40° to 70°C)  \n",
      "● Relative humidity: 10 to 95 percent, noncondensing  \n",
      "● Operating altitude: -60 to 3000m  \n",
      "\n",
      "\n"
     ]
    }
   ],
   "source": [
    "cisco_qa_search_tool(product_question=query1,\n",
    "                     product_name=product_name,\n",
    "                     top_n_chunks = 5, \n",
    "                     print_sources=True,\n",
    "                     print_chunks=True, \n",
    "                     model='gpt-3.5-turbo')"
   ]
  },
  {
   "cell_type": "markdown",
   "id": "ba3728e0-2054-43f0-990e-ae7854eed3c0",
   "metadata": {},
   "source": [
    "# catalyst 4500e"
   ]
  },
  {
   "cell_type": "code",
   "execution_count": 66,
   "id": "89915515-d910-4b56-a673-9ce8602bf589",
   "metadata": {},
   "outputs": [],
   "source": [
    "product_name = 'catalyst 4500e'"
   ]
  },
  {
   "cell_type": "markdown",
   "id": "27046d81-540c-426d-b668-265043f6c536",
   "metadata": {},
   "source": [
    "## query1"
   ]
  },
  {
   "cell_type": "code",
   "execution_count": 67,
   "id": "c4f3466f-7984-43c0-bb30-4f7d3019f715",
   "metadata": {},
   "outputs": [],
   "source": [
    "query1 = \"What throughput does it have?\""
   ]
  },
  {
   "cell_type": "code",
   "execution_count": 68,
   "id": "6551af64-a971-4cf1-90ef-b10f08f8e33a",
   "metadata": {
    "tags": []
   },
   "outputs": [
    {
     "name": "stdout",
     "output_type": "stream",
     "text": [
      "10 useful links found.\n",
      "2 new URLs detected\n",
      "0 new document(s) not found in database.\n",
      "No new docs to add\n",
      "The Cisco Catalyst 4500E Supervisor Engine 7L-E has a throughput of 225 Mpps for IPv4, 110 Mpps for IPv6, and 225 Mpps for L2 Bridging.\n",
      "\n",
      "\n",
      "Sources:\n",
      "1. https://www.cisco.com/c/en/us/products/collateral/switches/catalyst-4500-series-switches/data_sheet_c78-686325.pdf#page=3 - Page 3\n",
      "2. https://www.cisco.com/c/en/us/products/collateral/switches/catalyst-4500-series-switches/product_data_sheet0900aecd801792b1.pdf#page=1 - Page 1\n",
      "3. https://www.cisco.com/c/en/us/products/collateral/switches/catalyst-4500-series-switches/data_sheet_c78-612364.pdf#page=2 - Page 2\n",
      "4. https://www.cisco.com/c/en/us/products/collateral/switches/catalyst-4500-series-switches/data_sheet_c78-612364.pdf#page=3 - Page 3\n",
      "5. https://www.cisco.com/c/en/us/products/collateral/switches/catalyst-4500-series-switches/data_sheet_c78-686325.pdf#page=2 - Page 2\n",
      "6. https://www.cisco.com/c/en/us/products/collateral/switches/catalyst-4500-series-switches/nb-09-cat-4500e-sup-engine-ds-cte-en.pdf#page=3 - Page 3\n",
      "7. https://www.cisco.com/c/en/us/products/collateral/switches/catalyst-4500-series-switches/data_sheet_c78-686325.pdf#page=1 - Page 1\n",
      "8. https://www.cisco.com/c/en/us/products/collateral/switches/catalyst-4500-series-switches/nb-09-cat-4500e-sup-engine-ds-cte-en.pdf#page=2 - Page 2\n",
      "9. https://www.cisco.com/c/en/us/products/collateral/switches/catalyst-4500-series-switches/data_sheet_c78-612364.pdf#page=1 - Page 1\n",
      "10. https://www.cisco.com/c/en/us/products/collateral/switches/catalyst-4500-series-switches/datasheet-c78-736551.pdf#page=1 - Page 1\n",
      "\n",
      "\n",
      "\n",
      "Chunks:\n",
      "----------Chunk 1----------\n",
      " \n",
      " \n",
      "© 2016 Cisco and/or its affiliates . All rights reserved. This document is Cisco Public Information.  Page 3 of 15 ● Borderless network services:  \n",
      "◦ Optimized application performance throug h deep visibility with Flexible NetFlow supporting rich Layer \n",
      "2/3/4 information (MAC, VLAN, TCP Flags) and synthetic traffic monitoring with IP service -level \n",
      "agreement (SLA)  \n",
      "◦ Medianet capabilities to simplify video quality of service, monitoring, and securi ty. In addition, multicast \n",
      "features such as Protocol Independent Multicast (PIM) and Source -Specific Multicast (SSM) that provide \n",
      "enterprise customers the additional scalability to support multimedia applications  \n",
      "◦ Energy -efficient design with Cisco EnergyWi se™ technology  \n",
      "● Investment protection and reduced total cost of ownership (TCO):  \n",
      "◦ Full backward compatibility with 6 G, 24 G, and 48 Gbps slot line cards with no performance degradation  \n",
      "The Cisco Catalyst 4500E Supervisor Engine 7L -E is compatible with classic  Cisco Catalyst 4500 line cards and \n",
      "power supplies, providing full investment protection. Supervisor Engine 7L -E is not compatible with classic Cisco \n",
      "Catalyst 4500 chassis.  \n",
      "Table 1 highlights the performance and scalability enhancements of the Cisco Cataly st 4500E Supervisor \n",
      "Engine  7L-E. \n",
      "Table 1.  Cisco Catalyst 4500E Supervisor Engine 7L -E Performance and Scalability Features  \n",
      "Feature and Description  Supervisor Engine 7L -E \n",
      "Centralized switching capacity  520 Gbps  \n",
      "Per-slot switching capacity  48 Gbps  \n",
      "Throughput  ● 225 Mpps for IPv4  \n",
      "● 110 Mpps  for IPv6  \n",
      "● 225 Mpps  for L2 Bridging  \n",
      "IPv4 routing entries  64,000  \n",
      "IPv6 routing entries  32,000  \n",
      "Multicast routes  32,000  \n",
      "CPU  Dual core; 1.5 GHz  \n",
      "CPU queues  64 \n",
      "Synchronous Dynamic RAM (SDRAM)  2 GB  \n",
      "Boot flash  1G \n",
      "Security and QoS hardwar e entries  64,000  \n",
      "Dynamic Host Configuration Protocol (DHCP) snooping entries  12,000  \n",
      "Cisco Network Admission Control (NAC)  4,000  \n",
      "MAC addresses  55,000  \n",
      "Active VLANs  4,094  \n",
      "Address Resolution Protocol (ARP) entries  47,000  \n",
      "Spanning Tree Protocol instances  12,000  \n",
      "Switched virtual interfaces (SVIs)  4,094  \n",
      "SPAN  8 bidirectional sessions (ingress and egress)  \n",
      "\n",
      "----------Chunk 2----------\n",
      " \n",
      " \n",
      "© 2017 Cisco and/or its affiliates . All rights reserved. This document is Cisco Public Information.  Page 1 of 12 Data Sheet  \n",
      "Cisco Catalyst 4500 Series Switch  \n",
      "Overview  \n",
      "The Cisco® Catalyst® 4500 Series Switches enable Borderless Networks, providing high performance, mobile, and \n",
      "secure user experiences through Layer 2 -4 switching investments. They enable security, mobility, application \n",
      "performance, video, and energy savings over an infrastruc ture that supports resiliency, virtualization, and \n",
      "automation. Cisco Catalyst 4500 Series Switches provide borderless performance, scalability, and services with \n",
      "reduced total cost of ownership (TCO) and superior investment protection.  \n",
      "The Cisco Catalyst 4 500 (Figure 1) has a centralized forwarding architecture that enables collaboration, \n",
      "virtualization, and operational manageability through simplified operations. With forward and backward \n",
      "compatibility spanning multiple generations, the new Cisco Catalyst 4500E Series provides exceptional investment \n",
      "protection and deployment flexibility to meet the evolving needs of organizations of all sizes. The Cisco Catalyst \n",
      "4500E Series platform has 10 Gigabit Ethernet (GE) uplinks and supports Power over Ethernet Plus  (PoE+) and \n",
      "Universal PoE (UPOE), enabling customers to future proof their network.  \n",
      "E-Series chassis come in four different form factors: 3 -slot (4503 -E), 6 -slot (4506 -E), 7 -slot (4507R+E), and 10 -slot \n",
      "(4510R+E). 4503 -E, 4506 -E, 4507R+E, and 4510R+E chassi s are extremely flexible and support either 24 or 48 \n",
      "Gbps per line -card slot. Integrated resiliency in the Cisco Catalyst 4500E Series includes 1 + 1 supervisor engine \n",
      "redundancy (10 -slot and 7 -slot chassis only), redundant fans, software -based fault toler ance, and 1 + 1 power \n",
      "supply redundancy. Integrated resiliency in both hardware and software minimizes network downtime, helping to \n",
      "ensure workforce productivity, profitability, and customer success.   \n",
      "Figure 1.   Cisco Catalyst 4500E Series  \n",
      " \n",
      "The Cisco Catalyst 4500E Series extends control to the network edge with intelligent network services, including \n",
      "sophisticated quality of service (QoS), predictable performance, advanced security, comprehensive management, \n",
      "and integrated resiliency. Scalability of these intelligen t network services is made possible with dedicated, \n",
      "specialized resources known as ternary content -addressable memory (TCAM). Ample TCAM resources (up to \n",
      "384,000 entries) enable “high feature capacity”, which provides wire -speed routing and switching perfo rmance \n",
      "independent of provisioning of services such as QoS and security.  \n",
      "\n",
      "\n",
      "----------Chunk 3----------\n",
      " \n",
      " \n",
      "© 2016 Cisco and/or its affiliates . All rights reserved. This document is Cisco Public Information.  Page 2 of 16 Figure 1.   Cisco Catalyst 4500E Supervisor Engine 7 -E \n",
      " \n",
      "Cisco Catalyst  4500E Supervisor Engine 7 -E Feature Highlights  \n",
      "The Cisco Catalyst 4500E Supervisor Engine 7 -E is the first Cisco Catalyst supervisor engine to provide \n",
      "nonblocking 48 -Gbps per -slot bandwidth and FNF for optimized application visibility. In addition, the en terprise -\n",
      "class Cisco Catalyst 4500E Supervisor Engine 7 -E offers the following:  \n",
      "● Performance and capability  \n",
      "◦ 848 Gbps switching capacity with 250 Mpps of throughput  \n",
      "◦ 4 nonblocking 10 Gigabit Ethernet uplinks  (Small Form -Factor Pluggable Plus  [SFP+] ) \n",
      "◦ SFP suppo rt on uplinks to offer flexibility for up to 4 Gigabit Ethernet  ports  \n",
      "◦ 384 ports of nonblocking 10/100/1000  \n",
      "◦ PoEP (30W) capabilities on all ports in a line card simultaneously  \n",
      "◦ UPOE (60W) capabilities on all line -card slots  \n",
      "◦ Energy Efficient Ethernet (IEEE 802 .3az)  \n",
      "◦ 196 ports of nonblocking Gig abit Ethernet SFP \n",
      "◦ 100 ports of 10  Gigabit  Ethernet SFP+ (4 uplinks ports + 96 line-card ports)  \n",
      "◦ 128,000 FNF entries in hardware  \n",
      "◦ External USB and Secure Digital  (SD) card support for flexible storage options  \n",
      "◦ 256,000 routing entries for high -end campus access and aggregation deployments  \n",
      "◦ IPv6 support in hardware, providing wire -rate forwarding for IPv6 networks  \n",
      "◦ Dynamic hardware forwarding -table allocations for ease of IPv4 -to-IPv6 migration  \n",
      "◦ Scalable routing (IPv4, IPv6, and mul ticast) tables, Layer 2 tables, and access -control -list (ACL) and \n",
      "quality -of-service ( QoS) entries to use 8 queues /port and comprehensive security policies per port  \n",
      "\n",
      "----------Chunk 4----------\n",
      " \n",
      " \n",
      "© 2016 Cisco and/or its affiliates . All rights reserved. This document is Cisco Public Information.  Page 3 of 16 ● Infrastructure services  \n",
      "◦ Cisco IOS XE Software, the modular open application platform for vi rtualized borderless services  \n",
      "◦ Maximum resiliency with redundant components, Nonstop Forwarding/Stateful Switchover (NSF/SSO), \n",
      "and ISSU support  \n",
      "◦ Network virtualization through Multi -Virtual Route Forwarding ( VRF) and Easy Virtual Networking (EVN) \n",
      "technology for Layer 3 segmentation  \n",
      "◦ Automation through Embedded Event Manager (EEM), Cisco Smart Call Home, AutoQoS, and Auto \n",
      "SmartPorts for fast provisioning, diagnosis, and reporting  \n",
      "● Cisco Borderless Networks Services  \n",
      "◦ Optimized application performance through deep visibility with FNF supporting rich Layer 2/3/4 \n",
      "information (MAC, VLAN, and TCP Flags) and synthetic traffic monitoring with IP service -level agreement \n",
      "(IP SLA) \n",
      "◦ Medianet capabilities to simplify video QoS, monitoring, and security  \n",
      "◦ Energy -efficient design w ith Cisco EnergyWise technology to manage network, PoEP, and PC  \n",
      "● Investment protection and reduced total cost of ownership (TCO)  \n",
      "◦ Full backward compatibility with 6 -, 24-, and 48 -Gbps slot line cards with no performance degradation  \n",
      "The Cisco Catalyst 4500E S upervisor Engine 7 -E is compatible with classic Cisco Catalyst 4500 line cards and \n",
      "power supplies, providing full investment protection. The Supervisor Engine 7 -E is not compatible with classic \n",
      "Cisco Catalyst 4500 chassis. When you deploy the Cisco Catalys t 4500E Supervisor Engine 7 -E with classic line \n",
      "cards, all of the new features except the 24 - and 48 -Gbps per -slot switching capacity are inherited.  \n",
      "Predictable Performance and Scalability  \n",
      "The Supervisor Engine 7 -E is the first Cisco Catalyst supervisor en gine to provide 48 -Gbps per -slot switching \n",
      "capacity. Table 1 highlights the performance and scalability enhancements of the Cisco Catalyst 4500E Supervisor \n",
      "Engine 7 -E. \n",
      "Table 1.  Cisco Catalyst 4500E Supervisor Engine 7 -E Performance and Scalability Features  \n",
      "Feature and Description  Supervisor Engine 7 -E \n",
      "Centralized switching capacity  848 Gbps  \n",
      "Per-slot switching capacity  48 Gbps  \n",
      "Throughput  ● 250 Mpps  for IPv4  \n",
      "● 125 Mpps  for IPv6  \n",
      "● 250 Mpps  for L2 Bridging  \n",
      "IPv4 routing entries  256,000  \n",
      "IPv6 routing entries  128,000  \n",
      "Multic ast routes  16,000 (available with Cisco IOS XE 3.1.0 SG)  \n",
      "32,000 (Available with Cisco IOS XE 3.2.0 SG or later)  \n",
      "CPU  Dual core; 1.5 GHz  \n",
      "CPU queues  64 \n",
      "Synchronous dynamic RAM (SDRAM)  2 GB upgradable to 4 GB  \n",
      "Nonvolatile RAM (NVRAM)  1 GB \n",
      "Security and QoS hardware entries  128,000  \n",
      "Cisco Network Admission Control (NAC) and Dynamic Host \n",
      "Configuration Protocol (DHCP) snooping entries  12,000  \n",
      "\n",
      "----------Chunk 5----------\n",
      " \n",
      " \n",
      "© 2016 Cisco and/or its affiliates . All rights reserved. This document is Cisco Public Information.  Page 2 of 15 Cisco Catalyst 4500E Supervisor Engine 7L -E Feature Highlights  \n",
      "The Cisco Catalyst 4500E Supervisor Engine 7L -E builds on the widely deployed line of Cisco Catalyst 4500 \n",
      "supervisor engines and enhances its predecessors to provides nonbl ocking 48 Gbps per slot bandwidth with \n",
      "Flexible NetFlow for optimized application visibility. In addition, the enterprise -class Cisco Catalyst 4500E \n",
      "Supervisor Engine 7L -E offers the following:  \n",
      "● Performance and scalability:  \n",
      "◦ 520-Gbps switching capacity with 225 Mpps  of throughput  \n",
      "◦ 2 nonblocking 10 Gigabit Ethernet uplinks (SFP+) or 4 nonblocking 1 Gigabit Ethernet uplinks (SFP)  \n",
      "◦ Supports 3 -, 6-, and 7 -slot Cisco Catalyst 4500E chassis  \n",
      "◦ Supports a maximum of 24 0 ports of 10/100/1000 Base -T and 400 ports of 1000Ba se-X (CSFP)  in a 7 -\n",
      "slot chassis  \n",
      "◦ Supports up to 124 1GE nonblocking fiber ports or 62 10GE fiber ports in a 7 -slot chassis  \n",
      "◦ Enables next -generation Universal Power Over Ethernet (UPOE, WS -X4748 -UPOE+E) in addition to \n",
      "backward compatibility with other PoE sta ndards  \n",
      "◦ Enables EEE (IEEE 802.3az)  \n",
      "◦ 128,000 Flexible NetFlow entries in hardware  \n",
      "◦ External USB and SD card support for flexible storage options  \n",
      "◦ 10/100/1000 RJ -45 console and management port  \n",
      "◦ 64,000/32,000 IPv4/IPv6 routing entries for campus access and aggrega tion deployments  \n",
      "◦ IPv6 in hardware, providing wire -rate forwarding for IPv6 networks and support for dual stack with \n",
      "innovative resource usage  \n",
      "◦ Dynamic hardware forwarding -table allocations for ease of IPv4 -to-IPv6 migration  \n",
      "◦ Scalable routing (IPv4, IPv6, and  multicast) tables, Layer 2 tables, and access -control -list (ACL) and \n",
      "quality -of-service (QoS) entries to make use of 8 queues per port and comprehensive security policies \n",
      "per port  \n",
      "● Infrastructure services:  \n",
      "◦ Cisco IOS XE Software, the modular open applicatio n platform for virtualized borderless services  \n",
      "◦ Maximum resiliency with redundant components, Nonstop Forwarding/Stateful Switchover (NSF/SSO), \n",
      "and In -Service Software Upgrade (ISSU) support  \n",
      "◦ Network virtualization through Multi -Virtual Route Forwarding (VRF ) technology for Layer 3 segmentation  \n",
      "◦ Automation through Embedded Event Manager (EEM), Cisco Smart Call Home, AutoQoS, and Auto \n",
      "SmartPorts for fast provisioning, diagnosis, and reporting  \n",
      "\n",
      "----------Chunk 6----------\n",
      "Data sheet  \n",
      "Cisco public  \n",
      " \n",
      " \n",
      "© 2018  Cisco and/or its affiliates. All rights reserved. This document is Cisco Public Information . Page 3 of 13 \n",
      "◦ Flexible and future -ready uplinks with Field Programmable Gate Array (FPGA) to support next -generation protocols  \n",
      "◦ Automation through Embedded Event Manager (EEM), Cisco Smart Call Home, AutoQoS, and Auto SmartPorts for fast \n",
      "provisioning, diagnosis, and reporting  \n",
      "● Cisco Services  \n",
      "◦ Optimized application performance through deep visibility with FNF , supporting rich Layer 2, 3, and 4 information (MAC, VLAN, \n",
      "and TCP flags) and synthetic traffic generation with IP Service -Level Agreement (IP SLA -VO)  \n",
      "◦ Energy -efficient design with Cisco EnergyWise® technology to manage network, PoE+, personal computers, a nd laptops  \n",
      "● Investment protection and reduced TCO  \n",
      "◦ Full backward compatibility with 24 -Gbps, and 48 -Gbps slot line cards with no performance degradation  \n",
      "◦ The Supervisor Engine 9 -E is compatible with classic Cisco Catalyst 4500 Series line cards and power supp lies, providing full \n",
      "investment protection. It is not compatible with the classic Cisco Catalyst 4500 Series chassis. When you deploy the Supervis or \n",
      "Engine 9 -E with classic line cards, all of the new features except the 24 - and 48 -Gbps per slot s witching c apacity are inherited  \n",
      "Predictable performance and scalability  \n",
      "Table 1 highlights the performance and scalability enhancements of the Cisco Catalyst 4500E Supervisor Engine 9 -E. \n",
      "Table 1.  Performance and Scalability Features  \n",
      "Features  Performance and Scalability  \n",
      "Cent ralized wired switching capacity  Up to 928 Gbps  \n",
      "Wireless termination capacity  Up to 20 Gbps  \n",
      "Per-slot switching capacity  48 Gbps  \n",
      "Throughput  ● 250 Mpps for IPv4  \n",
      "● 125 Mpps for IPv6  \n",
      "IPv4 routing entries  256,000  \n",
      "IPv6 routing entries  128,000  \n",
      "Multicast routes  32,000  \n",
      "CPU  Quad core; 2.2 GHz  \n",
      "CPU queues  64 \n",
      "Synchronous Dynamic RAM (SDRAM)  4 GB  \n",
      "Nonvolatile RAM (NVRAM)  2 GB  \n",
      "Security and QoS hardware entries  128,000  \n",
      "Dynamic Host Configuration Protocol (DHCP) Snooping entries  12,000  \n",
      "MAC addresses  55,000  \n",
      "Active VLANs  4094  \n",
      "Address Resolution Protocol (ARP) entries  47,000  \n",
      "Spanning Tree Protocol instances  10,000  \n",
      "Switched Virtual Interfaces (SVIs)  4094  \n",
      "Switched Port Analyzer (SPAN)  Maximum of 8 bidirectional sessions  \n",
      "\n",
      "----------Chunk 7----------\n",
      " \n",
      " \n",
      "© 2016 Cisco and/or its affiliates . All rights  reserved. This document is Cisco Public Information.  Page 1 of 15 Data Sheet  \n",
      "Cisco Catalyst 4500E Supervisor Engine 7L -E: \n",
      "Enhanced Borderless Campus Access and \n",
      "Aggregation Supervisor Engine Data Sheet  \n",
      "Overview  \n",
      "The Cisco® Catalyst® 4500E Supervisor Engine 7L -E (Figure 1) is an enterprise -class borderless campus access \n",
      "and price/perf ormance aggregation supervisor engine designed to provide 520  Gbps per system with E -Series \n",
      "chassis. The Cisco C atalyst 4500E Supervisor Engine 7L -E builds on the success of its predecessor, the Cisco \n",
      "Catalyst 4500E Supervisor Engine 6L -E, and provides unp recedented performance with borderless services such \n",
      "as Flexible NetFlow (FNF) and hosted third -party applications.  \n",
      "The Supervisor Engine 7L -E offers key innovations including  \n",
      "● Up to 7 to 10 years of investment protection through backward and forward compat ibility  \n",
      "● 520-Gbps system performance with 48  Gbps per slot to every line -card slot  \n",
      "● Future -proof investment with dual 10 Gigabit Ethernet uplinks (Small Form -Factor Pluggable Plus [SFP+] \n",
      "optics) or four Gigabit Ethernet uplinks (SFP optics)  \n",
      "● Cisco Universal P ower over Ethernet (UPOE) for unprecedented convergence to IP network infrastructure  \n",
      "● Application visibility through FNF  \n",
      "● Cisco IOS® XE Software, which provides the ability to host third -party applications  \n",
      "● Energy efficiency with support for 802.3az Energy -Efficient Ethernet (EEE) -capable line cards  \n",
      "● Industry -leading resiliency through In -Service Software Upgrade (ISSU)  \n",
      "● First and only modular switch with 8 bidirectional line -rate Switched Port Analyzer/Remote SPAN \n",
      "(SPAN/RSPAN ) sessions  \n",
      "Figure 1.   Cisco Catalyst 4500E Supe rvisor Engine 7L -E \n",
      " \n",
      "\n",
      "----------Chunk 8----------\n",
      "Data sheet  \n",
      "Cisco public  \n",
      " \n",
      " \n",
      "© 2018  Cisco and/or its affiliates. All rights reserved. This document is Cisco Public Information . Page 2 of 13 \n",
      "Feature highlights  \n",
      "The C isco Catalyst 4500E Supervisor Engine 9 -E offers the following:  \n",
      "● Performance and capabilities  \n",
      "◦ Up to 928 Gbps wired switching capacity with 250 Mpps of throughput  \n",
      "◦ Up to 20 Gbps of wireless termination capacity. Support for up to 100 access points and 2000 wireless clients on each switching \n",
      "entity  \n",
      "◦ Up to two 40 Gigabit Ethernet uplinks (Quad Small Form -Factor Pluggable Plus [QSFP+])  \n",
      "◦ Up to 4 nonblocking 10 Gigabit Ethernet uplinks (Small Form -Factor Pluggable Plus [SFP+])  \n",
      "◦ SFP support on uplinks to offer flexib ility for up to 4 Gigabit Ethernet ports  \n",
      "◦ 384 ports of nonblocking 10/100/1000  \n",
      "◦ PoE+ (30W) capabilities on all ports in a line card simultaneously  \n",
      "◦ Cisco UPOE (60W) capabilities on all line card slots  \n",
      "◦ Energy Efficient Ethernet (IEEE 802.3az)  \n",
      "◦ 388 ports of non blocking Gigabit Ethernet SFP (4 uplink ports plus 384 line card ports)  \n",
      "◦ 100 ports of 10 Gigabit Ethernet SFP+ (4 uplink ports plus 96 line card ports)  \n",
      "◦ Up to 128,000 FNF entries in hardware  \n",
      "◦ SD card support for flexible storage options  \n",
      "◦ 256,000 routing entrie s for high -end campus access and aggregation deployments  \n",
      "◦ IPv6 support in hardware, providing wire -rate forwarding for IPv6 networks  \n",
      "◦ Dual stack support for IPv4/IPv6 and dynamic hardware forwarding -table allocations for ease of IPv4 -to-IPv6 migration  \n",
      "◦ Scalab le routing (IPv4, IPv6, and multicast) tables and Layer 2 tables  \n",
      "◦ Scalable and dynamic allocation of Access Control List (ACL) and Quality of Service (QoS) entries to use 8 queues per port and \n",
      "comprehensive security policies per port  \n",
      "◦ SD-Access: The Supervis or Engine 9 -E forms the foundational building block for SD -Access – Cisco’s leading enterprise \n",
      "architecture, which includes:  \n",
      "◦ Policy -based automation from edge to cloud  \n",
      "◦ Segmentation and micro -segmentation made easy, with predictable performance and scalabil ity \n",
      "◦ Automation through the Cisco Application Policy Infrastructure Controller – Enterprise Module (APIC -EM)  \n",
      "◦ Policy through the Cisco Identity Services Engine (ISE)  \n",
      "● Infrastructure services  \n",
      "◦ Cisco IOS® XE Software, the modular open application platform for vi rtualized borderless services  \n",
      "◦ Maximum resiliency with redundant components, Nonstop Forwarding/Stateful Switchover (NSF/SSO), and Cisco In -Service \n",
      "Software Upgrade (ISSU) support  \n",
      "◦ Network virtualization through Multi -Virtual Route Forwarding (VRF) and Easy Virtual Networking (EVN) technology for Layer 3 \n",
      "segmentation  \n",
      "◦ Virtual Switching System (VSS) for simplified loop -free topologies without Spanning Tree dependencies . \n",
      "\n",
      "----------Chunk 9----------\n",
      " \n",
      " \n",
      "© 2016 Cisco and/or its affiliates . All rights reserved. This document is Cisco Public Information.  Page 1 of 16 Data Sheet  \n",
      "Catalyst 4500E Supervisor Engine 7 -E: Leading \n",
      "Borderless Network Access and Aggregation \n",
      "Supervisor Engine Data Sheet  \n",
      "Overview  \n",
      "Establishing borderless leadership is now easier than ever to achieve with the new Cisco® Catalyst® 4500E \n",
      "Supervisor Engine 7 -E (Figure 1), an enterprise -class Borderless Networks access and aggregation supervisor \n",
      "engine designed to provide 848 Gbps per system with E -Series chassis. Cisco Catalyst 4500E Supervisor \n",
      "Engine  7-E is the first Cisco Catalyst supervisor engine to provide 48  Gbps per slot with Flexible NetFlow (FNF) \n",
      "and Advanced Security combined with reduced total cost of ownership (TCO) and excellent investment protection. \n",
      "With these capabilities; four 10 Gigabit Ethernet uplinks; and 10/100/1000 Power over Ethernet (PoE), PoE Plus \n",
      "(PoEP), and Cisco Universal PoE (UPoE) ports, this supervisor engine is undoubtedly Cisco's leading Borderless \n",
      "Networks access supervisor engine in the Cisco Catalyst Family. Supervisor Engine 7 -E is built with price -\n",
      "performance aggregation deploy ments in mind, providing increased Gigabit Ethernet and 10 Gigabit Ethernet fiber \n",
      "density along with hardware capabilities to support enterprise -class aggregation functions. Supervisor Engine 7 -E \n",
      "facilitates user experiences for enterprise, public sector, mid-market, and commercial customer deployment \n",
      "business -critical applications.  \n",
      "Cisco leadership in Borderless Networks is extended with important features  - hardware readiness for Cisco \n",
      "TrustSec® technology, medianet, Flexible NetFlow, Cisco EnergyWise™ technology, Cisco Powered Workspace  - \n",
      "and other feature enhancements enabled by the Cisco Catalyst 4500E Supervisor Engine 7 -E. Backward and \n",
      "forward compatibility with most existing Cisco Catalyst 4500 and 4500E line cards helps assure deeper customer \n",
      "satisf action with the industry's best investment protection architecture. Cisco Catalyst Supervisor Engine 7 -E is \n",
      "supported in Cisco Catalyst 4500 E -Series chassis only.  \n",
      "The Cisco Catalyst 4500E Supervisor Engine 7 -E delivers several new technology breakthroughs  and industry \n",
      "firsts, extending the Cisco Catalyst 4500 Series placement from a premium wiring closet solution into next -\n",
      "generation borderless access and aggregation deployments.  \n",
      "The Supervisor Engine 7 -E offers the following important  leading innovations and capabilities:  \n",
      "● More than 10 years of investment protection through backward and forward compatibility  \n",
      "● Cisco Catalyst switch with 48 Gbps per slot (848 Gbps per system)  \n",
      "● Around 5 microseconds of latency to and from any 10 Gigabit Ethernet port  \n",
      "● First Cisco  Catalyst switch with campus FNF  \n",
      "● First Cisco Catalyst switch offering Cisco IOS® XE Modular Software services  \n",
      "● First Cisco Catalyst switch with less than 200 msec In -Service Software Upgrade (ISSU) high availability  \n",
      "● First Cisco Catalyst switch for next -gene ration Cisco Powered Workspace (Energy Efficient Ethernet [EEE] \n",
      "and UPOE)  \n",
      "● First and only modular switch with 8 bidirectional line rate Switched Port Analyzer (SPAN) or Remote SPAN \n",
      "(RSPAN) sessions  \n",
      "\n",
      "----------Chunk 10----------\n",
      " \n",
      " \n",
      "© 2016  Cisco and/or its affiliates . All rights reserved. This document is Cisco Public Information.  Page 1 of 15 Data Sheet  \n",
      "Cisco Ca talyst 4500E Supervisor Engine 8 L-E: \n",
      "Enhanced Campus Access and Aggregat ion \n",
      "Supervisor Engine  \n",
      "Overview  \n",
      "The Cisco® Catalyst® 4500E Supervisor Engine 8 L-E (Figure 1) is an enterprise -class campus access and \n",
      "price/performance aggregation supervis or engine designed to provide up to 56 0 Gbps per system with E -Series \n",
      "chassis. The Cisco Catalyst 4500E Supervisor Engine  8L-E provides 48 Gbps per slot with best in class features \n",
      "such as Flexible NetFlow (FNF), integrated Wireshark, TrustSec and MACSec security , and APIC -EM \n",
      "orchestration leading to  reduced total cost of ownership (TCO) and industry -leading  investment protection. These \n",
      "capabilities, along with four SFP/SFP+  uplinks an d up to 240 Gigabit Ethernet  Power over Ethernet (PoE), PoE \n",
      "Plus (PoEP), and Cisco Universal PoE (UPoE) ports, make this supervisor engine the leading Cisco Access low-\n",
      "scale supervisor engine in the Cisco Catalyst Family. The Supervisor Engine 8L -E is also built with price -\n",
      "performance aggregation deployments in mind, helping to enable denser Gigabit Ethernet and 10 Gigabit Ethernet \n",
      "fiber deployments with enterprise -class aggregation functions. The Supervisor Engine 8 L-E facilitates user \n",
      "experiences for ente rprise, public sector, midmarket, and commercial customer business -critical applications.  \n",
      "Cisco leadership in borderless networks is extended with important features : Cisco TrustSec®, Cisco MultiGig, \n",
      "Flexible NetFlow, Cisco EnergyWise®, Cisco UPoE , and many other feature enhancements offered by the Cisco \n",
      "Catalyst 4500E Supervisor Engine 8L -E. Backward and forward compatibility with most existing Cisco Catalyst  \n",
      "4500E line cards and power supplies helps assure deeper customer satisfaction with an industry -leading \n",
      "investment protection architecture. The Cisco Catalyst Supervisor Engine 8L -E is supported in Cisco Catalyst 4500 \n",
      "E-Series chassis.  \n",
      "The Supervisor Engine 8 L-E offers important innovations , including : \n",
      "● 560 Gbps total capacity with 4x SFP/SFP+ uplinks  and a Quad Core, 1.8Ghz CPU  \n",
      "● Cisco Universal Power over Ethernet (UPOE) for unprecedented convergence to IP network infrastructure  \n",
      "● Campus ready for connectivity  to next-generation  NBASE -T™ compatible endpoints such as 802.11ac \n",
      "Wave2 multigigabit access poi nts, multigigabit switches, network interface cards (NICs), and adapters  \n",
      "● Application visibility through F lexible NetFlow.  \n",
      "● Virtual Switching System (VSS ) for operational simplicity and resiliency  \n",
      "● Cisco IOS® XE Software, which provides the ability to host th ird-party applications  \n",
      "● Energy efficiency with support for 802.3az Energy -Efficient Ethernet (EEE) -capable line cards  \n",
      "● Industry -leading resiliency through In -Service Software Upgrade (ISSU)  \n",
      "● First and only modular switch with 8 bidirectional line -rate Switche d Port Analyzer/Remote SPAN \n",
      "(SPAN/RSPAN) sessions  \n",
      "\n"
     ]
    }
   ],
   "source": [
    "cisco_qa_search_tool(product_question=query1,\n",
    "                     product_name=product_name,\n",
    "                     top_n_chunks = 10, \n",
    "                     print_sources=True,\n",
    "                     print_chunks=True, \n",
    "                     model='gpt-3.5-turbo-16k')"
   ]
  },
  {
   "cell_type": "markdown",
   "id": "42bc74c3-e522-4f73-87f1-ec0ea7ae3ada",
   "metadata": {},
   "source": [
    "# network analysis module"
   ]
  },
  {
   "cell_type": "code",
   "execution_count": 69,
   "id": "d4973104-415c-455e-bc2e-2b6625d84076",
   "metadata": {},
   "outputs": [],
   "source": [
    "product_name = 'network analysis module'"
   ]
  },
  {
   "cell_type": "markdown",
   "id": "51c1592e-aa7b-42c7-98b4-55b0616fba93",
   "metadata": {},
   "source": [
    "## query1"
   ]
  },
  {
   "cell_type": "code",
   "execution_count": 70,
   "id": "23405115-251d-4035-9b39-ff1e741d2936",
   "metadata": {},
   "outputs": [],
   "source": [
    "query1 = \"what are the features of a network analysis module\""
   ]
  },
  {
   "cell_type": "code",
   "execution_count": 71,
   "id": "6c7198fc-4d6f-415f-ba42-dfb5cb185048",
   "metadata": {
    "tags": []
   },
   "outputs": [
    {
     "name": "stdout",
     "output_type": "stream",
     "text": [
      "10 useful links found.\n",
      "4 new URLs detected\n",
      "0 new document(s) not found in database.\n",
      "No new docs to add\n",
      "Based on the provided context, the features of a network analysis module include:\n",
      "\n",
      "1. Granular traffic analysis: Provides detailed analysis of network traffic flows between users and critical applications.\n",
      "\n",
      "2. Rich application performance metrics: Offers insights into how applications are performing on the network.\n",
      "\n",
      "3. Comprehensive voice analytics: Provides analysis of voice quality and key performance indicators such as jitter and packet loss.\n",
      "\n",
      "4. Deep insightful packet captures: Allows for in-depth analysis of network packets to troubleshoot performance issues.\n",
      "\n",
      "5. Embedded graphical user interface (GUI): Provides a user-friendly interface with dashboards for monitoring and troubleshooting network performance.\n",
      "\n",
      "6. Performance Database: Preserves historical data for analysis and understanding of past network performance events.\n",
      "\n",
      "7. Remotely accessible: Can be accessed and monitored from anywhere.\n",
      "\n",
      "8. Integration with Cisco Catalyst or Nexus switches: Simplifies deployment and management of the module.\n",
      "\n",
      "9. Support for various communication protocols: Supports HTTP, HTTPS, SNMP, and other protocols for configuration and data collection.\n",
      "\n",
      "10. Interactive reports and workflows: Offers prepackaged dashboards with advanced filters, navigation, and one-click packet captures for easy monitoring and troubleshooting.\n",
      "\n",
      "11. WAN-optimized network visibility: Provides visibility into WAN optimization technologies such as Cisco Wide Area Application Services (WAAS) for improved application delivery.\n",
      "\n",
      "12. Integration with Cisco Prime Infrastructure: Allows for centralized management and collection of network statistics.\n",
      "\n",
      "13. Virtualization support: Can be deployed in virtualized environments to monitor and analyze traffic between virtual machines and applications.\n",
      "\n",
      "These features may vary depending on the specific model of the network analysis module.\n",
      "\n",
      "\n",
      "Sources:\n",
      "1. https://www.cisco.com/c/en/us/products/collateral/cloud-systems-management/nam-2000-series-appliances/data_sheet_c78-655535.pdf#page=1 - Page 1\n",
      "2. https://www.cisco.com/c/en/us/products/collateral/cloud-systems-management/nam-2000-series-appliances/data_sheet_c78-642317.pdf#page=1 - Page 1\n",
      "3. https://www.cisco.com/c/en/us/products/collateral/interfaces-modules/catalyst-6500-series-network-analysis-module-nam-3/datasheet-c78-732125.pdf#page=1 - Page 1\n",
      "4. https://www.cisco.com/c/en/us/products/collateral/cloud-systems-management/nam-2000-series-appliances/data_sheet_c78-715247.pdf#page=1 - Page 1\n",
      "5. https://www.cisco.com/c/en/us/products/collateral/interfaces-modules/nexus-7000-series-network-analysis-module-nam-nx1/data_sheet_c78-723132.pdf#page=1 - Page 1\n",
      "6. https://www.cisco.com/c/en/us/products/collateral/cloud-systems-management/nam-2000-series-appliances/data_sheet_c78-715247.pdf#page=3 - Page 3\n",
      "7. https://www.cisco.com/c/en/us/products/collateral/cloud-systems-management/prime-virtual-network-analysis-module-vnam/data_sheet_c78-723214.pdf#page=1 - Page 1\n",
      "8. https://www.cisco.com/c/en/us/products/collateral/interfaces-modules/catalyst-6500-series-network-analysis-module-nam-3/datasheet-c78-732125.pdf#page=3 - Page 3\n",
      "9. https://www.cisco.com/c/en/us/products/collateral/cloud-systems-management/prime-virtual-network-analysis-module-vnam/data_sheet_c78-723214.pdf#page=2 - Page 2\n",
      "10. https://www.cisco.com/c/en/us/products/collateral/cloud-systems-management/nam-2000-series-appliances/data_sheet_c78-642317.pdf#page=3 - Page 3\n",
      "\n",
      "\n",
      "\n",
      "Chunks:\n",
      "----------Chunk 1----------\n",
      " \n",
      " Data Sheet  \n",
      "© 2011 Cisco and/or its affiliates . All rights reserved. This document is Cisco Public Information.  Page 1 of 6 Cisco Network Analysis Module 2200 Series Appliances with \n",
      "Software  5.1 \n",
      "It all comes down to knowing. Knowing who is using the network, knowing what applications are running \n",
      "on the network, knowing how the network is performing, knowing how traffic over the  network is being \n",
      "used and how it is performing are the foundation for managing and improving the delivery of your \n",
      "business -critical applications. Knowing is the foundation for establishing and verifying quality of service \n",
      "(QoS) policies, undertaking WAN o ptimization projects, and rolling out voice over IP (VoIP). It is also the \n",
      "foundation for recognizing when a configuration change has unintentionally degraded application \n",
      "performance or for providing proof points that it is the application and not the netw ork that is causing one \n",
      "of your business planning systems to perform poorly so that the appropriate actions can then be taken.  \n",
      "Product Overview  \n",
      "The Cisco Prime Network Analysis Module on NAM 2200 Series Appliances are your source for unparalleled network \n",
      "and application visibility, analyzing traffic flows between users and their critical applications to help you ensure that \n",
      "the network performs to the rigorous demands of the business. And, when there's a problem, they can help you find it \n",
      "fast, reducing the  time it takes to resolve it from days to just minutes.  \n",
      "Figure 1.   Cisco NAM Traffic Summary Dashboard  \n",
      " \n",
      "As a member of the Cisco NAM family of products, the Cisco NAM 2200 Series Appliances deliver granular traffic \n",
      "analysis, rich application performance metrics, com prehensive voice analytics, and deep insightful packet captures to \n",
      "help you manage and improve the operational effectiveness of Cisco Borderless Networks and the Cisco data center. \n",
      "An embedded graphical user interface (GUI) with dashboards (Figure 1) gives  you an immediate view of network \n",
      "performance and workflows that help you simplify problem detection and resolution. The Performance Database \n",
      "preserves historical data, allowing you to understand what happened in the past when an event that affected networ k \n",
      "performance occurred. The NAM can be remotely accessed from anywhere so that you can know how the network is \n",
      "performing at any time.  \n",
      "Figure 2.   NAM 2220 and NAM 2204 Appliances  \n",
      " \n",
      "\n",
      "----------Chunk 2----------\n",
      " \n",
      " Data Sheet  \n",
      "© 2011 Cisco and/or its affiliates . All rights reserved. This document is Cisco Public Information.  Page 1 of 8 Cisco Network Analysis Module 2200 Series Appliances with \n",
      "Software  5.0 \n",
      "It all comes down to knowing. Knowing who is using the network, knowing what applications are running \n",
      "on the network, knowing how the network is performing, knowing how traffic over the  network is being \n",
      "used and how it is performing are the foundation for managing and improving the delivery of your \n",
      "business -critical applications. Knowing is the foundation for establishing and verifying quality of service \n",
      "(QoS) policies, undertaking WAN o ptimization projects, and rolling out voice over IP (VoIP). It is also the \n",
      "foundation for recognizing when a configuration change has unintentionally degraded application \n",
      "performance or for providing proof points that it is the application and not the netw ork that is causing one \n",
      "of your business planning systems to perform poorly so that the appropriate actions can then be taken.  \n",
      "Product Overview  \n",
      "The Cisco NAM 2200 Series Appliances help you know. They are your source for unparalleled network and \n",
      "applicatio n visibility, analyzing traffic flows between users and their critical applications to help you ensure that the \n",
      "network performs to the rigorous demands of the business. And, when there’s a problem, they can help you find it \n",
      "fast, reducing the time it take s to resolve it from days to just minutes.  \n",
      "Figure 1.   Cisco NAM Traffic Summary Dashboard  \n",
      " \n",
      "\n",
      "----------Chunk 3----------\n",
      " \n",
      " \n",
      "© 2014 Cisco and/or its affiliates . All rights reserved. This document is Cisco Public Information.  Page 1 of 5 Data Sheet  \n",
      "Cisco Catalyst 6500 Series Network Analysis \n",
      "Module (NAM -3) with Software 6. 1 \n",
      "Visibility into the network. You know it’s needed. Especially today, when the pace of \n",
      "change facing IT departments  is accelerating as new applications from cloud and \n",
      "mobile enviro nments become key business enablers.  Do you know how your network \n",
      "is being used? What applications are running on it? How they are performing? This \n",
      "knowledge is vital. It forms the very foundation of a resilient, scalable, and secure \n",
      "network. One that will  enable you to meet today’s evolving IT and business \n",
      "challenges.  \n",
      "Product Overview  \n",
      "The Cisco® Catalyst® 6500 Series Network Analysis Module (NAM -3) provides pervasive visibility. It gives you \n",
      "deep application awareness to identify the applications running o n your network, insightful traffic usage statistics to \n",
      "learn who is using them, extensive performance analytics to understand how they are performing, and granular \n",
      "troubleshooting to rapidly solve performance issues. So, you can get control over the networ k. And stay ahead of \n",
      "the rapidly changing IT landscape.  \n",
      "The Cisco NAM -3 (Figure 1) is purpose -built to meet the rigorous performance demands of multi -Gigabit Ethernet \n",
      "enterprise campus, data center, and WAN environments. It takes advantage of leading -edge processing and \n",
      "packet acceleration technologies onboard to deliver comprehensive visibility in real time and over time. It is also \n",
      "integrated with Cisco Catalyst 6500 Series and Catalyst 6807 Switches, simplifying deployment, improving power \n",
      "management, an d saving rack space.  \n",
      "Figure 1.   Cisco Catalyst 6500 Series Network Analysis Module (NAM -3) \n",
      " \n",
      "The Cisco NAM -3 comes with a remotely  accessible web -based management and reporting console that runs the \n",
      "Cisco Prime™ Network Analysis Module Software (Figure 2). The softwa re includes prepackaged dashboards that \n",
      "provide an immediate view of network performance and workflows that streamline troubleshooting and optimization \n",
      "decisions.  \n",
      "\n",
      "----------Chunk 4----------\n",
      " \n",
      " \n",
      "© 2012  Cisco and/o r its affiliates . All rights reserved. This document is Cisco Public Information.  Page 1 of 9 Data Sheet  \n",
      "Cisco Prime Network Analysis Module Software 5.1 \n",
      "Network administrators need multifaceted visibility into the network and application to \n",
      "help ensure consistent and cost -effective delivery of services to end users. Knowing \n",
      "how traffic over the network is be ing used and how it is performing is essential for \n",
      "managing and improving the delivery of your business -critical applications. It is the \n",
      "foundation for establishing and verifying quality of service (QoS) policies, undertaking \n",
      "WAN -optimization projects, and  rolling out voice over IP (VoIP). It is also the \n",
      "foundation for recognizing when a configuration change has unintentionally degraded \n",
      "application performance or for providing proof points that it is the application and not \n",
      "the network that is causing one o f your business planning systems to perform poorly \n",
      "so that the appropriate actions can then be taken.  \n",
      "Cisco Prime™ Network Analysis Module (NAM) Software offers integrated network and application visibility \n",
      "(Figure  1) that empowers network administrators t o optimize network resources, troubleshoot performance issues, \n",
      "and help ensure a consistent end -user experience. The software delivers granular traffic analysis, rich application \n",
      "performance metrics, comprehensive voice analytics, and deep insightful packe t captures to help you manage and \n",
      "improve the operational effectiveness of Cisco® borderless networks and the Cisco data center.  \n",
      "Figure 1.   At-a-Glance View of Network and Application Performance  \n",
      " \n",
      "The Cisco Prime portfolio of IT and service provider management offer ings supports integrated lifecycle \n",
      "management of Cisco architectures and technologies based on a service -centered framework. Built on an intuitive \n",
      "workflow -oriented user experience, Cisco Prime products help increase IT productivity and reduce operations c osts \n",
      "through innovative management solutions for network services, infrastructure, and endpoints.  \n",
      "\n",
      "----------Chunk 5----------\n",
      " \n",
      " \n",
      "© 2015 Cisco and/or its affiliates . All rights reserved. This document is Cisco Public In formation.  Page 1 of 5 Data Sheet  \n",
      "Cisco Nexus 7000 Switches Network Analysis \n",
      "Module (NAM -NX1)  \n",
      "Virtualization and cloud technologies present exciting opportunities for business \n",
      "transformation, innovative service delivery models, and improved economics. At the \n",
      "same time, they introduce a new  dimension of service delivery challenges that \n",
      "demand real -time application and network visibility to boost operational agility.  \n",
      "Product Overview  \n",
      "The Cisco Nexus® 7000 Network Analysis Module (NAM -NX1) is a high -performance services module (Figure 1) \n",
      "that offers comprehensive application awareness, rich performance analytics, and deep network visibility to simplify \n",
      "data center operations. It empowers network administrators with actionable details to characterize application \n",
      "experience, optimize use of netwo rk resources, and troubleshoot performance issues, improving service delivery in \n",
      "today’s dynamic IT environment.  \n",
      "Figure 1.   Cisco Nexus 7000 Network Analysis Module (NAM -NX1)  \n",
      " \n",
      "Integrated with Cisco Nexus 7000 Switches, the Cisco® NAM -NX1 delivers the visibility you need to take maximum \n",
      "advantage of the fabric for efficient service delivery in a distributed environment. It helps you to:  \n",
      "● Monitor application  experience and isolate the cause of latency in the event of performance degradation.  \n",
      "● Gain deeper insight into vir tualization and overlay technologies such as OTV, LISP, and VXLAN to optimally \n",
      "design the network for distributed and efficient services delivery. For instance, in OTV environments, Cisco \n",
      "NAM -NX1 can look inside each overlay to provide traffic statistics, application performance metrics, and \n",
      "their breakdown by host, applications, conversations, and ways to help you analyze and ensure effective \n",
      "use of these technologies . \n",
      "● Accelerate troubleshooting with interactive reports and purpose -built workflows; you can  analyze data in the \n",
      "context of the specific application, site, client, and server; and extend visibility consistently across physical \n",
      "and virtual environments.  \n",
      "● Preserve investment in existing management assets, supporting integration using standards -based  API. \n",
      "\n",
      "----------Chunk 6----------\n",
      " \n",
      " \n",
      "© 2012  Cisco and/or its affiliates . All rights reserved. This document is Cisco Public Information.  Page 3 of 9 Cisco Prime NAM Software Features  \n",
      "Cisco Prime NAM Software helps improve operational agility. It helps enable you to quickly access critical network \n",
      "informati on to accelerate application performance troubleshooting and advance optimization decisions. The key \n",
      "features of the software include:  \n",
      "● Interactive reports:  Offers prepackaged dashboards (Figure 3) with embedded workflows and capabilities \n",
      "such as advanced f ilters, contextual navigation, and one -click packet captures to simplify monitoring and \n",
      "accelerate troubleshooting.  \n",
      "Figure 3.   Host Traffic Analysis Dashboard  \n",
      " \n",
      "● Site-based monitoring : Allows you to view network and application performance by logical groupings or \n",
      "sites that you can create to mirror your network topology. For example, you can create sites by geographic \n",
      "locations, departments, or even managed customer networks and view performance data on a per site \n",
      "basis. The feature facilitates tracking site -specific s ervice -level objectives, resolving performance issues, or \n",
      "enforcing optimization policies.  \n",
      "● Application Performance Intelligence : Analyzes TCP -based application packets as they travel from the \n",
      "client through the network to the data center and out again, pro viding transaction -aware analytics to help \n",
      "characterize the end -user experience and isolate application response time problems to the network, \n",
      "server, or the application itself.  \n",
      "● Voice quality analysis : Mean Opinion Score (MOS) and other key performance ind icators (KPIs) such as \n",
      "jitter and packet loss to understand and improve how the end user experiences the delivery of voice \n",
      "services. MOS is computed based on ITU -T Recommendation G.107, offering accurate characterization of \n",
      "voice quality. Combine monitorin g with real -time troubleshooting using prepackaged dashboards to improve \n",
      "end-user service levels.  \n",
      "\n",
      "----------Chunk 7----------\n",
      " \n",
      " \n",
      "© 2018 Cisco and/or its affiliates . All rights reserved. This document is Cisco Public Information.  Page 1 of 7 \n",
      "Data Sheet  \n",
      "Cisco Prime Virtual Network Analysis Module  \n",
      "Virtualization and cloud create exciting business transformation opportunities, \n",
      "innovative service delivery models, and improved economics. At the same time, they \n",
      "introduce a new dimension of service delivery challenges that demand real -time \n",
      "application and network visibility to boost operational agility.  \n",
      "Product Overview  \n",
      "Cisco Prime™ Virtual Network Analysis Module (vNAM) delivers operational  agility by permitting deployment almost \n",
      "anywhere in the network to improve service levels. You can deploy the vNAM in the cloud to monitor hosted \n",
      "workloads, at remote sites to characterize the end -user experience, or almost anywhere in the network to elim inate \n",
      "blind spots. It combines deep application awareness, insightful performance analytics, and comprehensive network \n",
      "visibility to empower network administrators to efficiently and effectively manage their networks.  \n",
      "Figure 1.   Cisco Prime NAM Traffic Summary Dashbo ard \n",
      " \n",
      "Cisco Prime vNAM’s versatility allows you to:  \n",
      "● Gain Layer 4 -Layer 7 visibility using Cisco® Network -Based Application Recognition 2 (NBAR2) natively to \n",
      "easily identify business -critical applications  \n",
      "● Understand traffic behavior within overlay technolog ies such as VXLAN, LISP, and OTV  \n",
      "● Analyze network usage by application, host or Virtual Machine (VM), and conversation to identify \n",
      "bottlenecks  that may affect performance and availability  \n",
      "\n",
      "\n",
      "----------Chunk 8----------\n",
      " \n",
      " \n",
      "© 2014 Cisco and/or its affiliates . All rights reserved. This document is Cisco Public Information.  Page 3 of 5 Feature  Benefit  \n",
      "Detailed traffic analytics  View short - and long -term traffic data on the hosts, conversations, and applications using critical network \n",
      "resources.  \n",
      "Deep, insi ghtful packet \n",
      "captures  Solve complex performance issues with triggered or scheduled captures, display filters, decodes, and error scan \n",
      "features. Packet captures can be triggered based on performance thresholds, allowing you to focus on issues of \n",
      "interest. In addition, utilize external storage to collect extensive packet captures for offline analysis.  \n",
      "Granular reporting  Eliminate distortions that may arise from longer update intervals. NAM gives you the option to obtain updates \n",
      "every three seconds, when nee ded, to help design and troubleshoot your network.  \n",
      "CAPWAP traffic analytics  Get visibility into CAPWAP tunnels and improve service delivery over the wireless access network. Quickly identify \n",
      "network bottlenecks and application performance issues on a per access point or per endpoint basis.  \n",
      "Virtual Switching System \n",
      "(VSS) monitoring  Monitor both virtual switches in VSS environments, reducing management overhead while improving operational \n",
      "efficiency.  \n",
      "WAN -optimized network \n",
      "visibility  Obtain end -to-end proof  points demonstrating how Cisco Wide Area Application Services (WAAS) has improved \n",
      "application delivery (for example, decreased application transaction times, improved WAN bandwidth utilization). \n",
      "Accelerate the return on investment (ROI) by assessing the b est site and application candidates for optimization as \n",
      "part of a phased rollout plan.  \n",
      "IEEE 1588 hardware time -\n",
      "stamping  Facilitate high precision application response time, jitter, and packet capture analysis with IEEE 1588 hardware \n",
      "time stamps.  \n",
      "Historic al analysis  Look back to the past with the embedded Performance Database to understand what happened when an event \n",
      "that affects network performance occurred. Accelerate root -cause analysis and prevent any reoccurrence. Use \n",
      "historical analysis for advancing  optimization and capacity decisions.  \n",
      "Pre- and postdeployment \n",
      "analysis  Glean valuable before and after traffic analytics to help plan for and verify changes in network resources, such as \n",
      "introducing new applications, establishing QoS policies, consolidati ng servers, and deploying VoIP.  \n",
      "Open interface  Ease NAM configuration and export of computed NAM data using REST/XML -based APIs.  \n",
      "Anytime, anywhere access  Access the web interface from any desktop, eliminating the need to send personnel to remote sites or  haul large \n",
      "amounts of data over WAN links to the central site.  \n",
      "Cisco Prime Infrastructure \n",
      "integration  Manage the NAM from a single, centralized console. Collect and view NAM statistics from across the network to \n",
      "get a big picture view of network performa nce.  \n",
      "Product Specifications  \n",
      "Table 2 lists the product  specifications.  \n",
      "Table 2.  Product  Specifications  \n",
      "Feature  Description  \n",
      "NAM -3 architecture  ● Two high -performance CPUs with hardware -based packet acceleration offering greater than 10 Gigabit \n",
      "Ethernet monitoring pe rformance, 24 GB RAM, 600 GB SATA hard disk drive, mini SAS, and 10 Gigabit \n",
      "Ethernet external storage interface, and 1 Gigabit Ethernet management interface  \n",
      "● 20 gigabit interface to backplane for Switched Port Analyzer (SPAN)/VLAN access control list (VACL)  capture \n",
      "data sources, NetFlow, encapsulated remote SPAN (ERSPAN), and Cisco WAAS Flow Agent data sources  \n",
      "Supported platforms  ● NAM -3 can be deployed in a slot in Cisco Catalyst 6500 -E or Catalyst 6807 Switches with Supervisor Engine \n",
      "2T (supported part numb ers: VS -S2T-10G, VS -S2T-10G-XL) or Cisco Catalyst 6500 -E Switches with \n",
      "Supervisor Engine 720 (supported part numbers: WS -SUP720 -3B, WS -SUP720 -3BXL, VS -S720 -10G-3C, VS -\n",
      "S720 -10G-3CXL)  \n",
      "● Supported with Cisco IOS® Software 12.2(33)SXJ1(minimum) for Supervisor En gine 720 and Cisco IOS \n",
      "Software release 15.0(1)SY1 (minimum) for Supervisor Engine 2T  \n",
      "Supported topologies and \n",
      "data sources  ● LAN: SPAN, RSPAN, ERSPAN, VACL -based captures, NetFlow (versions 5 and 9), and Cisco WAAS Flow \n",
      "Agent  \n",
      "● WAN: NetFlow (versions 5 and 9 ) from local and remote devices, VACL -based captures for FlexWAN/Optical \n",
      "Service Module (OSM), and Shared Port Adapter (SPA) interfaces, and WAAS Flow Agent  \n",
      "Supported communication \n",
      "protocols  ● HTTP and HTTPS with embedded web -based Cisco Prime NAM Software  \n",
      "● Simple Network Management Protocol Version 1 (SNMPv1) and Version 2c, with standards -based applications  \n",
      "Cisco Prime Network \n",
      "Analysis Module Software  ● Cisco Prime NAM Software 6.1  \n",
      "● Web-based: Requires Microsoft Internet Explorer 10 or later or Mozilla Firefo x ESR 24 or later  \n",
      "● Supports Secure Sockets Layer (SSL) security with up to 256 -bit encryption  \n",
      "● Role-based user authorization and authentication locally or using TACACS+  \n",
      "● Supported with Cisco IOS Software Release 12.2(33) SXJ1 (minimum). Refer to the Cisco Pri me NAM 6.1 \n",
      "Release Notes for more details regarding supported system software.  \n",
      "\n",
      "----------Chunk 9----------\n",
      " \n",
      " \n",
      "© 2018 Cisco and/or its affiliates . All rights reserved. This document is Cisco Public Information.  Page 2 of 7 ● Troubleshoot performance problems by combining detailed traffic flow and packet analysis consistently \n",
      "across physical and virtual environments  \n",
      "● Validate infrastructure updates such as WAN optimization, Cisco TrustSec®, and Quality -of-Service (QoS) \n",
      "policy changes  \n",
      "● Take advantage of an integrated web -based interface to manage a  site remotely, eliminating the need to \n",
      "backhaul the data to a centralized location and saving WAN bandwidth  \n",
      "Cisco Prime vNAM comes with a remotely accessible web -based management and reporting console (Figure 1), \n",
      "which runs the Cisco Prime Network Analysi s Module Software. The software includes prepackaged dashboards \n",
      "that provide an immediate view of network performance and workflows that help accelerate operational decisions.  \n",
      "Extending Cisco Application Visibility and Control  to the Data Center  \n",
      "With Cisco  Prime vNAM 6.2, the vNAM just got richer. Cisco Prime v NAM 6.2 builds on the features and \n",
      "improvements in 6.1. Sp ecifically, 6.2 terminates Encapsulated Remote Switched Port Analyzer ( ERSPAN ), \n",
      "extends video traffic monitoring capabilities , and implements a smart licensing scheme . Terminating the high -\n",
      "speed ERSPAN at the vNAM, rather than at the switch, enables the vNAM to access the Type III ERSPAN header. \n",
      "The benefits are that the vNAM can be an IP endpoint as well as a SPAN destination, and can perform centralized \n",
      "packet -level monitoring and troubleshooting. With the new video monitoring capabi lities, the v NAM can now \n",
      "monitor live video sessions and provide video quality and analytics, similar to voice/ Real-Time Protocol ( RTP) calls. \n",
      "Smart licensing allow s the user to dynamically choose performance levels (150  Mbps  or 1 Gbps) . However, the \n",
      "traditional licensing scheme is also availab le, in case smart licen sing is un available  or not suitable in a specific \n",
      "deployment . All these features are in addition to Ci sco NBAR2, implemented in Cisco Prime vNAM 6.1. NBAR2 is a \n",
      "Cisco technology included in Cisco Application Visibility and Control (AVC) solutions that performs Deep Packet \n",
      "Inspection (DPI) to automatically recognize and classify applications to Layer 7. With it, the v NAM can provide \n",
      "visibility into the performance of your business -critical applications , no matter where they are hosted or how they \n",
      "are distributed. It can tell you whether trans action times are fast or slow. It can give you information on who’s  \n",
      "accessing the apps, which ones, how much, and when. And with these insights, it can help you prioritize those that \n",
      "the business depends on and throttle those that are less relevant. It enables more efficient and more economical \n",
      "operations. And all of it is now included natively in Cisco Prime vNAM.  \n",
      "Cisco Prime vNAM Features and Benefits  \n",
      "The Cisco Prime vNAM offers an extensive set of features (Table 1), all in one value -based solution.  \n",
      "Table 1.  Cisco Prime vNAM Features and Benefits  \n",
      "Feature  Benefit  \n",
      "Deployment versatility  Meet the demand for operational agility in virtualized data center and cloud environments. Deploy Cisco Prime \n",
      "vNAM in tenant network containers, remote sit es, or almost any place  in the network to address specific \n",
      "operational needs with its insightful analytics and purpose -built GUI.  \n",
      "DPI with NBAR2  Get rapid visibility into how your business -critical applications are performing. Cisco Prime NAM with NBAR2 \n",
      "allows classification of IPv4, IPv6, and v6 transition techniques, evasive applications such as Skype and Tor, \n",
      "business applications such as Microsoft Lync, cloud applications such as Office 365, and even mobile applications \n",
      "such as FaceTime using advanced classification techniques. Protocol Packs make updates timely and smooth.  \n",
      "Application performance \n",
      "analytics  Characterize the end -user experience for TCP -based applications and isolate application response -time problems \n",
      "to the network, server, or the application, to accelerate troubleshooting.  \n",
      "Voice quality analytics  Gather real -time reports on Mean Opinion Score (MOS) and other Key Performance Indicators (KPIs) such as \n",
      "jitter and packet loss to understand and improve how the end user experiences the delivery of voice services. \n",
      "MOS is computed based on ITU -T Recommendations G.107, offering accurate characterization of voice quality.  \n",
      "\n",
      "----------Chunk 10----------\n",
      " \n",
      " Data Sheet  \n",
      "© 2011 Cisco and/or its affiliates . All rights reserved. This document is Cisco Public Information.  Page 3 of 8 Figure 3.   Application Performance Troubleshooting Workflow  \n",
      " \n",
      "● Redesigned  GUI simplif ies monitoring and troubleshooting:  The Cisco NAM’s new GUI includes \n",
      "preconfigured dashboards that provide a comprehensive graphical overview of network performance so you \n",
      "can immediately grasp if all is well or if a problem is emerging. It also includes w orkflows with helpful features \n",
      "such as contextual navigation, interactive reports, and one -click packet captures (Figure 3).  The NAM’s GUI \n",
      "reduces not only the time it takes to solve problems, but also the time it takes to learn the product, giving you \n",
      "more time to spend on advancing new business initiatives.  \n",
      "● NetFlow and packet data analysis in one box offer unprecedented levels of breadth and depth:  NetFlow \n",
      "and packet data complement each other to provide a powerful monitoring solution, all in one box. Wit h \n",
      "expanded NetFlow reporting capabilities, you can obtain an extensive view of traffic usage information, such \n",
      "as who is using your network, what applications they’re using, and how much bandwidth is being consumed. \n",
      "Pinpointing traffic of interest, you can  use packet -based data to perform a “deeper dive” to quickly spot and \n",
      "address performance -affecting issues.  \n",
      "\n"
     ]
    }
   ],
   "source": [
    "cisco_qa_search_tool(product_question=query1,\n",
    "                     product_name=product_name,\n",
    "                     top_n_chunks = 10, \n",
    "                     print_sources=True,\n",
    "                     print_chunks=True, \n",
    "                     model='gpt-3.5-turbo-16k')"
   ]
  },
  {
   "cell_type": "code",
   "execution_count": null,
   "id": "144ca76e-784e-4ce3-b90b-64993b70ed1d",
   "metadata": {},
   "outputs": [],
   "source": []
  }
 ],
 "metadata": {
  "kernelspec": {
   "display_name": "Python 3 (ipykernel)",
   "language": "python",
   "name": "python3"
  },
  "language_info": {
   "codemirror_mode": {
    "name": "ipython",
    "version": 3
   },
   "file_extension": ".py",
   "mimetype": "text/x-python",
   "name": "python",
   "nbconvert_exporter": "python",
   "pygments_lexer": "ipython3",
   "version": "3.11.4"
  }
 },
 "nbformat": 4,
 "nbformat_minor": 5
}
