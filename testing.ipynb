{
 "cells": [
  {
   "cell_type": "code",
   "execution_count": 1,
   "id": "1e4bfe28-02c5-4f6f-8078-7a0f7c1a43e5",
   "metadata": {},
   "outputs": [],
   "source": [
    "from dotenv import find_dotenv, load_dotenv\n",
    "\n",
    "from web_tools import get_source, scrape_google\n",
    "from pdf_tools import load_pdf_as_doc, download_pdf_and_return_doc, generate_cisco_metadata, return_pdf_docs\n",
    "from vectorstore_tools import return_pinecone_vectorstore\n",
    "from return_new import return_new_links, return_new_docs"
   ]
  },
  {
   "cell_type": "code",
   "execution_count": 2,
   "id": "4236b8d5-e4a9-4d08-a3b0-17208d18c048",
   "metadata": {},
   "outputs": [
    {
     "data": {
      "text/plain": [
       "True"
      ]
     },
     "execution_count": 2,
     "metadata": {},
     "output_type": "execute_result"
    }
   ],
   "source": [
    "load_dotenv(find_dotenv(\"../.env\"))"
   ]
  },
  {
   "cell_type": "code",
   "execution_count": 3,
   "id": "643d0b22-0997-4508-ba5e-15639ec2aece",
   "metadata": {},
   "outputs": [],
   "source": [
    "website = 'www.cisco.com'\n",
    "additional_keywords = 'data sheet'"
   ]
  },
  {
   "cell_type": "code",
   "execution_count": 4,
   "id": "22cd96b4-d9ab-4ed0-b3f8-42c85a8c4b98",
   "metadata": {},
   "outputs": [
    {
     "name": "stderr",
     "output_type": "stream",
     "text": [
      "INFO:web_tools:get_source:Response for https://papir805.github.io/ successfully received.\n"
     ]
    }
   ],
   "source": [
    "response = get_source('https://papir805.github.io/')"
   ]
  },
  {
   "cell_type": "code",
   "execution_count": 5,
   "id": "7a292b08-9b85-4af4-b1a9-87b151c0f3e7",
   "metadata": {
    "collapsed": true,
    "jupyter": {
     "outputs_hidden": true
    },
    "tags": []
   },
   "outputs": [
    {
     "name": "stderr",
     "output_type": "stream",
     "text": [
      "DEBUG:web_tools:scrape_google:query_suffix:www.cisco.com+catalyst+9400+data+sheet\n",
      "DEBUG:web_tools:scrape_google:query:https://www.google.com/search?q=site%3Awww.cisco.com+catalyst+9400+data+sheet&lr=lang_en\n",
      "INFO:web_tools:get_source:Response for https://www.google.com/search?q=site%3Awww.cisco.com+catalyst+9400+data+sheet&lr=lang_en successfully received.\n",
      "2023-09-27 23:58:23.503 \n",
      "  \u001b[33m\u001b[1mWarning:\u001b[0m to view this Streamlit app on a browser, run it with the following\n",
      "  command:\n",
      "\n",
      "    streamlit run /Users/rancher/miniconda3/envs/ox/lib/python3.11/site-packages/ipykernel_launcher.py [ARGUMENTS]\n",
      "INFO:web_tools:scrape_google:30 intial links found.\n",
      "DEBUG:web_tools:scrape_google:Initial links are: ['https://www.google.com/search?lr=lang_en&sca_esv=569062438&tbs=lr:lang_1en&q=site:www.cisco.com+catalyst+9400+data+sheet&tbm=shop&source=lnms&sa=X&ved=2ahUKEwjWxcur3cyBAxXSK0QIHRYnC5oQ0pQJegQICxAB', 'https://www.cisco.com/c/en/us/products/collateral/switches/catalyst-9400-series-switches/nb-06-cat9400-ser-sup-eng-data-sheet-cte-en.html', 'https://www.cisco.com/c/en/us/products/switches/catalyst-9400-series-switches/datasheet-listing.tab2.html', 'https://www.cisco.com/c/en/us/products/switches/catalyst-9400-series-switches/datasheet-listing.html', 'https://www.cisco.com/c/en/us/products/collateral/switches/catalyst-9400-series-switches/nb-06-cat9400-ser-sup-eng-data-sheet-cte-en.html#:~:text=Cisco%20Catalyst%209400%20Supervisor%20Engine%20Modules%20Data%20Sheet,-Data%20Sheet', 'https://www.cisco.com/c/en/us/products/collateral/switches/nexus-9000-series-switches/nexus9400-series-switches-ds.html', 'https://www.cisco.com/c/en_hk/products/switches/catalyst-9400-series-switches/index.html#:~:text=Features%20and%20benefits', 'https://www.cisco.com/c/en/us/products/collateral/switches/catalyst-9400-series-switches/nb-06-cat9400-ser-data-sheet-cte-en.html', 'https://www.google.com/search?lr=lang_en&sca_esv=569062438&tbs=lr:lang_1en&q=site:www.cisco.com+catalyst+9400+data+sheet&tbm=vid&source=lnms&sa=X&ved=2ahUKEwjWxcur3cyBAxXSK0QIHRYnC5oQ0pQJegQIDBAB', 'https://www.cisco.com/c/en/us/products/collateral/switches/catalyst-9400-series-switches/nb-06-cat9400-ser-sup-eng-data-sheet-cte-en.html#:~:text=Your%20organization%2C%20your%20operational%20needs,-Choose%20the%20management%20platform%20that', 'https://www.cisco.com/c/en/us/support/switches/catalyst-9400-series-switches/series.html', 'https://www.cisco.com/c/en_hk/products/switches/catalyst-9400-series-switches/index.html', 'https://www.cisco.com/c/en/us/products/collateral/switches/catalyst-9400-series-switches/nb-06-cat9400-swit-ser-cte-en.html', 'https://www.cisco.com/c/en/us/products/collateral/switches/catalyst-9400-series-switches/nb-06-cat9400-series-line-data-sheet-cte-en.html', 'https://www.cisco.com/c/en/us/products/collateral/switches/catalyst-9400-series-switches/nb-06-cat9400-ser-sup-eng-data-sheet-cte-en.html#:~:text=FAQ-,Learn%20more', 'https://www.google.com/webhp?hl=en&sa=X&ved=0ahUKEwjWxcur3cyBAxXSK0QIHRYnC5oQPAgJ', 'https://www.google.com/search?lr=lang_en&sca_esv=569062438&tbs=lr:lang_1en&q=site:www.cisco.com+catalyst+9400+data+sheet&tbm=nws&source=lnms&sa=X&ved=2ahUKEwjWxcur3cyBAxXSK0QIHRYnC5oQ0pQJegQICRAB', 'https://www.google.com/search?q=site:www.cisco.com+catalyst+9400+data+sheet&lr=lang_en&sca_esv=569062438&gbv=1&sei=DiQVZdaGMdLXkPIPls6s0Ak', 'https://www.cisco.com/c/en/us/products/collateral/switches/catalyst-9400-series-switches/nb-06-cat9400-ser-data-sheet-cte-en.html#:~:text=Cisco%20Catalyst%209400%20Series%20Switch%20Data%20Sheet,-Data%20Sheet', 'https://www.cisco.com/c/en/us/products/collateral/switches/catalyst-9400-series-switches/nb-06-cat9400-series-line-data-sheet-cte-en.html#:~:text=FAQ-,Learn%20more', 'https://www.cisco.com/c/en/us/products/collateral/switches/catalyst-9400-series-switches/nb-06-cat9400-architecture-cte-en.html', 'https://www.google.com/search?lr=lang_en&sca_esv=569062438&tbs=lr:lang_1en&q=site:www.cisco.com+catalyst+9400+data+sheet&tbm=isch&source=lnms&sa=X&ved=2ahUKEwjWxcur3cyBAxXSK0QIHRYnC5oQ0pQJegQIDRAB', 'https://www.cisco.com/c/en/us/products/collateral/switches/catalyst-9400-series-switches/nb-06-cat9400-ser-data-sheet-cte-en.html#:~:text=Your%20organization%2C%20your%20operational%20needs,-Choose%20the%20management%20platform%20that', 'https://www.cisco.com/c/en_hk/products/switches/catalyst-9400-series-switches/index.html#:~:text=News%20and%20events', 'https://www.cisco.com/c/en/us/products/collateral/switches/catalyst-9400-series-switches/nb-06-cat9400-series-line-data-sheet-cte-en.html#:~:text=Cisco%20Catalyst%209400%20Series%20Switch%20Line%20Cards%20Data%20Sheet,-Data%20Sheet', 'https://www.cisco.com/c/en/us/products/collateral/switches/catalyst-9400-series-switches/nb-06-cat9400-ser-data-sheet-cte-en.html#:~:text=FAQ-,Learn%20more', 'https://support.google.com/websearch/answer/181196?hl=en', 'https://www.cisco.com/c/en/us/products/collateral/switches/catalyst-9400-series-switches/nb-06-cat9400-series-line-data-sheet-cte-en.html#:~:text=Your%20organization%2C%20your%20operational%20needs,-Choose%20the%20management%20platform%20that', 'https://www.cisco.com/c/en_hk/products/switches/catalyst-9400-series-switches/index.html#:~:text=Converge%20wired%20and%20wireless%E2%80%8B%E2%80%8B,-The%20Catalyst%209400%20is%20the', 'https://www.google.com/search?q=site:www.cisco.com+catalyst+9400+data+sheet&lr=lang_en&sca_esv=569062438&tbs=lr:lang_1en&ei=DiQVZdaGMdLXkPIPls6s0Ak&start=10&sa=N']\n",
      "INFO:web_tools:scrape_google:22 useful links remain.\n",
      "DEBUG:web_tools:scrape_google:Remaining useful links:['https://www.cisco.com/c/en/us/products/collateral/switches/catalyst-9400-series-switches/nb-06-cat9400-architecture-cte-en.html', 'https://www.cisco.com/c/en/us/products/collateral/switches/catalyst-9400-series-switches/nb-06-cat9400-ser-data-sheet-cte-en.html', 'https://www.cisco.com/c/en/us/products/collateral/switches/catalyst-9400-series-switches/nb-06-cat9400-ser-data-sheet-cte-en.html#:~:text=Cisco%20Catalyst%209400%20Series%20Switch%20Data%20Sheet,-Data%20Sheet', 'https://www.cisco.com/c/en/us/products/collateral/switches/catalyst-9400-series-switches/nb-06-cat9400-ser-data-sheet-cte-en.html#:~:text=FAQ-,Learn%20more', 'https://www.cisco.com/c/en/us/products/collateral/switches/catalyst-9400-series-switches/nb-06-cat9400-ser-data-sheet-cte-en.html#:~:text=Your%20organization%2C%20your%20operational%20needs,-Choose%20the%20management%20platform%20that', 'https://www.cisco.com/c/en/us/products/collateral/switches/catalyst-9400-series-switches/nb-06-cat9400-ser-sup-eng-data-sheet-cte-en.html', 'https://www.cisco.com/c/en/us/products/collateral/switches/catalyst-9400-series-switches/nb-06-cat9400-ser-sup-eng-data-sheet-cte-en.html#:~:text=Cisco%20Catalyst%209400%20Supervisor%20Engine%20Modules%20Data%20Sheet,-Data%20Sheet', 'https://www.cisco.com/c/en/us/products/collateral/switches/catalyst-9400-series-switches/nb-06-cat9400-ser-sup-eng-data-sheet-cte-en.html#:~:text=FAQ-,Learn%20more', 'https://www.cisco.com/c/en/us/products/collateral/switches/catalyst-9400-series-switches/nb-06-cat9400-ser-sup-eng-data-sheet-cte-en.html#:~:text=Your%20organization%2C%20your%20operational%20needs,-Choose%20the%20management%20platform%20that', 'https://www.cisco.com/c/en/us/products/collateral/switches/catalyst-9400-series-switches/nb-06-cat9400-series-line-data-sheet-cte-en.html', 'https://www.cisco.com/c/en/us/products/collateral/switches/catalyst-9400-series-switches/nb-06-cat9400-series-line-data-sheet-cte-en.html#:~:text=Cisco%20Catalyst%209400%20Series%20Switch%20Line%20Cards%20Data%20Sheet,-Data%20Sheet', 'https://www.cisco.com/c/en/us/products/collateral/switches/catalyst-9400-series-switches/nb-06-cat9400-series-line-data-sheet-cte-en.html#:~:text=FAQ-,Learn%20more', 'https://www.cisco.com/c/en/us/products/collateral/switches/catalyst-9400-series-switches/nb-06-cat9400-series-line-data-sheet-cte-en.html#:~:text=Your%20organization%2C%20your%20operational%20needs,-Choose%20the%20management%20platform%20that', 'https://www.cisco.com/c/en/us/products/collateral/switches/catalyst-9400-series-switches/nb-06-cat9400-swit-ser-cte-en.html', 'https://www.cisco.com/c/en/us/products/collateral/switches/nexus-9000-series-switches/nexus9400-series-switches-ds.html', 'https://www.cisco.com/c/en/us/products/switches/catalyst-9400-series-switches/datasheet-listing.html', 'https://www.cisco.com/c/en/us/products/switches/catalyst-9400-series-switches/datasheet-listing.tab2.html', 'https://www.cisco.com/c/en/us/support/switches/catalyst-9400-series-switches/series.html', 'https://www.cisco.com/c/en_hk/products/switches/catalyst-9400-series-switches/index.html', 'https://www.cisco.com/c/en_hk/products/switches/catalyst-9400-series-switches/index.html#:~:text=Converge%20wired%20and%20wireless%E2%80%8B%E2%80%8B,-The%20Catalyst%209400%20is%20the', 'https://www.cisco.com/c/en_hk/products/switches/catalyst-9400-series-switches/index.html#:~:text=Features%20and%20benefits', 'https://www.cisco.com/c/en_hk/products/switches/catalyst-9400-series-switches/index.html#:~:text=News%20and%20events']\n"
     ]
    }
   ],
   "source": [
    "product_name = 'catalyst 9400'\n",
    "\n",
    "links1 = scrape_google(website_url=website, \n",
    "                       product_name=product_name,\n",
    "                       additional_search_text=additional_keywords)"
   ]
  },
  {
   "cell_type": "code",
   "execution_count": 6,
   "id": "76cbe85a-67b5-4de7-8e20-4bac81cd5433",
   "metadata": {},
   "outputs": [],
   "source": [
    "html_path = \"https://www.cisco.com/c/en/us/products/collateral/interfaces-modules/catalyst-4500-series-supervisor-engine-ii-plus-ts/product_data_sheet0900aecd8017a0c5.pdf\"\n",
    "local_path = \"./pdf1.pdf\"\n",
    "filename=\"pdf1.pdf\""
   ]
  },
  {
   "cell_type": "code",
   "execution_count": 7,
   "id": "d49c18b1-a46e-4a3b-b989-af7bb1ed4875",
   "metadata": {},
   "outputs": [
    {
     "name": "stderr",
     "output_type": "stream",
     "text": [
      "INFO:web_tools:get_source:Response for https://www.cisco.com/c/en/us/products/collateral/interfaces-modules/catalyst-4500-series-supervisor-engine-ii-plus-ts/product_data_sheet0900aecd8017a0c5.pdf successfully received.\n",
      "INFO:pdf_tools:load_pdf_as_doc:Loading 14 page document\n",
      "INFO:pdf_tools:load_pdf_as_doc:All pages loaded.\n"
     ]
    }
   ],
   "source": [
    "doc1 = download_pdf_and_return_doc(html_path, filename)"
   ]
  },
  {
   "cell_type": "code",
   "execution_count": 8,
   "id": "de94ddf0-2d4d-41a9-91ac-54b390be1dff",
   "metadata": {
    "tags": []
   },
   "outputs": [
    {
     "name": "stderr",
     "output_type": "stream",
     "text": [
      "INFO:pdf_tools:load_pdf_as_doc:Loading 14 page document\n",
      "INFO:pdf_tools:load_pdf_as_doc:All pages loaded.\n"
     ]
    }
   ],
   "source": [
    "doc1 = load_pdf_as_doc(html_path, local_path, filename)"
   ]
  },
  {
   "cell_type": "code",
   "execution_count": 9,
   "id": "4176371e-ec6a-4d09-ba7b-1aa685b1b51a",
   "metadata": {},
   "outputs": [
    {
     "name": "stderr",
     "output_type": "stream",
     "text": [
      "INFO:web_tools:get_source:Response for https://www.cisco.com/c/en/us/products/collateral/interfaces-modules/catalyst-4500-series-supervisor-engine-ii-plus-ts/product_data_sheet0900aecd8017a0c5s.html failed.\n"
     ]
    }
   ],
   "source": [
    "fake_html_path = \"https://www.cisco.com/c/en/us/products/collateral/interfaces-modules/catalyst-4500-series-supervisor-engine-ii-plus-ts/product_data_sheet0900aecd8017a0c5s.html\"\n",
    "download_pdf_and_return_doc(fake_html_path, filename)"
   ]
  },
  {
   "cell_type": "code",
   "execution_count": 10,
   "id": "8141750c-24e8-49c0-9bfe-97e2b720a187",
   "metadata": {},
   "outputs": [],
   "source": [
    "doc1_with_metadata = generate_cisco_metadata(doc1)"
   ]
  },
  {
   "cell_type": "code",
   "execution_count": 11,
   "id": "40b644e6-5cc4-4c66-b580-cb74d3f87d22",
   "metadata": {},
   "outputs": [
    {
     "data": {
      "text/plain": [
       "{'source': 'https://www.cisco.com/c/en/us/products/collateral/interfaces-modules/catalyst-4500-series-supervisor-engine-ii-plus-ts/product_data_sheet0900aecd8017a0c5.pdf',\n",
       " 'page': 1,\n",
       " 'filename': 'pdf1.pdf',\n",
       " 'product_category': 'interfaces-modules',\n",
       " 'product_name': 'catalyst-4500-series-supervisor-engine-ii-plus-ts'}"
      ]
     },
     "execution_count": 11,
     "metadata": {},
     "output_type": "execute_result"
    }
   ],
   "source": [
    "doc1_with_metadata[0].metadata"
   ]
  },
  {
   "cell_type": "code",
   "execution_count": 12,
   "id": "217dd987-c720-4130-960e-209aa4505b7d",
   "metadata": {
    "tags": []
   },
   "outputs": [
    {
     "name": "stderr",
     "output_type": "stream",
     "text": [
      "INFO:web_tools:get_source:Response for https://www.cisco.com/c/en/us/products/collateral/switches/catalyst-9400-series-switches/nb-06-cat9400-architecture-cte-en.pdf successfully received.\n",
      "INFO:pdf_tools:load_pdf_as_doc:Loading 30 page document\n",
      "INFO:pdf_tools:load_pdf_as_doc:All pages loaded.\n",
      "INFO:web_tools:get_source:Response for https://www.cisco.com/c/en/us/products/collateral/switches/catalyst-9400-series-switches/nb-06-cat9400-ser-data-sheet-cte-en.pdf successfully received.\n",
      "INFO:pdf_tools:load_pdf_as_doc:Loading 22 page document\n",
      "INFO:pdf_tools:load_pdf_as_doc:All pages loaded.\n",
      "INFO:web_tools:get_source:Response for https://www.cisco.com/c/en/us/products/collateral/switches/catalyst-9400-series-switches/nb-06-cat9400-ser-sup-eng-data-sheet-cte-en.pdf successfully received.\n",
      "INFO:pdf_tools:load_pdf_as_doc:Loading 36 page document\n",
      "INFO:pdf_tools:load_pdf_as_doc:All pages loaded.\n",
      "INFO:web_tools:get_source:Response for https://www.cisco.com/c/en/us/products/collateral/switches/catalyst-9400-series-switches/nb-06-cat9400-series-line-data-sheet-cte-en.pdf successfully received.\n",
      "INFO:pdf_tools:load_pdf_as_doc:Loading 28 page document\n",
      "INFO:pdf_tools:load_pdf_as_doc:All pages loaded.\n",
      "INFO:web_tools:get_source:Response for https://www.cisco.com/c/en/us/products/collateral/switches/catalyst-9400-series-switches/nb-06-cat9400-swit-ser-cte-en.pdf successfully received.\n",
      "INFO:pdf_tools:load_pdf_as_doc:Loading 39 page document\n",
      "INFO:pdf_tools:load_pdf_as_doc:All pages loaded.\n",
      "INFO:web_tools:get_source:Response for https://www.cisco.com/c/en/us/products/collateral/switches/nexus-9000-series-switches/nexus9400-series-switches-ds.pdf successfully received.\n",
      "INFO:pdf_tools:load_pdf_as_doc:Loading 10 page document\n",
      "INFO:pdf_tools:load_pdf_as_doc:All pages loaded.\n",
      "INFO:web_tools:get_source:Response for https://www.cisco.com/c/en/us/products/switches/catalyst-9400-series-switches/datasheet-listing.pdf successfully received.\n",
      "INFO:pdf_tools:return_pdf_docs:Error occurred: https://www.cisco.com/c/en/us/products/switches/catalyst-9400-series-switches/datasheet-listing.html not available as PDF file.\n",
      "ERROR:pdf_tools:return_pdf_docs:'NoneType' object is not iterable\n",
      "Traceback (most recent call last):\n",
      "  File \"/Users/rancher/Google Drive/Coding/langchain/cisco_qa_tool/pdf_tools.py\", line 208, in return_pdf_docs\n",
      "    pdf_doc = generate_cisco_metadata(pdf_doc)\n",
      "              ^^^^^^^^^^^^^^^^^^^^^^^^^^^^^^^^\n",
      "  File \"/Users/rancher/Google Drive/Coding/langchain/cisco_qa_tool/pdf_tools.py\", line 126, in generate_cisco_metadata\n",
      "    for page in pdf_doc:\n",
      "TypeError: 'NoneType' object is not iterable\n",
      "INFO:web_tools:get_source:Response for https://www.cisco.com/c/en/us/products/switches/catalyst-9400-series-switches/datasheet-listing.tab2.pdf failed.\n",
      "INFO:pdf_tools:return_pdf_docs:Error occurred: https://www.cisco.com/c/en/us/products/switches/catalyst-9400-series-switches/datasheet-listing.tab2.html not available as PDF file.\n",
      "ERROR:pdf_tools:return_pdf_docs:'NoneType' object is not iterable\n",
      "Traceback (most recent call last):\n",
      "  File \"/Users/rancher/Google Drive/Coding/langchain/cisco_qa_tool/pdf_tools.py\", line 208, in return_pdf_docs\n",
      "    pdf_doc = generate_cisco_metadata(pdf_doc)\n",
      "              ^^^^^^^^^^^^^^^^^^^^^^^^^^^^^^^^\n",
      "  File \"/Users/rancher/Google Drive/Coding/langchain/cisco_qa_tool/pdf_tools.py\", line 126, in generate_cisco_metadata\n",
      "    for page in pdf_doc:\n",
      "TypeError: 'NoneType' object is not iterable\n",
      "INFO:web_tools:get_source:Response for https://www.cisco.com/c/en/us/support/switches/catalyst-9400-series-switches/series.pdf successfully received.\n",
      "INFO:pdf_tools:return_pdf_docs:Error occurred: https://www.cisco.com/c/en/us/support/switches/catalyst-9400-series-switches/series.html not available as PDF file.\n",
      "ERROR:pdf_tools:return_pdf_docs:'NoneType' object is not iterable\n",
      "Traceback (most recent call last):\n",
      "  File \"/Users/rancher/Google Drive/Coding/langchain/cisco_qa_tool/pdf_tools.py\", line 208, in return_pdf_docs\n",
      "    pdf_doc = generate_cisco_metadata(pdf_doc)\n",
      "              ^^^^^^^^^^^^^^^^^^^^^^^^^^^^^^^^\n",
      "  File \"/Users/rancher/Google Drive/Coding/langchain/cisco_qa_tool/pdf_tools.py\", line 126, in generate_cisco_metadata\n",
      "    for page in pdf_doc:\n",
      "TypeError: 'NoneType' object is not iterable\n",
      "INFO:web_tools:get_source:Response for https://www.cisco.com/c/en_hk/products/switches/catalyst-9400-series-switches/index.pdf successfully received.\n",
      "INFO:pdf_tools:return_pdf_docs:Error occurred: https://www.cisco.com/c/en_hk/products/switches/catalyst-9400-series-switches/index.html not available as PDF file.\n",
      "ERROR:pdf_tools:return_pdf_docs:'NoneType' object is not iterable\n",
      "Traceback (most recent call last):\n",
      "  File \"/Users/rancher/Google Drive/Coding/langchain/cisco_qa_tool/pdf_tools.py\", line 208, in return_pdf_docs\n",
      "    pdf_doc = generate_cisco_metadata(pdf_doc)\n",
      "              ^^^^^^^^^^^^^^^^^^^^^^^^^^^^^^^^\n",
      "  File \"/Users/rancher/Google Drive/Coding/langchain/cisco_qa_tool/pdf_tools.py\", line 126, in generate_cisco_metadata\n",
      "    for page in pdf_doc:\n",
      "TypeError: 'NoneType' object is not iterable\n"
     ]
    }
   ],
   "source": [
    "docs1 = return_pdf_docs(links1, is_cisco_datasheet=True)"
   ]
  },
  {
   "cell_type": "code",
   "execution_count": 13,
   "id": "f15fb485-e2db-47cb-8513-2668fd6b4e89",
   "metadata": {},
   "outputs": [
    {
     "name": "stderr",
     "output_type": "stream",
     "text": [
      "/Users/rancher/miniconda3/envs/ox/lib/python3.11/site-packages/pinecone/index.py:4: TqdmExperimentalWarning: Using `tqdm.autonotebook.tqdm` in notebook mode. Use `tqdm.tqdm` instead to force console mode (e.g. in jupyter console)\n",
      "  from tqdm.autonotebook import tqdm\n",
      "INFO:vectorstore_tools:return_pinecone_vectorstore:Connection established with Pinecone vectorstore.\n",
      "INFO:vectorstore_tools:Connection established with Pinecone vectorstore.\n"
     ]
    }
   ],
   "source": [
    "index_name = \"cisco-knowledgebase\"\n",
    "vectordb = return_pinecone_vectorstore(index_name)"
   ]
  },
  {
   "cell_type": "code",
   "execution_count": 14,
   "id": "07c0861c-ab3e-42fc-a89e-803bd2e91c95",
   "metadata": {
    "collapsed": true,
    "jupyter": {
     "outputs_hidden": true
    },
    "tags": []
   },
   "outputs": [
    {
     "name": "stderr",
     "output_type": "stream",
     "text": [
      "INFO:return_new:return_new_links:22 links.  Checking which links are already connected to a PDF in the vectordb.\n",
      "INFO:return_new:22 links.  Checking which links are already connected to a PDF in the vectordb.\n",
      "DEBUG:return_new:https://www.cisco.com/c/en/us/products/collateral/switches/catalyst-9400-series-switches/nb-06-cat9400-architecture-cte-en.html not found in database\n",
      "DEBUG:return_new:https://www.cisco.com/c/en/us/products/collateral/switches/catalyst-9400-series-switches/nb-06-cat9400-ser-data-sheet-cte-en.html not found in database\n",
      "DEBUG:return_new:https://www.cisco.com/c/en/us/products/collateral/switches/catalyst-9400-series-switches/nb-06-cat9400-ser-data-sheet-cte-en.html#:~:text=Cisco%20Catalyst%209400%20Series%20Switch%20Data%20Sheet,-Data%20Sheet not found in database\n",
      "DEBUG:return_new:https://www.cisco.com/c/en/us/products/collateral/switches/catalyst-9400-series-switches/nb-06-cat9400-ser-data-sheet-cte-en.html#:~:text=FAQ-,Learn%20more not found in database\n",
      "DEBUG:return_new:https://www.cisco.com/c/en/us/products/collateral/switches/catalyst-9400-series-switches/nb-06-cat9400-ser-data-sheet-cte-en.html#:~:text=Your%20organization%2C%20your%20operational%20needs,-Choose%20the%20management%20platform%20that not found in database\n",
      "DEBUG:return_new:https://www.cisco.com/c/en/us/products/collateral/switches/catalyst-9400-series-switches/nb-06-cat9400-ser-sup-eng-data-sheet-cte-en.html not found in database\n",
      "DEBUG:return_new:https://www.cisco.com/c/en/us/products/collateral/switches/catalyst-9400-series-switches/nb-06-cat9400-ser-sup-eng-data-sheet-cte-en.html#:~:text=Cisco%20Catalyst%209400%20Supervisor%20Engine%20Modules%20Data%20Sheet,-Data%20Sheet not found in database\n",
      "DEBUG:return_new:https://www.cisco.com/c/en/us/products/collateral/switches/catalyst-9400-series-switches/nb-06-cat9400-ser-sup-eng-data-sheet-cte-en.html#:~:text=FAQ-,Learn%20more not found in database\n",
      "DEBUG:return_new:https://www.cisco.com/c/en/us/products/collateral/switches/catalyst-9400-series-switches/nb-06-cat9400-ser-sup-eng-data-sheet-cte-en.html#:~:text=Your%20organization%2C%20your%20operational%20needs,-Choose%20the%20management%20platform%20that not found in database\n",
      "DEBUG:return_new:https://www.cisco.com/c/en/us/products/collateral/switches/catalyst-9400-series-switches/nb-06-cat9400-series-line-data-sheet-cte-en.html not found in database\n",
      "DEBUG:return_new:https://www.cisco.com/c/en/us/products/collateral/switches/catalyst-9400-series-switches/nb-06-cat9400-series-line-data-sheet-cte-en.html#:~:text=Cisco%20Catalyst%209400%20Series%20Switch%20Line%20Cards%20Data%20Sheet,-Data%20Sheet not found in database\n",
      "DEBUG:return_new:https://www.cisco.com/c/en/us/products/collateral/switches/catalyst-9400-series-switches/nb-06-cat9400-series-line-data-sheet-cte-en.html#:~:text=FAQ-,Learn%20more not found in database\n",
      "DEBUG:return_new:https://www.cisco.com/c/en/us/products/collateral/switches/catalyst-9400-series-switches/nb-06-cat9400-series-line-data-sheet-cte-en.html#:~:text=Your%20organization%2C%20your%20operational%20needs,-Choose%20the%20management%20platform%20that not found in database\n",
      "DEBUG:return_new:https://www.cisco.com/c/en/us/products/collateral/switches/catalyst-9400-series-switches/nb-06-cat9400-swit-ser-cte-en.html not found in database\n",
      "DEBUG:return_new:https://www.cisco.com/c/en/us/products/collateral/switches/nexus-9000-series-switches/nexus9400-series-switches-ds.html not found in database\n",
      "DEBUG:return_new:https://www.cisco.com/c/en/us/products/switches/catalyst-9400-series-switches/datasheet-listing.html not found in database\n",
      "DEBUG:return_new:https://www.cisco.com/c/en/us/products/switches/catalyst-9400-series-switches/datasheet-listing.tab2.html not found in database\n",
      "DEBUG:return_new:https://www.cisco.com/c/en/us/support/switches/catalyst-9400-series-switches/series.html not found in database\n",
      "DEBUG:return_new:https://www.cisco.com/c/en_hk/products/switches/catalyst-9400-series-switches/index.html not found in database\n",
      "DEBUG:return_new:https://www.cisco.com/c/en_hk/products/switches/catalyst-9400-series-switches/index.html#:~:text=Converge%20wired%20and%20wireless%E2%80%8B%E2%80%8B,-The%20Catalyst%209400%20is%20the not found in database\n",
      "DEBUG:return_new:https://www.cisco.com/c/en_hk/products/switches/catalyst-9400-series-switches/index.html#:~:text=Features%20and%20benefits not found in database\n",
      "DEBUG:return_new:https://www.cisco.com/c/en_hk/products/switches/catalyst-9400-series-switches/index.html#:~:text=News%20and%20events not found in database\n",
      "INFO:return_new:return_new_links:22 links not connected to any PDFs in the vectordb.\n",
      "INFO:return_new:22 links not connected to any PDFs in the vectordb.\n"
     ]
    }
   ],
   "source": [
    "new_links = return_new_links(links1, vectordb)"
   ]
  },
  {
   "cell_type": "code",
   "execution_count": 15,
   "id": "2a319f73-6da6-42b6-b099-604008433397",
   "metadata": {},
   "outputs": [
    {
     "name": "stderr",
     "output_type": "stream",
     "text": [
      "DEBUG:return_new:nb-06-cat9400-architecture-cte-en.pdf PDF document not found in database.\n",
      "DEBUG:return_new:nb-06-cat9400-ser-data-sheet-cte-en.pdf PDF document not found in database.\n",
      "DEBUG:return_new:nb-06-cat9400-ser-sup-eng-data-sheet-cte-en.pdf PDF document not found in database.\n",
      "DEBUG:return_new:nb-06-cat9400-series-line-data-sheet-cte-en.pdf PDF document not found in database.\n",
      "DEBUG:return_new:nb-06-cat9400-swit-ser-cte-en.pdf PDF document not found in database.\n",
      "DEBUG:return_new:nexus9400-series-switches-ds.pdf PDF document not found in database.\n",
      "INFO:return_new:return_new_docs:6 new document(s) not already present in the database.\n",
      "INFO:return_new:6 new document(s) not already present in the database.\n"
     ]
    }
   ],
   "source": [
    "new_docs = return_new_docs(docs1, vectordb)"
   ]
  },
  {
   "cell_type": "code",
   "execution_count": null,
   "id": "37af0e4e-1a9e-497c-9e72-e5e2f9b571b9",
   "metadata": {},
   "outputs": [],
   "source": []
  }
 ],
 "metadata": {
  "kernelspec": {
   "display_name": "Python 3 (ipykernel)",
   "language": "python",
   "name": "python3"
  },
  "language_info": {
   "codemirror_mode": {
    "name": "ipython",
    "version": 3
   },
   "file_extension": ".py",
   "mimetype": "text/x-python",
   "name": "python",
   "nbconvert_exporter": "python",
   "pygments_lexer": "ipython3",
   "version": "3.11.4"
  }
 },
 "nbformat": 4,
 "nbformat_minor": 5
}
